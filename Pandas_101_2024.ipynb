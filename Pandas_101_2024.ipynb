{
  "nbformat": 4,
  "nbformat_minor": 0,
  "metadata": {
    "colab": {
      "provenance": [],
      "collapsed_sections": [
        "xt-87iXzrkok",
        "LS8Dnzokhf7P",
        "yLOU4D22hihX",
        "8LZBxldugnjZ",
        "yAPSzhSRjJX2",
        "wedBfQPMePi6",
        "m5hChDmpjkyN",
        "RXTxJ5lYcJ0q"
      ],
      "toc_visible": true,
      "include_colab_link": true
    },
    "kernelspec": {
      "name": "python3",
      "display_name": "Python 3"
    }
  },
  "cells": [
    {
      "cell_type": "markdown",
      "metadata": {
        "id": "view-in-github",
        "colab_type": "text"
      },
      "source": [
        "<a href=\"https://colab.research.google.com/github/thamonS/python_dataviz2024/blob/main/Pandas_101_2024.ipynb\" target=\"_parent\"><img src=\"https://colab.research.google.com/assets/colab-badge.svg\" alt=\"Open In Colab\"/></a>"
      ]
    },
    {
      "cell_type": "markdown",
      "source": [
        "#import pandas"
      ],
      "metadata": {
        "id": "y2F_PUwbc_sp"
      }
    },
    {
      "cell_type": "code",
      "source": [
        "import pandas"
      ],
      "metadata": {
        "id": "j4qc4RdDn2nN"
      },
      "execution_count": null,
      "outputs": []
    },
    {
      "cell_type": "code",
      "source": [
        "pandas.DataFrame({'A':[1,2,3],'B':[2,3,4]})"
      ],
      "metadata": {
        "colab": {
          "base_uri": "https://localhost:8080/",
          "height": 143
        },
        "id": "OBYNVW9dn4k9",
        "outputId": "8277c63a-1b22-4383-a8e0-3b3d734d2e28"
      },
      "execution_count": null,
      "outputs": [
        {
          "output_type": "execute_result",
          "data": {
            "text/plain": [
              "   A  B\n",
              "0  1  2\n",
              "1  2  3\n",
              "2  3  4"
            ],
            "text/html": [
              "\n",
              "  <div id=\"df-4211d984-05be-4148-a105-dba51d965933\" class=\"colab-df-container\">\n",
              "    <div>\n",
              "<style scoped>\n",
              "    .dataframe tbody tr th:only-of-type {\n",
              "        vertical-align: middle;\n",
              "    }\n",
              "\n",
              "    .dataframe tbody tr th {\n",
              "        vertical-align: top;\n",
              "    }\n",
              "\n",
              "    .dataframe thead th {\n",
              "        text-align: right;\n",
              "    }\n",
              "</style>\n",
              "<table border=\"1\" class=\"dataframe\">\n",
              "  <thead>\n",
              "    <tr style=\"text-align: right;\">\n",
              "      <th></th>\n",
              "      <th>A</th>\n",
              "      <th>B</th>\n",
              "    </tr>\n",
              "  </thead>\n",
              "  <tbody>\n",
              "    <tr>\n",
              "      <th>0</th>\n",
              "      <td>1</td>\n",
              "      <td>2</td>\n",
              "    </tr>\n",
              "    <tr>\n",
              "      <th>1</th>\n",
              "      <td>2</td>\n",
              "      <td>3</td>\n",
              "    </tr>\n",
              "    <tr>\n",
              "      <th>2</th>\n",
              "      <td>3</td>\n",
              "      <td>4</td>\n",
              "    </tr>\n",
              "  </tbody>\n",
              "</table>\n",
              "</div>\n",
              "    <div class=\"colab-df-buttons\">\n",
              "\n",
              "  <div class=\"colab-df-container\">\n",
              "    <button class=\"colab-df-convert\" onclick=\"convertToInteractive('df-4211d984-05be-4148-a105-dba51d965933')\"\n",
              "            title=\"Convert this dataframe to an interactive table.\"\n",
              "            style=\"display:none;\">\n",
              "\n",
              "  <svg xmlns=\"http://www.w3.org/2000/svg\" height=\"24px\" viewBox=\"0 -960 960 960\">\n",
              "    <path d=\"M120-120v-720h720v720H120Zm60-500h600v-160H180v160Zm220 220h160v-160H400v160Zm0 220h160v-160H400v160ZM180-400h160v-160H180v160Zm440 0h160v-160H620v160ZM180-180h160v-160H180v160Zm440 0h160v-160H620v160Z\"/>\n",
              "  </svg>\n",
              "    </button>\n",
              "\n",
              "  <style>\n",
              "    .colab-df-container {\n",
              "      display:flex;\n",
              "      gap: 12px;\n",
              "    }\n",
              "\n",
              "    .colab-df-convert {\n",
              "      background-color: #E8F0FE;\n",
              "      border: none;\n",
              "      border-radius: 50%;\n",
              "      cursor: pointer;\n",
              "      display: none;\n",
              "      fill: #1967D2;\n",
              "      height: 32px;\n",
              "      padding: 0 0 0 0;\n",
              "      width: 32px;\n",
              "    }\n",
              "\n",
              "    .colab-df-convert:hover {\n",
              "      background-color: #E2EBFA;\n",
              "      box-shadow: 0px 1px 2px rgba(60, 64, 67, 0.3), 0px 1px 3px 1px rgba(60, 64, 67, 0.15);\n",
              "      fill: #174EA6;\n",
              "    }\n",
              "\n",
              "    .colab-df-buttons div {\n",
              "      margin-bottom: 4px;\n",
              "    }\n",
              "\n",
              "    [theme=dark] .colab-df-convert {\n",
              "      background-color: #3B4455;\n",
              "      fill: #D2E3FC;\n",
              "    }\n",
              "\n",
              "    [theme=dark] .colab-df-convert:hover {\n",
              "      background-color: #434B5C;\n",
              "      box-shadow: 0px 1px 3px 1px rgba(0, 0, 0, 0.15);\n",
              "      filter: drop-shadow(0px 1px 2px rgba(0, 0, 0, 0.3));\n",
              "      fill: #FFFFFF;\n",
              "    }\n",
              "  </style>\n",
              "\n",
              "    <script>\n",
              "      const buttonEl =\n",
              "        document.querySelector('#df-4211d984-05be-4148-a105-dba51d965933 button.colab-df-convert');\n",
              "      buttonEl.style.display =\n",
              "        google.colab.kernel.accessAllowed ? 'block' : 'none';\n",
              "\n",
              "      async function convertToInteractive(key) {\n",
              "        const element = document.querySelector('#df-4211d984-05be-4148-a105-dba51d965933');\n",
              "        const dataTable =\n",
              "          await google.colab.kernel.invokeFunction('convertToInteractive',\n",
              "                                                    [key], {});\n",
              "        if (!dataTable) return;\n",
              "\n",
              "        const docLinkHtml = 'Like what you see? Visit the ' +\n",
              "          '<a target=\"_blank\" href=https://colab.research.google.com/notebooks/data_table.ipynb>data table notebook</a>'\n",
              "          + ' to learn more about interactive tables.';\n",
              "        element.innerHTML = '';\n",
              "        dataTable['output_type'] = 'display_data';\n",
              "        await google.colab.output.renderOutput(dataTable, element);\n",
              "        const docLink = document.createElement('div');\n",
              "        docLink.innerHTML = docLinkHtml;\n",
              "        element.appendChild(docLink);\n",
              "      }\n",
              "    </script>\n",
              "  </div>\n",
              "\n",
              "\n",
              "<div id=\"df-2c2f969f-0cbb-4021-a703-5a0eca5309dd\">\n",
              "  <button class=\"colab-df-quickchart\" onclick=\"quickchart('df-2c2f969f-0cbb-4021-a703-5a0eca5309dd')\"\n",
              "            title=\"Suggest charts\"\n",
              "            style=\"display:none;\">\n",
              "\n",
              "<svg xmlns=\"http://www.w3.org/2000/svg\" height=\"24px\"viewBox=\"0 0 24 24\"\n",
              "     width=\"24px\">\n",
              "    <g>\n",
              "        <path d=\"M19 3H5c-1.1 0-2 .9-2 2v14c0 1.1.9 2 2 2h14c1.1 0 2-.9 2-2V5c0-1.1-.9-2-2-2zM9 17H7v-7h2v7zm4 0h-2V7h2v10zm4 0h-2v-4h2v4z\"/>\n",
              "    </g>\n",
              "</svg>\n",
              "  </button>\n",
              "\n",
              "<style>\n",
              "  .colab-df-quickchart {\n",
              "      --bg-color: #E8F0FE;\n",
              "      --fill-color: #1967D2;\n",
              "      --hover-bg-color: #E2EBFA;\n",
              "      --hover-fill-color: #174EA6;\n",
              "      --disabled-fill-color: #AAA;\n",
              "      --disabled-bg-color: #DDD;\n",
              "  }\n",
              "\n",
              "  [theme=dark] .colab-df-quickchart {\n",
              "      --bg-color: #3B4455;\n",
              "      --fill-color: #D2E3FC;\n",
              "      --hover-bg-color: #434B5C;\n",
              "      --hover-fill-color: #FFFFFF;\n",
              "      --disabled-bg-color: #3B4455;\n",
              "      --disabled-fill-color: #666;\n",
              "  }\n",
              "\n",
              "  .colab-df-quickchart {\n",
              "    background-color: var(--bg-color);\n",
              "    border: none;\n",
              "    border-radius: 50%;\n",
              "    cursor: pointer;\n",
              "    display: none;\n",
              "    fill: var(--fill-color);\n",
              "    height: 32px;\n",
              "    padding: 0;\n",
              "    width: 32px;\n",
              "  }\n",
              "\n",
              "  .colab-df-quickchart:hover {\n",
              "    background-color: var(--hover-bg-color);\n",
              "    box-shadow: 0 1px 2px rgba(60, 64, 67, 0.3), 0 1px 3px 1px rgba(60, 64, 67, 0.15);\n",
              "    fill: var(--button-hover-fill-color);\n",
              "  }\n",
              "\n",
              "  .colab-df-quickchart-complete:disabled,\n",
              "  .colab-df-quickchart-complete:disabled:hover {\n",
              "    background-color: var(--disabled-bg-color);\n",
              "    fill: var(--disabled-fill-color);\n",
              "    box-shadow: none;\n",
              "  }\n",
              "\n",
              "  .colab-df-spinner {\n",
              "    border: 2px solid var(--fill-color);\n",
              "    border-color: transparent;\n",
              "    border-bottom-color: var(--fill-color);\n",
              "    animation:\n",
              "      spin 1s steps(1) infinite;\n",
              "  }\n",
              "\n",
              "  @keyframes spin {\n",
              "    0% {\n",
              "      border-color: transparent;\n",
              "      border-bottom-color: var(--fill-color);\n",
              "      border-left-color: var(--fill-color);\n",
              "    }\n",
              "    20% {\n",
              "      border-color: transparent;\n",
              "      border-left-color: var(--fill-color);\n",
              "      border-top-color: var(--fill-color);\n",
              "    }\n",
              "    30% {\n",
              "      border-color: transparent;\n",
              "      border-left-color: var(--fill-color);\n",
              "      border-top-color: var(--fill-color);\n",
              "      border-right-color: var(--fill-color);\n",
              "    }\n",
              "    40% {\n",
              "      border-color: transparent;\n",
              "      border-right-color: var(--fill-color);\n",
              "      border-top-color: var(--fill-color);\n",
              "    }\n",
              "    60% {\n",
              "      border-color: transparent;\n",
              "      border-right-color: var(--fill-color);\n",
              "    }\n",
              "    80% {\n",
              "      border-color: transparent;\n",
              "      border-right-color: var(--fill-color);\n",
              "      border-bottom-color: var(--fill-color);\n",
              "    }\n",
              "    90% {\n",
              "      border-color: transparent;\n",
              "      border-bottom-color: var(--fill-color);\n",
              "    }\n",
              "  }\n",
              "</style>\n",
              "\n",
              "  <script>\n",
              "    async function quickchart(key) {\n",
              "      const quickchartButtonEl =\n",
              "        document.querySelector('#' + key + ' button');\n",
              "      quickchartButtonEl.disabled = true;  // To prevent multiple clicks.\n",
              "      quickchartButtonEl.classList.add('colab-df-spinner');\n",
              "      try {\n",
              "        const charts = await google.colab.kernel.invokeFunction(\n",
              "            'suggestCharts', [key], {});\n",
              "      } catch (error) {\n",
              "        console.error('Error during call to suggestCharts:', error);\n",
              "      }\n",
              "      quickchartButtonEl.classList.remove('colab-df-spinner');\n",
              "      quickchartButtonEl.classList.add('colab-df-quickchart-complete');\n",
              "    }\n",
              "    (() => {\n",
              "      let quickchartButtonEl =\n",
              "        document.querySelector('#df-2c2f969f-0cbb-4021-a703-5a0eca5309dd button');\n",
              "      quickchartButtonEl.style.display =\n",
              "        google.colab.kernel.accessAllowed ? 'block' : 'none';\n",
              "    })();\n",
              "  </script>\n",
              "</div>\n",
              "\n",
              "    </div>\n",
              "  </div>\n"
            ],
            "application/vnd.google.colaboratory.intrinsic+json": {
              "type": "dataframe",
              "summary": "{\n  \"name\": \"pandas\",\n  \"rows\": 3,\n  \"fields\": [\n    {\n      \"column\": \"A\",\n      \"properties\": {\n        \"dtype\": \"number\",\n        \"std\": 1,\n        \"min\": 1,\n        \"max\": 3,\n        \"num_unique_values\": 3,\n        \"samples\": [\n          1,\n          2,\n          3\n        ],\n        \"semantic_type\": \"\",\n        \"description\": \"\"\n      }\n    },\n    {\n      \"column\": \"B\",\n      \"properties\": {\n        \"dtype\": \"number\",\n        \"std\": 1,\n        \"min\": 2,\n        \"max\": 4,\n        \"num_unique_values\": 3,\n        \"samples\": [\n          2,\n          3,\n          4\n        ],\n        \"semantic_type\": \"\",\n        \"description\": \"\"\n      }\n    }\n  ]\n}"
            }
          },
          "metadata": {},
          "execution_count": 3
        }
      ]
    },
    {
      "cell_type": "markdown",
      "source": [
        "---\n"
      ],
      "metadata": {
        "id": "SzwOpiS_nsqP"
      }
    },
    {
      "cell_type": "code",
      "metadata": {
        "id": "-db5CJRNlwyL"
      },
      "source": [
        "import pandas as pd"
      ],
      "execution_count": 1,
      "outputs": []
    },
    {
      "cell_type": "code",
      "source": [
        "pd.DataFrame({'A':[1,2,3],'B':[2,3,4]})"
      ],
      "metadata": {
        "colab": {
          "base_uri": "https://localhost:8080/",
          "height": 143
        },
        "outputId": "d1be3898-af40-4eed-a294-cae2d3cf9904",
        "id": "n5cZqcVDoOpX"
      },
      "execution_count": null,
      "outputs": [
        {
          "output_type": "execute_result",
          "data": {
            "text/plain": [
              "   A  B\n",
              "0  1  2\n",
              "1  2  3\n",
              "2  3  4"
            ],
            "text/html": [
              "\n",
              "  <div id=\"df-f3b2b25f-2f7f-49a7-b4d0-3fab22811dc7\" class=\"colab-df-container\">\n",
              "    <div>\n",
              "<style scoped>\n",
              "    .dataframe tbody tr th:only-of-type {\n",
              "        vertical-align: middle;\n",
              "    }\n",
              "\n",
              "    .dataframe tbody tr th {\n",
              "        vertical-align: top;\n",
              "    }\n",
              "\n",
              "    .dataframe thead th {\n",
              "        text-align: right;\n",
              "    }\n",
              "</style>\n",
              "<table border=\"1\" class=\"dataframe\">\n",
              "  <thead>\n",
              "    <tr style=\"text-align: right;\">\n",
              "      <th></th>\n",
              "      <th>A</th>\n",
              "      <th>B</th>\n",
              "    </tr>\n",
              "  </thead>\n",
              "  <tbody>\n",
              "    <tr>\n",
              "      <th>0</th>\n",
              "      <td>1</td>\n",
              "      <td>2</td>\n",
              "    </tr>\n",
              "    <tr>\n",
              "      <th>1</th>\n",
              "      <td>2</td>\n",
              "      <td>3</td>\n",
              "    </tr>\n",
              "    <tr>\n",
              "      <th>2</th>\n",
              "      <td>3</td>\n",
              "      <td>4</td>\n",
              "    </tr>\n",
              "  </tbody>\n",
              "</table>\n",
              "</div>\n",
              "    <div class=\"colab-df-buttons\">\n",
              "\n",
              "  <div class=\"colab-df-container\">\n",
              "    <button class=\"colab-df-convert\" onclick=\"convertToInteractive('df-f3b2b25f-2f7f-49a7-b4d0-3fab22811dc7')\"\n",
              "            title=\"Convert this dataframe to an interactive table.\"\n",
              "            style=\"display:none;\">\n",
              "\n",
              "  <svg xmlns=\"http://www.w3.org/2000/svg\" height=\"24px\" viewBox=\"0 -960 960 960\">\n",
              "    <path d=\"M120-120v-720h720v720H120Zm60-500h600v-160H180v160Zm220 220h160v-160H400v160Zm0 220h160v-160H400v160ZM180-400h160v-160H180v160Zm440 0h160v-160H620v160ZM180-180h160v-160H180v160Zm440 0h160v-160H620v160Z\"/>\n",
              "  </svg>\n",
              "    </button>\n",
              "\n",
              "  <style>\n",
              "    .colab-df-container {\n",
              "      display:flex;\n",
              "      gap: 12px;\n",
              "    }\n",
              "\n",
              "    .colab-df-convert {\n",
              "      background-color: #E8F0FE;\n",
              "      border: none;\n",
              "      border-radius: 50%;\n",
              "      cursor: pointer;\n",
              "      display: none;\n",
              "      fill: #1967D2;\n",
              "      height: 32px;\n",
              "      padding: 0 0 0 0;\n",
              "      width: 32px;\n",
              "    }\n",
              "\n",
              "    .colab-df-convert:hover {\n",
              "      background-color: #E2EBFA;\n",
              "      box-shadow: 0px 1px 2px rgba(60, 64, 67, 0.3), 0px 1px 3px 1px rgba(60, 64, 67, 0.15);\n",
              "      fill: #174EA6;\n",
              "    }\n",
              "\n",
              "    .colab-df-buttons div {\n",
              "      margin-bottom: 4px;\n",
              "    }\n",
              "\n",
              "    [theme=dark] .colab-df-convert {\n",
              "      background-color: #3B4455;\n",
              "      fill: #D2E3FC;\n",
              "    }\n",
              "\n",
              "    [theme=dark] .colab-df-convert:hover {\n",
              "      background-color: #434B5C;\n",
              "      box-shadow: 0px 1px 3px 1px rgba(0, 0, 0, 0.15);\n",
              "      filter: drop-shadow(0px 1px 2px rgba(0, 0, 0, 0.3));\n",
              "      fill: #FFFFFF;\n",
              "    }\n",
              "  </style>\n",
              "\n",
              "    <script>\n",
              "      const buttonEl =\n",
              "        document.querySelector('#df-f3b2b25f-2f7f-49a7-b4d0-3fab22811dc7 button.colab-df-convert');\n",
              "      buttonEl.style.display =\n",
              "        google.colab.kernel.accessAllowed ? 'block' : 'none';\n",
              "\n",
              "      async function convertToInteractive(key) {\n",
              "        const element = document.querySelector('#df-f3b2b25f-2f7f-49a7-b4d0-3fab22811dc7');\n",
              "        const dataTable =\n",
              "          await google.colab.kernel.invokeFunction('convertToInteractive',\n",
              "                                                    [key], {});\n",
              "        if (!dataTable) return;\n",
              "\n",
              "        const docLinkHtml = 'Like what you see? Visit the ' +\n",
              "          '<a target=\"_blank\" href=https://colab.research.google.com/notebooks/data_table.ipynb>data table notebook</a>'\n",
              "          + ' to learn more about interactive tables.';\n",
              "        element.innerHTML = '';\n",
              "        dataTable['output_type'] = 'display_data';\n",
              "        await google.colab.output.renderOutput(dataTable, element);\n",
              "        const docLink = document.createElement('div');\n",
              "        docLink.innerHTML = docLinkHtml;\n",
              "        element.appendChild(docLink);\n",
              "      }\n",
              "    </script>\n",
              "  </div>\n",
              "\n",
              "\n",
              "<div id=\"df-69c1a9e2-491f-4d1d-91be-d603ab81ea29\">\n",
              "  <button class=\"colab-df-quickchart\" onclick=\"quickchart('df-69c1a9e2-491f-4d1d-91be-d603ab81ea29')\"\n",
              "            title=\"Suggest charts\"\n",
              "            style=\"display:none;\">\n",
              "\n",
              "<svg xmlns=\"http://www.w3.org/2000/svg\" height=\"24px\"viewBox=\"0 0 24 24\"\n",
              "     width=\"24px\">\n",
              "    <g>\n",
              "        <path d=\"M19 3H5c-1.1 0-2 .9-2 2v14c0 1.1.9 2 2 2h14c1.1 0 2-.9 2-2V5c0-1.1-.9-2-2-2zM9 17H7v-7h2v7zm4 0h-2V7h2v10zm4 0h-2v-4h2v4z\"/>\n",
              "    </g>\n",
              "</svg>\n",
              "  </button>\n",
              "\n",
              "<style>\n",
              "  .colab-df-quickchart {\n",
              "      --bg-color: #E8F0FE;\n",
              "      --fill-color: #1967D2;\n",
              "      --hover-bg-color: #E2EBFA;\n",
              "      --hover-fill-color: #174EA6;\n",
              "      --disabled-fill-color: #AAA;\n",
              "      --disabled-bg-color: #DDD;\n",
              "  }\n",
              "\n",
              "  [theme=dark] .colab-df-quickchart {\n",
              "      --bg-color: #3B4455;\n",
              "      --fill-color: #D2E3FC;\n",
              "      --hover-bg-color: #434B5C;\n",
              "      --hover-fill-color: #FFFFFF;\n",
              "      --disabled-bg-color: #3B4455;\n",
              "      --disabled-fill-color: #666;\n",
              "  }\n",
              "\n",
              "  .colab-df-quickchart {\n",
              "    background-color: var(--bg-color);\n",
              "    border: none;\n",
              "    border-radius: 50%;\n",
              "    cursor: pointer;\n",
              "    display: none;\n",
              "    fill: var(--fill-color);\n",
              "    height: 32px;\n",
              "    padding: 0;\n",
              "    width: 32px;\n",
              "  }\n",
              "\n",
              "  .colab-df-quickchart:hover {\n",
              "    background-color: var(--hover-bg-color);\n",
              "    box-shadow: 0 1px 2px rgba(60, 64, 67, 0.3), 0 1px 3px 1px rgba(60, 64, 67, 0.15);\n",
              "    fill: var(--button-hover-fill-color);\n",
              "  }\n",
              "\n",
              "  .colab-df-quickchart-complete:disabled,\n",
              "  .colab-df-quickchart-complete:disabled:hover {\n",
              "    background-color: var(--disabled-bg-color);\n",
              "    fill: var(--disabled-fill-color);\n",
              "    box-shadow: none;\n",
              "  }\n",
              "\n",
              "  .colab-df-spinner {\n",
              "    border: 2px solid var(--fill-color);\n",
              "    border-color: transparent;\n",
              "    border-bottom-color: var(--fill-color);\n",
              "    animation:\n",
              "      spin 1s steps(1) infinite;\n",
              "  }\n",
              "\n",
              "  @keyframes spin {\n",
              "    0% {\n",
              "      border-color: transparent;\n",
              "      border-bottom-color: var(--fill-color);\n",
              "      border-left-color: var(--fill-color);\n",
              "    }\n",
              "    20% {\n",
              "      border-color: transparent;\n",
              "      border-left-color: var(--fill-color);\n",
              "      border-top-color: var(--fill-color);\n",
              "    }\n",
              "    30% {\n",
              "      border-color: transparent;\n",
              "      border-left-color: var(--fill-color);\n",
              "      border-top-color: var(--fill-color);\n",
              "      border-right-color: var(--fill-color);\n",
              "    }\n",
              "    40% {\n",
              "      border-color: transparent;\n",
              "      border-right-color: var(--fill-color);\n",
              "      border-top-color: var(--fill-color);\n",
              "    }\n",
              "    60% {\n",
              "      border-color: transparent;\n",
              "      border-right-color: var(--fill-color);\n",
              "    }\n",
              "    80% {\n",
              "      border-color: transparent;\n",
              "      border-right-color: var(--fill-color);\n",
              "      border-bottom-color: var(--fill-color);\n",
              "    }\n",
              "    90% {\n",
              "      border-color: transparent;\n",
              "      border-bottom-color: var(--fill-color);\n",
              "    }\n",
              "  }\n",
              "</style>\n",
              "\n",
              "  <script>\n",
              "    async function quickchart(key) {\n",
              "      const quickchartButtonEl =\n",
              "        document.querySelector('#' + key + ' button');\n",
              "      quickchartButtonEl.disabled = true;  // To prevent multiple clicks.\n",
              "      quickchartButtonEl.classList.add('colab-df-spinner');\n",
              "      try {\n",
              "        const charts = await google.colab.kernel.invokeFunction(\n",
              "            'suggestCharts', [key], {});\n",
              "      } catch (error) {\n",
              "        console.error('Error during call to suggestCharts:', error);\n",
              "      }\n",
              "      quickchartButtonEl.classList.remove('colab-df-spinner');\n",
              "      quickchartButtonEl.classList.add('colab-df-quickchart-complete');\n",
              "    }\n",
              "    (() => {\n",
              "      let quickchartButtonEl =\n",
              "        document.querySelector('#df-69c1a9e2-491f-4d1d-91be-d603ab81ea29 button');\n",
              "      quickchartButtonEl.style.display =\n",
              "        google.colab.kernel.accessAllowed ? 'block' : 'none';\n",
              "    })();\n",
              "  </script>\n",
              "</div>\n",
              "\n",
              "    </div>\n",
              "  </div>\n"
            ],
            "application/vnd.google.colaboratory.intrinsic+json": {
              "type": "dataframe",
              "summary": "{\n  \"name\": \"pd\",\n  \"rows\": 3,\n  \"fields\": [\n    {\n      \"column\": \"A\",\n      \"properties\": {\n        \"dtype\": \"number\",\n        \"std\": 1,\n        \"min\": 1,\n        \"max\": 3,\n        \"num_unique_values\": 3,\n        \"samples\": [\n          1,\n          2,\n          3\n        ],\n        \"semantic_type\": \"\",\n        \"description\": \"\"\n      }\n    },\n    {\n      \"column\": \"B\",\n      \"properties\": {\n        \"dtype\": \"number\",\n        \"std\": 1,\n        \"min\": 2,\n        \"max\": 4,\n        \"num_unique_values\": 3,\n        \"samples\": [\n          2,\n          3,\n          4\n        ],\n        \"semantic_type\": \"\",\n        \"description\": \"\"\n      }\n    }\n  ]\n}"
            }
          },
          "metadata": {},
          "execution_count": 7
        }
      ]
    },
    {
      "cell_type": "markdown",
      "source": [
        "#load pandas data แบบที่ 1 (ใช้ครั้งเดียวหาย)"
      ],
      "metadata": {
        "id": "xt-87iXzrkok"
      }
    },
    {
      "cell_type": "code",
      "source": [
        "folk_df = pd.read_csv('/content/folktales.csv')"
      ],
      "metadata": {
        "id": "dYh7LZYjr0PQ"
      },
      "execution_count": null,
      "outputs": []
    },
    {
      "cell_type": "code",
      "source": [
        "folk_df"
      ],
      "metadata": {
        "id": "oib9CrJ7saSo"
      },
      "execution_count": null,
      "outputs": []
    },
    {
      "cell_type": "markdown",
      "source": [
        "#load pandas data แบบที่ 2 (ดึงจาก google drive)"
      ],
      "metadata": {
        "id": "Jb1Z54u5st2i"
      }
    },
    {
      "cell_type": "markdown",
      "source": [
        "---"
      ],
      "metadata": {
        "id": "wY1s9nVJryi6"
      }
    },
    {
      "cell_type": "code",
      "source": [
        "import os # os คือจัดการ path ของไฟล์"
      ],
      "metadata": {
        "id": "4v2DO7DVVzed"
      },
      "execution_count": null,
      "outputs": []
    },
    {
      "cell_type": "code",
      "metadata": {
        "colab": {
          "base_uri": "https://localhost:8080/"
        },
        "id": "RwYRFJocm086",
        "outputId": "2c435fb8-9c9a-4df5-9d63-25cbbce91829"
      },
      "source": [
        "from google.colab import drive\n",
        "drive.mount('/content/drive')"
      ],
      "execution_count": 6,
      "outputs": [
        {
          "output_type": "stream",
          "name": "stdout",
          "text": [
            "Mounted at /content/drive\n"
          ]
        }
      ]
    },
    {
      "cell_type": "code",
      "metadata": {
        "id": "8aVuLimaokIK"
      },
      "source": [
        "path_to_folktales = '/content/drive/MyDrive/Data_viz_2024_data/folktales.csv'"
      ],
      "execution_count": 7,
      "outputs": []
    },
    {
      "cell_type": "code",
      "source": [
        "folk_df = pd.read_csv(path_to_folktales)\n",
        "folk_df"
      ],
      "metadata": {
        "id": "TGiBEgFXWO5Z",
        "colab": {
          "base_uri": "https://localhost:8080/",
          "height": 1000
        },
        "outputId": "aedfa072-fc16-47da-ce26-65337eb77984"
      },
      "execution_count": 8,
      "outputs": [
        {
          "output_type": "execute_result",
          "data": {
            "text/plain": [
              "                   title             type                 creator  \\\n",
              "0           ตาบอดคลำช้าง   นิทานประจำถิ่น        อ่อนตา ประกาเวสา   \n",
              "1         ขอคำกระฮอกด่อน     ตำนานปรัมปรา               พ่อใหญ่นู   \n",
              "2     ก่องข้าวน้อยฆ่าแม่       นิทานชีวิต      หนูเวียง แก้วเวียง   \n",
              "3              บักหำน้อย           มุขตลก         สมหวัง ปานพายัพ   \n",
              "4             รื้อบ่อน้ำ           มุขตลก          บุญศรี เกสเสโร   \n",
              "..                   ...              ...                     ...   \n",
              "221          ตำนานมะโย่ง     ตำนานปรัมปรา  หร้อหวาน   วัชรจิรโสภณ   \n",
              "222            ตำราหมอดู           มุขตลก        มาลี   พันธ์วงศ์   \n",
              "223   เต่ากับพระพุทธเจ้า  นิทานอธิบายเหตุ                     NaN   \n",
              "224        ถ้ำคูหาสวรรค์   นิทานประจำถิ่น                     NaN   \n",
              "225  ถ้ำทองและถ้ำเปอร์งง   นิทานประจำถิ่น                     NaN   \n",
              "\n",
              "                                           description        subject spatial  \\\n",
              "0    <p>&nbsp; &nbsp; &nbsp; &nbsp; มีคนตาบอดหกคน ซ...  นิทานพื้นบ้าน     ไทย   \n",
              "1    <p>&nbsp; &nbsp; &nbsp; ในขณะนั้นมีพญาผู้หนึ่ง...  นิทานพื้นบ้าน     ไทย   \n",
              "2    <p>ครั้งหนึ่งนานมาแล้วในฤดูฝน มีการเตรียมปักดำ...  นิทานพื้นบ้าน     ไทย   \n",
              "3    <p>เรื่องมีอยู่ว่า ณ โรงเรียนแห่งหนึ่งของภาคอี...  นิทานพื้นบ้าน     ไทย   \n",
              "4    <p>วันหนึ่งพ่อตากับลูกเขยพากันไปรื้อบ่อน้ำใช้ ...  นิทานพื้นบ้าน     ไทย   \n",
              "..                                                 ...            ...     ...   \n",
              "221  <p>รายาบือราสะครองเมืองบรือดะ ทรงมีพระราชธิดาพ...  นิทานพื้นบ้าน     ไทย   \n",
              "222  <p>มีตำราหลวงพ่ออยู่เล่มหนึ่ง เป็นตำราที่ทายแม...  นิทานพื้นบ้าน     ไทย   \n",
              "223  <p>มีเต่าตัวหนึ่งเที่ยวหากินอยู่ตามชายป่าใกล้ท...  นิทานพื้นบ้าน     NaN   \n",
              "224  <p>นานมาแล้ว มีเทวดาอยู่องค์หนึ่งถูกพระอิศวรสา...  นิทานพื้นบ้าน    ไทย,   \n",
              "225  <p>ถ้ำเปอร์งง มีลำธารไหลลอดถ้ำออกไปสู่แม่น้ำปั...  นิทานพื้นบ้าน    ไทย,   \n",
              "\n",
              "     temporal language rights                         license  \\\n",
              "0         NaN      ไทย    NaN  สัญญาอนุญาตของครีเอทีฟคอมมอนส์   \n",
              "1         NaN      ไทย    NaN  สัญญาอนุญาตของครีเอทีฟคอมมอนส์   \n",
              "2         NaN      ไทย    NaN  สัญญาอนุญาตของครีเอทีฟคอมมอนส์   \n",
              "3         NaN      ไทย    NaN  สัญญาอนุญาตของครีเอทีฟคอมมอนส์   \n",
              "4         NaN      ไทย    NaN  สัญญาอนุญาตของครีเอทีฟคอมมอนส์   \n",
              "..        ...      ...    ...                             ...   \n",
              "221       NaN      ไทย    NaN  สัญญาอนุญาตของครีเอทีฟคอมมอนส์   \n",
              "222       NaN      ไทย    NaN  สัญญาอนุญาตของครีเอทีฟคอมมอนส์   \n",
              "223       NaN      ไทย    NaN  สัญญาอนุญาตของครีเอทีฟคอมมอนส์   \n",
              "224       NaN      ไทย    NaN  สัญญาอนุญาตของครีเอทีฟคอมมอนส์   \n",
              "225       NaN      ไทย    NaN  สัญญาอนุญาตของครีเอทีฟคอมมอนส์   \n",
              "\n",
              "                                            source.uri  \n",
              "0    https://www.sac.or.th/databases/folktales/folk...  \n",
              "1    https://www.sac.or.th/databases/folktales/folk...  \n",
              "2    https://www.sac.or.th/databases/folktales/folk...  \n",
              "3    https://www.sac.or.th/databases/folktales/folk...  \n",
              "4    https://www.sac.or.th/databases/folktales/folk...  \n",
              "..                                                 ...  \n",
              "221  https://www.sac.or.th/databases/folktales/folk...  \n",
              "222  https://www.sac.or.th/databases/folktales/folk...  \n",
              "223  https://www.sac.or.th/databases/folktales/folk...  \n",
              "224  https://www.sac.or.th/databases/folktales/folk...  \n",
              "225  https://www.sac.or.th/databases/folktales/folk...  \n",
              "\n",
              "[226 rows x 11 columns]"
            ],
            "text/html": [
              "\n",
              "  <div id=\"df-c81d8043-d99a-48f1-9d16-f97c9441f4bd\" class=\"colab-df-container\">\n",
              "    <div>\n",
              "<style scoped>\n",
              "    .dataframe tbody tr th:only-of-type {\n",
              "        vertical-align: middle;\n",
              "    }\n",
              "\n",
              "    .dataframe tbody tr th {\n",
              "        vertical-align: top;\n",
              "    }\n",
              "\n",
              "    .dataframe thead th {\n",
              "        text-align: right;\n",
              "    }\n",
              "</style>\n",
              "<table border=\"1\" class=\"dataframe\">\n",
              "  <thead>\n",
              "    <tr style=\"text-align: right;\">\n",
              "      <th></th>\n",
              "      <th>title</th>\n",
              "      <th>type</th>\n",
              "      <th>creator</th>\n",
              "      <th>description</th>\n",
              "      <th>subject</th>\n",
              "      <th>spatial</th>\n",
              "      <th>temporal</th>\n",
              "      <th>language</th>\n",
              "      <th>rights</th>\n",
              "      <th>license</th>\n",
              "      <th>source.uri</th>\n",
              "    </tr>\n",
              "  </thead>\n",
              "  <tbody>\n",
              "    <tr>\n",
              "      <th>0</th>\n",
              "      <td>ตาบอดคลำช้าง</td>\n",
              "      <td>นิทานประจำถิ่น</td>\n",
              "      <td>อ่อนตา ประกาเวสา</td>\n",
              "      <td>&lt;p&gt;&amp;nbsp; &amp;nbsp; &amp;nbsp; &amp;nbsp; มีคนตาบอดหกคน ซ...</td>\n",
              "      <td>นิทานพื้นบ้าน</td>\n",
              "      <td>ไทย</td>\n",
              "      <td>NaN</td>\n",
              "      <td>ไทย</td>\n",
              "      <td>NaN</td>\n",
              "      <td>สัญญาอนุญาตของครีเอทีฟคอมมอนส์</td>\n",
              "      <td>https://www.sac.or.th/databases/folktales/folk...</td>\n",
              "    </tr>\n",
              "    <tr>\n",
              "      <th>1</th>\n",
              "      <td>ขอคำกระฮอกด่อน</td>\n",
              "      <td>ตำนานปรัมปรา</td>\n",
              "      <td>พ่อใหญ่นู</td>\n",
              "      <td>&lt;p&gt;&amp;nbsp; &amp;nbsp; &amp;nbsp; ในขณะนั้นมีพญาผู้หนึ่ง...</td>\n",
              "      <td>นิทานพื้นบ้าน</td>\n",
              "      <td>ไทย</td>\n",
              "      <td>NaN</td>\n",
              "      <td>ไทย</td>\n",
              "      <td>NaN</td>\n",
              "      <td>สัญญาอนุญาตของครีเอทีฟคอมมอนส์</td>\n",
              "      <td>https://www.sac.or.th/databases/folktales/folk...</td>\n",
              "    </tr>\n",
              "    <tr>\n",
              "      <th>2</th>\n",
              "      <td>ก่องข้าวน้อยฆ่าแม่</td>\n",
              "      <td>นิทานชีวิต</td>\n",
              "      <td>หนูเวียง แก้วเวียง</td>\n",
              "      <td>&lt;p&gt;ครั้งหนึ่งนานมาแล้วในฤดูฝน มีการเตรียมปักดำ...</td>\n",
              "      <td>นิทานพื้นบ้าน</td>\n",
              "      <td>ไทย</td>\n",
              "      <td>NaN</td>\n",
              "      <td>ไทย</td>\n",
              "      <td>NaN</td>\n",
              "      <td>สัญญาอนุญาตของครีเอทีฟคอมมอนส์</td>\n",
              "      <td>https://www.sac.or.th/databases/folktales/folk...</td>\n",
              "    </tr>\n",
              "    <tr>\n",
              "      <th>3</th>\n",
              "      <td>บักหำน้อย</td>\n",
              "      <td>มุขตลก</td>\n",
              "      <td>สมหวัง ปานพายัพ</td>\n",
              "      <td>&lt;p&gt;เรื่องมีอยู่ว่า ณ โรงเรียนแห่งหนึ่งของภาคอี...</td>\n",
              "      <td>นิทานพื้นบ้าน</td>\n",
              "      <td>ไทย</td>\n",
              "      <td>NaN</td>\n",
              "      <td>ไทย</td>\n",
              "      <td>NaN</td>\n",
              "      <td>สัญญาอนุญาตของครีเอทีฟคอมมอนส์</td>\n",
              "      <td>https://www.sac.or.th/databases/folktales/folk...</td>\n",
              "    </tr>\n",
              "    <tr>\n",
              "      <th>4</th>\n",
              "      <td>รื้อบ่อน้ำ</td>\n",
              "      <td>มุขตลก</td>\n",
              "      <td>บุญศรี เกสเสโร</td>\n",
              "      <td>&lt;p&gt;วันหนึ่งพ่อตากับลูกเขยพากันไปรื้อบ่อน้ำใช้ ...</td>\n",
              "      <td>นิทานพื้นบ้าน</td>\n",
              "      <td>ไทย</td>\n",
              "      <td>NaN</td>\n",
              "      <td>ไทย</td>\n",
              "      <td>NaN</td>\n",
              "      <td>สัญญาอนุญาตของครีเอทีฟคอมมอนส์</td>\n",
              "      <td>https://www.sac.or.th/databases/folktales/folk...</td>\n",
              "    </tr>\n",
              "    <tr>\n",
              "      <th>...</th>\n",
              "      <td>...</td>\n",
              "      <td>...</td>\n",
              "      <td>...</td>\n",
              "      <td>...</td>\n",
              "      <td>...</td>\n",
              "      <td>...</td>\n",
              "      <td>...</td>\n",
              "      <td>...</td>\n",
              "      <td>...</td>\n",
              "      <td>...</td>\n",
              "      <td>...</td>\n",
              "    </tr>\n",
              "    <tr>\n",
              "      <th>221</th>\n",
              "      <td>ตำนานมะโย่ง</td>\n",
              "      <td>ตำนานปรัมปรา</td>\n",
              "      <td>หร้อหวาน   วัชรจิรโสภณ</td>\n",
              "      <td>&lt;p&gt;รายาบือราสะครองเมืองบรือดะ ทรงมีพระราชธิดาพ...</td>\n",
              "      <td>นิทานพื้นบ้าน</td>\n",
              "      <td>ไทย</td>\n",
              "      <td>NaN</td>\n",
              "      <td>ไทย</td>\n",
              "      <td>NaN</td>\n",
              "      <td>สัญญาอนุญาตของครีเอทีฟคอมมอนส์</td>\n",
              "      <td>https://www.sac.or.th/databases/folktales/folk...</td>\n",
              "    </tr>\n",
              "    <tr>\n",
              "      <th>222</th>\n",
              "      <td>ตำราหมอดู</td>\n",
              "      <td>มุขตลก</td>\n",
              "      <td>มาลี   พันธ์วงศ์</td>\n",
              "      <td>&lt;p&gt;มีตำราหลวงพ่ออยู่เล่มหนึ่ง เป็นตำราที่ทายแม...</td>\n",
              "      <td>นิทานพื้นบ้าน</td>\n",
              "      <td>ไทย</td>\n",
              "      <td>NaN</td>\n",
              "      <td>ไทย</td>\n",
              "      <td>NaN</td>\n",
              "      <td>สัญญาอนุญาตของครีเอทีฟคอมมอนส์</td>\n",
              "      <td>https://www.sac.or.th/databases/folktales/folk...</td>\n",
              "    </tr>\n",
              "    <tr>\n",
              "      <th>223</th>\n",
              "      <td>เต่ากับพระพุทธเจ้า</td>\n",
              "      <td>นิทานอธิบายเหตุ</td>\n",
              "      <td>NaN</td>\n",
              "      <td>&lt;p&gt;มีเต่าตัวหนึ่งเที่ยวหากินอยู่ตามชายป่าใกล้ท...</td>\n",
              "      <td>นิทานพื้นบ้าน</td>\n",
              "      <td>NaN</td>\n",
              "      <td>NaN</td>\n",
              "      <td>ไทย</td>\n",
              "      <td>NaN</td>\n",
              "      <td>สัญญาอนุญาตของครีเอทีฟคอมมอนส์</td>\n",
              "      <td>https://www.sac.or.th/databases/folktales/folk...</td>\n",
              "    </tr>\n",
              "    <tr>\n",
              "      <th>224</th>\n",
              "      <td>ถ้ำคูหาสวรรค์</td>\n",
              "      <td>นิทานประจำถิ่น</td>\n",
              "      <td>NaN</td>\n",
              "      <td>&lt;p&gt;นานมาแล้ว มีเทวดาอยู่องค์หนึ่งถูกพระอิศวรสา...</td>\n",
              "      <td>นิทานพื้นบ้าน</td>\n",
              "      <td>ไทย,</td>\n",
              "      <td>NaN</td>\n",
              "      <td>ไทย</td>\n",
              "      <td>NaN</td>\n",
              "      <td>สัญญาอนุญาตของครีเอทีฟคอมมอนส์</td>\n",
              "      <td>https://www.sac.or.th/databases/folktales/folk...</td>\n",
              "    </tr>\n",
              "    <tr>\n",
              "      <th>225</th>\n",
              "      <td>ถ้ำทองและถ้ำเปอร์งง</td>\n",
              "      <td>นิทานประจำถิ่น</td>\n",
              "      <td>NaN</td>\n",
              "      <td>&lt;p&gt;ถ้ำเปอร์งง มีลำธารไหลลอดถ้ำออกไปสู่แม่น้ำปั...</td>\n",
              "      <td>นิทานพื้นบ้าน</td>\n",
              "      <td>ไทย,</td>\n",
              "      <td>NaN</td>\n",
              "      <td>ไทย</td>\n",
              "      <td>NaN</td>\n",
              "      <td>สัญญาอนุญาตของครีเอทีฟคอมมอนส์</td>\n",
              "      <td>https://www.sac.or.th/databases/folktales/folk...</td>\n",
              "    </tr>\n",
              "  </tbody>\n",
              "</table>\n",
              "<p>226 rows × 11 columns</p>\n",
              "</div>\n",
              "    <div class=\"colab-df-buttons\">\n",
              "\n",
              "  <div class=\"colab-df-container\">\n",
              "    <button class=\"colab-df-convert\" onclick=\"convertToInteractive('df-c81d8043-d99a-48f1-9d16-f97c9441f4bd')\"\n",
              "            title=\"Convert this dataframe to an interactive table.\"\n",
              "            style=\"display:none;\">\n",
              "\n",
              "  <svg xmlns=\"http://www.w3.org/2000/svg\" height=\"24px\" viewBox=\"0 -960 960 960\">\n",
              "    <path d=\"M120-120v-720h720v720H120Zm60-500h600v-160H180v160Zm220 220h160v-160H400v160Zm0 220h160v-160H400v160ZM180-400h160v-160H180v160Zm440 0h160v-160H620v160ZM180-180h160v-160H180v160Zm440 0h160v-160H620v160Z\"/>\n",
              "  </svg>\n",
              "    </button>\n",
              "\n",
              "  <style>\n",
              "    .colab-df-container {\n",
              "      display:flex;\n",
              "      gap: 12px;\n",
              "    }\n",
              "\n",
              "    .colab-df-convert {\n",
              "      background-color: #E8F0FE;\n",
              "      border: none;\n",
              "      border-radius: 50%;\n",
              "      cursor: pointer;\n",
              "      display: none;\n",
              "      fill: #1967D2;\n",
              "      height: 32px;\n",
              "      padding: 0 0 0 0;\n",
              "      width: 32px;\n",
              "    }\n",
              "\n",
              "    .colab-df-convert:hover {\n",
              "      background-color: #E2EBFA;\n",
              "      box-shadow: 0px 1px 2px rgba(60, 64, 67, 0.3), 0px 1px 3px 1px rgba(60, 64, 67, 0.15);\n",
              "      fill: #174EA6;\n",
              "    }\n",
              "\n",
              "    .colab-df-buttons div {\n",
              "      margin-bottom: 4px;\n",
              "    }\n",
              "\n",
              "    [theme=dark] .colab-df-convert {\n",
              "      background-color: #3B4455;\n",
              "      fill: #D2E3FC;\n",
              "    }\n",
              "\n",
              "    [theme=dark] .colab-df-convert:hover {\n",
              "      background-color: #434B5C;\n",
              "      box-shadow: 0px 1px 3px 1px rgba(0, 0, 0, 0.15);\n",
              "      filter: drop-shadow(0px 1px 2px rgba(0, 0, 0, 0.3));\n",
              "      fill: #FFFFFF;\n",
              "    }\n",
              "  </style>\n",
              "\n",
              "    <script>\n",
              "      const buttonEl =\n",
              "        document.querySelector('#df-c81d8043-d99a-48f1-9d16-f97c9441f4bd button.colab-df-convert');\n",
              "      buttonEl.style.display =\n",
              "        google.colab.kernel.accessAllowed ? 'block' : 'none';\n",
              "\n",
              "      async function convertToInteractive(key) {\n",
              "        const element = document.querySelector('#df-c81d8043-d99a-48f1-9d16-f97c9441f4bd');\n",
              "        const dataTable =\n",
              "          await google.colab.kernel.invokeFunction('convertToInteractive',\n",
              "                                                    [key], {});\n",
              "        if (!dataTable) return;\n",
              "\n",
              "        const docLinkHtml = 'Like what you see? Visit the ' +\n",
              "          '<a target=\"_blank\" href=https://colab.research.google.com/notebooks/data_table.ipynb>data table notebook</a>'\n",
              "          + ' to learn more about interactive tables.';\n",
              "        element.innerHTML = '';\n",
              "        dataTable['output_type'] = 'display_data';\n",
              "        await google.colab.output.renderOutput(dataTable, element);\n",
              "        const docLink = document.createElement('div');\n",
              "        docLink.innerHTML = docLinkHtml;\n",
              "        element.appendChild(docLink);\n",
              "      }\n",
              "    </script>\n",
              "  </div>\n",
              "\n",
              "\n",
              "<div id=\"df-6cd05de0-a0bc-4bf7-894e-87fc8452cf7b\">\n",
              "  <button class=\"colab-df-quickchart\" onclick=\"quickchart('df-6cd05de0-a0bc-4bf7-894e-87fc8452cf7b')\"\n",
              "            title=\"Suggest charts\"\n",
              "            style=\"display:none;\">\n",
              "\n",
              "<svg xmlns=\"http://www.w3.org/2000/svg\" height=\"24px\"viewBox=\"0 0 24 24\"\n",
              "     width=\"24px\">\n",
              "    <g>\n",
              "        <path d=\"M19 3H5c-1.1 0-2 .9-2 2v14c0 1.1.9 2 2 2h14c1.1 0 2-.9 2-2V5c0-1.1-.9-2-2-2zM9 17H7v-7h2v7zm4 0h-2V7h2v10zm4 0h-2v-4h2v4z\"/>\n",
              "    </g>\n",
              "</svg>\n",
              "  </button>\n",
              "\n",
              "<style>\n",
              "  .colab-df-quickchart {\n",
              "      --bg-color: #E8F0FE;\n",
              "      --fill-color: #1967D2;\n",
              "      --hover-bg-color: #E2EBFA;\n",
              "      --hover-fill-color: #174EA6;\n",
              "      --disabled-fill-color: #AAA;\n",
              "      --disabled-bg-color: #DDD;\n",
              "  }\n",
              "\n",
              "  [theme=dark] .colab-df-quickchart {\n",
              "      --bg-color: #3B4455;\n",
              "      --fill-color: #D2E3FC;\n",
              "      --hover-bg-color: #434B5C;\n",
              "      --hover-fill-color: #FFFFFF;\n",
              "      --disabled-bg-color: #3B4455;\n",
              "      --disabled-fill-color: #666;\n",
              "  }\n",
              "\n",
              "  .colab-df-quickchart {\n",
              "    background-color: var(--bg-color);\n",
              "    border: none;\n",
              "    border-radius: 50%;\n",
              "    cursor: pointer;\n",
              "    display: none;\n",
              "    fill: var(--fill-color);\n",
              "    height: 32px;\n",
              "    padding: 0;\n",
              "    width: 32px;\n",
              "  }\n",
              "\n",
              "  .colab-df-quickchart:hover {\n",
              "    background-color: var(--hover-bg-color);\n",
              "    box-shadow: 0 1px 2px rgba(60, 64, 67, 0.3), 0 1px 3px 1px rgba(60, 64, 67, 0.15);\n",
              "    fill: var(--button-hover-fill-color);\n",
              "  }\n",
              "\n",
              "  .colab-df-quickchart-complete:disabled,\n",
              "  .colab-df-quickchart-complete:disabled:hover {\n",
              "    background-color: var(--disabled-bg-color);\n",
              "    fill: var(--disabled-fill-color);\n",
              "    box-shadow: none;\n",
              "  }\n",
              "\n",
              "  .colab-df-spinner {\n",
              "    border: 2px solid var(--fill-color);\n",
              "    border-color: transparent;\n",
              "    border-bottom-color: var(--fill-color);\n",
              "    animation:\n",
              "      spin 1s steps(1) infinite;\n",
              "  }\n",
              "\n",
              "  @keyframes spin {\n",
              "    0% {\n",
              "      border-color: transparent;\n",
              "      border-bottom-color: var(--fill-color);\n",
              "      border-left-color: var(--fill-color);\n",
              "    }\n",
              "    20% {\n",
              "      border-color: transparent;\n",
              "      border-left-color: var(--fill-color);\n",
              "      border-top-color: var(--fill-color);\n",
              "    }\n",
              "    30% {\n",
              "      border-color: transparent;\n",
              "      border-left-color: var(--fill-color);\n",
              "      border-top-color: var(--fill-color);\n",
              "      border-right-color: var(--fill-color);\n",
              "    }\n",
              "    40% {\n",
              "      border-color: transparent;\n",
              "      border-right-color: var(--fill-color);\n",
              "      border-top-color: var(--fill-color);\n",
              "    }\n",
              "    60% {\n",
              "      border-color: transparent;\n",
              "      border-right-color: var(--fill-color);\n",
              "    }\n",
              "    80% {\n",
              "      border-color: transparent;\n",
              "      border-right-color: var(--fill-color);\n",
              "      border-bottom-color: var(--fill-color);\n",
              "    }\n",
              "    90% {\n",
              "      border-color: transparent;\n",
              "      border-bottom-color: var(--fill-color);\n",
              "    }\n",
              "  }\n",
              "</style>\n",
              "\n",
              "  <script>\n",
              "    async function quickchart(key) {\n",
              "      const quickchartButtonEl =\n",
              "        document.querySelector('#' + key + ' button');\n",
              "      quickchartButtonEl.disabled = true;  // To prevent multiple clicks.\n",
              "      quickchartButtonEl.classList.add('colab-df-spinner');\n",
              "      try {\n",
              "        const charts = await google.colab.kernel.invokeFunction(\n",
              "            'suggestCharts', [key], {});\n",
              "      } catch (error) {\n",
              "        console.error('Error during call to suggestCharts:', error);\n",
              "      }\n",
              "      quickchartButtonEl.classList.remove('colab-df-spinner');\n",
              "      quickchartButtonEl.classList.add('colab-df-quickchart-complete');\n",
              "    }\n",
              "    (() => {\n",
              "      let quickchartButtonEl =\n",
              "        document.querySelector('#df-6cd05de0-a0bc-4bf7-894e-87fc8452cf7b button');\n",
              "      quickchartButtonEl.style.display =\n",
              "        google.colab.kernel.accessAllowed ? 'block' : 'none';\n",
              "    })();\n",
              "  </script>\n",
              "</div>\n",
              "\n",
              "  <div id=\"id_9794b1bd-a399-40f2-9532-18901668419c\">\n",
              "    <style>\n",
              "      .colab-df-generate {\n",
              "        background-color: #E8F0FE;\n",
              "        border: none;\n",
              "        border-radius: 50%;\n",
              "        cursor: pointer;\n",
              "        display: none;\n",
              "        fill: #1967D2;\n",
              "        height: 32px;\n",
              "        padding: 0 0 0 0;\n",
              "        width: 32px;\n",
              "      }\n",
              "\n",
              "      .colab-df-generate:hover {\n",
              "        background-color: #E2EBFA;\n",
              "        box-shadow: 0px 1px 2px rgba(60, 64, 67, 0.3), 0px 1px 3px 1px rgba(60, 64, 67, 0.15);\n",
              "        fill: #174EA6;\n",
              "      }\n",
              "\n",
              "      [theme=dark] .colab-df-generate {\n",
              "        background-color: #3B4455;\n",
              "        fill: #D2E3FC;\n",
              "      }\n",
              "\n",
              "      [theme=dark] .colab-df-generate:hover {\n",
              "        background-color: #434B5C;\n",
              "        box-shadow: 0px 1px 3px 1px rgba(0, 0, 0, 0.15);\n",
              "        filter: drop-shadow(0px 1px 2px rgba(0, 0, 0, 0.3));\n",
              "        fill: #FFFFFF;\n",
              "      }\n",
              "    </style>\n",
              "    <button class=\"colab-df-generate\" onclick=\"generateWithVariable('folk_df')\"\n",
              "            title=\"Generate code using this dataframe.\"\n",
              "            style=\"display:none;\">\n",
              "\n",
              "  <svg xmlns=\"http://www.w3.org/2000/svg\" height=\"24px\"viewBox=\"0 0 24 24\"\n",
              "       width=\"24px\">\n",
              "    <path d=\"M7,19H8.4L18.45,9,17,7.55,7,17.6ZM5,21V16.75L18.45,3.32a2,2,0,0,1,2.83,0l1.4,1.43a1.91,1.91,0,0,1,.58,1.4,1.91,1.91,0,0,1-.58,1.4L9.25,21ZM18.45,9,17,7.55Zm-12,3A5.31,5.31,0,0,0,4.9,8.1,5.31,5.31,0,0,0,1,6.5,5.31,5.31,0,0,0,4.9,4.9,5.31,5.31,0,0,0,6.5,1,5.31,5.31,0,0,0,8.1,4.9,5.31,5.31,0,0,0,12,6.5,5.46,5.46,0,0,0,6.5,12Z\"/>\n",
              "  </svg>\n",
              "    </button>\n",
              "    <script>\n",
              "      (() => {\n",
              "      const buttonEl =\n",
              "        document.querySelector('#id_9794b1bd-a399-40f2-9532-18901668419c button.colab-df-generate');\n",
              "      buttonEl.style.display =\n",
              "        google.colab.kernel.accessAllowed ? 'block' : 'none';\n",
              "\n",
              "      buttonEl.onclick = () => {\n",
              "        google.colab.notebook.generateWithVariable('folk_df');\n",
              "      }\n",
              "      })();\n",
              "    </script>\n",
              "  </div>\n",
              "\n",
              "    </div>\n",
              "  </div>\n"
            ],
            "application/vnd.google.colaboratory.intrinsic+json": {
              "type": "dataframe",
              "variable_name": "folk_df",
              "summary": "{\n  \"name\": \"folk_df\",\n  \"rows\": 226,\n  \"fields\": [\n    {\n      \"column\": \"title\",\n      \"properties\": {\n        \"dtype\": \"string\",\n        \"num_unique_values\": 220,\n        \"samples\": [\n          \"\\u0e08\\u0e31\\u0e01\\u0e08\\u0e31\\u0e48\\u0e19\\u0e44\\u0e21\\u0e48\\u0e21\\u0e35\\u0e44\\u0e2a\\u0e49\",\n          \"\\u0e25\\u0e34\\u0e49\\u0e19\\u0e17\\u0e2d\\u0e07\",\n          \"\\u0e1e\\u0e48\\u0e2d\\u0e43\\u0e2b\\u0e0d\\u0e48\\u0e2b\\u0e31\\u0e27\\u0e25\\u0e49\\u0e32\\u0e19\"\n        ],\n        \"semantic_type\": \"\",\n        \"description\": \"\"\n      }\n    },\n    {\n      \"column\": \"type\",\n      \"properties\": {\n        \"dtype\": \"category\",\n        \"num_unique_values\": 11,\n        \"samples\": [\n          \"\\u0e19\\u0e34\\u0e17\\u0e32\\u0e19\\u0e21\\u0e2b\\u0e31\\u0e28\\u0e08\\u0e23\\u0e23\\u0e22\\u0e4c\",\n          \"\\u0e19\\u0e34\\u0e17\\u0e32\\u0e19\\u0e1b\\u0e23\\u0e30\\u0e08\\u0e33\\u0e16\\u0e34\\u0e48\\u0e19\",\n          \"\\u0e19\\u0e34\\u0e17\\u0e32\\u0e19\\u0e27\\u0e35\\u0e23\\u0e1a\\u0e38\\u0e23\\u0e38\\u0e29\"\n        ],\n        \"semantic_type\": \"\",\n        \"description\": \"\"\n      }\n    },\n    {\n      \"column\": \"creator\",\n      \"properties\": {\n        \"dtype\": \"category\",\n        \"num_unique_values\": 83,\n        \"samples\": [\n          \"\\u0e2d\\u0e49\\u0e27\\u0e19 \\u0e18\\u0e35\\u0e08\\u0e31\\u0e19\\u0e17\\u0e23\\u0e4c\\u0e21\\u0e32\\u0e15\\u0e22\\u0e4c,\\u0e1a\\u0e38\\u0e0d\\u0e40\\u0e25\\u0e34\\u0e28 \\u0e44\\u0e0a\\u0e22\\u0e1e\\u0e07\\u0e29\\u0e4c\",\n          \"\\u0e2d\\u0e48\\u0e2d\\u0e19\\u0e15\\u0e32 \\u0e1b\\u0e23\\u0e30\\u0e01\\u0e32\\u0e40\\u0e27\\u0e2a\\u0e32\",\n          \"\\u0e1e\\u0e23\\u0e30\\u0e2d\\u0e34\\u0e19\\u0e14\\u0e32 \\u0e01\\u0e27\\u0e35\\u0e27\\u0e07\\u0e28\\u0e4c\"\n        ],\n        \"semantic_type\": \"\",\n        \"description\": \"\"\n      }\n    },\n    {\n      \"column\": \"description\",\n      \"properties\": {\n        \"dtype\": \"string\",\n        \"num_unique_values\": 218,\n        \"samples\": [\n          \"<p>\\u0e01\\u0e32\\u0e25\\u0e04\\u0e23\\u0e31\\u0e49\\u0e07\\u0e2b\\u0e19\\u0e36\\u0e48\\u0e07\\u0e19\\u0e32\\u0e19\\u0e21\\u0e32\\u0e41\\u0e25\\u0e49\\u0e27 \\u0e21\\u0e35\\u0e40\\u0e0b\\u0e35\\u0e22\\u0e07\\u0e40\\u0e21\\u0e35\\u0e48\\u0e22\\u0e07\\u0e40\\u0e1b\\u0e47\\u0e19\\u0e04\\u0e19\\u0e2d\\u0e27\\u0e14\\u0e14\\u0e35\\u0e21\\u0e32\\u0e01 \\u0e27\\u0e31\\u0e19\\u0e2b\\u0e19\\u0e36\\u0e48\\u0e07\\u0e40\\u0e0b\\u0e35\\u0e22\\u0e07\\u0e40\\u0e21\\u0e35\\u0e48\\u0e22\\u0e07\\u0e44\\u0e14\\u0e49\\u0e40\\u0e08\\u0e2d\\u0e2b\\u0e2d\\u0e22 \\u0e01\\u0e47\\u0e40\\u0e25\\u0e22\\u0e17\\u0e49\\u0e32\\u0e2b\\u0e2d\\u0e22\\u0e43\\u0e2b\\u0e49\\u0e27\\u0e34\\u0e48\\u0e07\\u0e41\\u0e02\\u0e48\\u0e07\\u0e01\\u0e31\\u0e19</p>\\n\\n<p>\\u0e40\\u0e0b\\u0e35\\u0e22\\u0e07\\u0e40\\u0e21\\u0e35\\u0e48\\u0e22\\u0e07\\u0e27\\u0e48\\u0e32 \\u0e40\\u0e23\\u0e32\\u0e21\\u0e32\\u0e41\\u0e02\\u0e48\\u0e07\\u0e27\\u0e34\\u0e48\\u0e07\\u0e01\\u0e31\\u0e19\\u0e14\\u0e35\\u0e44\\u0e2b\\u0e21</p>\\n\\n<p>\\u0e2b\\u0e2d\\u0e22\\u0e1a\\u0e2d\\u0e01\\u0e27\\u0e48\\u0e32 \\u0e40\\u0e23\\u0e32\\u0e44\\u0e1b\\u0e1b\\u0e23\\u0e36\\u0e01\\u0e29\\u0e32\\u0e40\\u0e1e\\u0e37\\u0e48\\u0e2d\\u0e19\\u0e01\\u0e48\\u0e2d\\u0e19\\u0e19\\u0e30</p>\\n\\n<p>\\u0e40\\u0e0b\\u0e35\\u0e22\\u0e07\\u0e40\\u0e21\\u0e35\\u0e48\\u0e22\\u0e07\\u0e15\\u0e2d\\u0e1a &nbsp;\\u0e08\\u0e30\\u0e44\\u0e1b\\u0e01\\u0e47\\u0e23\\u0e35\\u0e1a\\u0e44\\u0e1b\\u0e23\\u0e35\\u0e1a\\u0e21\\u0e32\\u0e1a\\u0e2d\\u0e01\\u0e19\\u0e30</p>\\n\\n<p>\\u0e1e\\u0e27\\u0e01\\u0e2b\\u0e2d\\u0e22\\u0e40\\u0e25\\u0e22\\u0e21\\u0e32\\u0e0a\\u0e38\\u0e21\\u0e19\\u0e38\\u0e21\\u0e01\\u0e31\\u0e19\\u0e40\\u0e1e\\u0e37\\u0e48\\u0e2d\\u0e1b\\u0e23\\u0e36\\u0e01\\u0e29\\u0e32\\u0e27\\u0e48\\u0e32\\u0e08\\u0e30\\u0e17\\u0e33\\u0e2d\\u0e22\\u0e48\\u0e32\\u0e07\\u0e44\\u0e23\\u0e14\\u0e35</p>\\n\\n<p>\\u0e43\\u0e19\\u0e17\\u0e35\\u0e48\\u0e2a\\u0e38\\u0e14\\u0e2b\\u0e2d\\u0e22\\u0e15\\u0e31\\u0e27\\u0e2b\\u0e19\\u0e36\\u0e48\\u0e07\\u0e01\\u0e47\\u0e1e\\u0e39\\u0e14\\u0e27\\u0e48\\u0e32 &nbsp;\\u0e40\\u0e23\\u0e32\\u0e01\\u0e47\\u0e21\\u0e32\\u0e15\\u0e48\\u0e2d\\u0e41\\u0e16\\u0e27\\u0e01\\u0e31\\u0e19\\u0e22\\u0e32\\u0e27\\u0e44\\u0e1b\\u0e16\\u0e36\\u0e07\\u0e40\\u0e2a\\u0e49\\u0e19\\u0e0a\\u0e31\\u0e22 \\u0e40\\u0e23\\u0e32\\u0e15\\u0e31\\u0e27\\u0e40\\u0e25\\u0e47\\u0e01\\u0e40\\u0e0b\\u0e35\\u0e22\\u0e07\\u0e40\\u0e21\\u0e35\\u0e48\\u0e22\\u0e07\\u0e21\\u0e2d\\u0e07\\u0e44\\u0e21\\u0e48\\u0e40\\u0e2b\\u0e47\\u0e19\\u0e40\\u0e23\\u0e32\\u0e2b\\u0e23\\u0e2d\\u0e01 &nbsp;\\u0e40\\u0e27\\u0e25\\u0e32\\u0e27\\u0e34\\u0e48\\u0e07\\u0e43\\u0e2b\\u0e49\\u0e40\\u0e0b\\u0e35\\u0e22\\u0e07\\u0e40\\u0e21\\u0e35\\u0e48\\u0e22\\u0e07\\u0e23\\u0e49\\u0e2d\\u0e07\\u0e40\\u0e23\\u0e35\\u0e22\\u0e01\\u0e40\\u0e23\\u0e32\\u0e27\\u0e48\\u0e32\\u0e2b\\u0e2d\\u0e22 \\u0e43\\u0e2b\\u0e49\\u0e2b\\u0e2d\\u0e22\\u0e15\\u0e31\\u0e27\\u0e43\\u0e2b\\u0e0d\\u0e48\\u0e17\\u0e35\\u0e48\\u0e2d\\u0e22\\u0e39\\u0e48\\u0e02\\u0e49\\u0e32\\u0e07\\u0e2b\\u0e19\\u0e49\\u0e32\\u0e23\\u0e49\\u0e2d\\u0e07\\u0e15\\u0e2d\\u0e1a\\u0e27\\u0e48\\u0e32 \\u0e01\\u0e39\\u0e4a\\u0e01 \\u0e40\\u0e17\\u0e48\\u0e32\\u0e19\\u0e31\\u0e49\\u0e19\\u0e40\\u0e23\\u0e32\\u0e01\\u0e47\\u0e0a\\u0e19\\u0e30\\u0e40\\u0e0b\\u0e35\\u0e22\\u0e07\\u0e40\\u0e21\\u0e35\\u0e48\\u0e22\\u0e07\\u0e41\\u0e25\\u0e49\\u0e27</p>\\n\\n<p>\\u0e41\\u0e25\\u0e49\\u0e27\\u0e01\\u0e32\\u0e23\\u0e41\\u0e02\\u0e48\\u0e07\\u0e02\\u0e31\\u0e19\\u0e01\\u0e47\\u0e40\\u0e23\\u0e34\\u0e48\\u0e21\\u0e02\\u0e36\\u0e49\\u0e19 \\u0e42\\u0e14\\u0e22\\u0e21\\u0e35\\u0e01\\u0e32\\u0e40\\u0e1b\\u0e47\\u0e19\\u0e1c\\u0e39\\u0e49\\u0e15\\u0e31\\u0e14\\u0e2a\\u0e34\\u0e19 \\u0e01\\u0e32\\u0e1b\\u0e25\\u0e48\\u0e2d\\u0e22\\u0e15\\u0e31\\u0e27\\u0e19\\u0e31\\u0e01\\u0e27\\u0e34\\u0e48\\u0e07 \\u0e40\\u0e0b\\u0e35\\u0e22\\u0e07\\u0e40\\u0e21\\u0e35\\u0e48\\u0e22\\u0e07\\u0e27\\u0e34\\u0e48\\u0e07\\u0e2a\\u0e38\\u0e14\\u0e41\\u0e23\\u0e07\\u0e41\\u0e25\\u0e49\\u0e27\\u0e40\\u0e0b\\u0e35\\u0e22\\u0e07\\u0e40\\u0e21\\u0e35\\u0e48\\u0e22\\u0e07\\u0e01\\u0e47\\u0e23\\u0e49\\u0e2d\\u0e07\\u0e27\\u0e48\\u0e32 \\u0e2b\\u0e2d\\u0e22</p>\\n\\n<p>\\u0e2b\\u0e2d\\u0e22\\u0e15\\u0e31\\u0e27\\u0e17\\u0e35\\u0e48\\u0e2d\\u0e22\\u0e39\\u0e48\\u0e02\\u0e49\\u0e32\\u0e07\\u0e2b\\u0e19\\u0e49\\u0e32\\u0e01\\u0e47\\u0e15\\u0e2d\\u0e1a\\u0e27\\u0e48\\u0e32 \\u0e01\\u0e39\\u0e4a\\u0e01...</p>\\n\\n<p>\\u0e40\\u0e0b\\u0e35\\u0e22\\u0e07\\u0e40\\u0e21\\u0e35\\u0e48\\u0e22\\u0e07\\u0e01\\u0e47\\u0e27\\u0e34\\u0e48\\u0e07\\u0e15\\u0e48\\u0e2d\\u0e44\\u0e1b\\u0e2d\\u0e35\\u0e01 \\u0e40\\u0e0b\\u0e35\\u0e22\\u0e07\\u0e40\\u0e21\\u0e35\\u0e48\\u0e22\\u0e07\\u0e01\\u0e47\\u0e23\\u0e49\\u0e2d\\u0e07\\u0e40\\u0e23\\u0e35\\u0e22\\u0e01\\u0e27\\u0e48\\u0e32 \\u0e2b\\u0e2d\\u0e22...\\u0e2b\\u0e2d\\u0e22\\u0e15\\u0e31\\u0e27\\u0e17\\u0e35\\u0e48\\u0e2d\\u0e22\\u0e39\\u0e48\\u0e02\\u0e49\\u0e32\\u0e07\\u0e2b\\u0e19\\u0e49\\u0e32\\u0e01\\u0e47\\u0e15\\u0e2d\\u0e1a\\u0e27\\u0e48\\u0e32\\u0e01\\u0e39\\u0e4a\\u0e01...\\u0e40\\u0e0b\\u0e35\\u0e22\\u0e07\\u0e40\\u0e21\\u0e35\\u0e48\\u0e22\\u0e07\\u0e01\\u0e47\\u0e27\\u0e34\\u0e48\\u0e07\\u0e15\\u0e48\\u0e2d\\u0e44\\u0e1b\\u0e2d\\u0e35\\u0e01 \\u0e40\\u0e0b\\u0e35\\u0e22\\u0e07\\u0e40\\u0e21\\u0e35\\u0e48\\u0e22\\u0e07\\u0e01\\u0e47\\u0e23\\u0e49\\u0e2d\\u0e07\\u0e40\\u0e23\\u0e35\\u0e22\\u0e19\\u0e27\\u0e48\\u0e32\\u0e2b\\u0e2d\\u0e22...\\u0e2b\\u0e2d\\u0e22\\u0e15\\u0e31\\u0e27\\u0e17\\u0e35\\u0e48\\u0e2d\\u0e22\\u0e39\\u0e48\\u0e02\\u0e49\\u0e32\\u0e07\\u0e2b\\u0e19\\u0e49\\u0e32\\u0e01\\u0e47\\u0e15\\u0e2d\\u0e1a\\u0e27\\u0e48\\u0e32 \\u0e01\\u0e39\\u0e4a\\u0e01...\\u0e40\\u0e0b\\u0e35\\u0e22\\u0e07\\u0e40\\u0e21\\u0e35\\u0e48\\u0e22\\u0e07\\u0e01\\u0e47\\u0e27\\u0e34\\u0e48\\u0e07\\u0e15\\u0e48\\u0e2d\\u0e44\\u0e1b\\u0e2d\\u0e35\\u0e01\\u0e2d\\u0e22\\u0e48\\u0e32\\u0e07\\u0e41\\u0e23\\u0e07 \\u0e08\\u0e19\\u0e01\\u0e23\\u0e30\\u0e17\\u0e31\\u0e48\\u0e07\\u0e2a\\u0e25\\u0e1a\\u0e2d\\u0e22\\u0e39\\u0e48\\u0e01\\u0e25\\u0e32\\u0e07\\u0e17\\u0e32\\u0e07 \\u0e2a\\u0e23\\u0e38\\u0e1b\\u0e27\\u0e48\\u0e32\\u0e2b\\u0e2d\\u0e22\\u0e40\\u0e1b\\u0e47\\u0e19\\u0e1c\\u0e39\\u0e49\\u0e0a\\u0e19\\u0e30<br />\\n&nbsp;</p>\\n\",\n          \"<p>\\u0e21\\u0e35\\u0e40\\u0e15\\u0e48\\u0e32\\u0e15\\u0e31\\u0e27\\u0e2b\\u0e19\\u0e36\\u0e48\\u0e07\\u0e40\\u0e17\\u0e35\\u0e48\\u0e22\\u0e27\\u0e2b\\u0e32\\u0e01\\u0e34\\u0e19\\u0e2d\\u0e22\\u0e39\\u0e48\\u0e15\\u0e32\\u0e21\\u0e0a\\u0e32\\u0e22\\u0e1b\\u0e48\\u0e32\\u0e43\\u0e01\\u0e25\\u0e49\\u0e17\\u0e38\\u0e48\\u0e07 \\u0e04\\u0e23\\u0e31\\u0e49\\u0e07\\u0e19\\u0e31\\u0e49\\u0e19\\u0e1e\\u0e23\\u0e30\\u0e1e\\u0e38\\u0e17\\u0e18\\u0e40\\u0e08\\u0e49\\u0e32\\u0e40\\u0e2a\\u0e14\\u0e47\\u0e08\\u0e2d\\u0e2d\\u0e01\\u0e42\\u0e1b\\u0e23\\u0e14\\u0e2a\\u0e31\\u0e15\\u0e27\\u0e4c\\u0e44\\u0e14\\u0e49\\u0e1e\\u0e1a\\u0e40\\u0e15\\u0e48\\u0e32\\u0e15\\u0e31\\u0e27\\u0e19\\u0e31\\u0e49\\u0e19\\u0e40\\u0e02\\u0e49\\u0e32\\u0e08\\u0e36\\u0e07\\u0e40\\u0e17\\u0e28\\u0e19\\u0e32\\u0e40\\u0e23\\u0e37\\u0e48\\u0e2d\\u0e07\\u0e1a\\u0e38\\u0e0d\\u0e1a\\u0e32\\u0e1b\\u0e43\\u0e2b\\u0e49\\u0e1f\\u0e31\\u0e07 \\u0e40\\u0e21\\u0e37\\u0e48\\u0e2d\\u0e1e\\u0e23\\u0e30\\u0e1e\\u0e38\\u0e17\\u0e18\\u0e40\\u0e08\\u0e49\\u0e32\\u0e40\\u0e17\\u0e28\\u0e19\\u0e32\\u0e40\\u0e2a\\u0e23\\u0e47\\u0e08\\u0e01\\u0e47\\u0e40\\u0e2a\\u0e14\\u0e47\\u0e08\\u0e44\\u0e1b\\u0e42\\u0e1b\\u0e23\\u0e14\\u0e1e\\u0e38\\u0e17\\u0e18\\u0e21\\u0e32\\u0e23\\u0e14\\u0e32\\u0e43\\u0e19\\u0e40\\u0e21\\u0e37\\u0e2d\\u0e07\\u0e2a\\u0e27\\u0e23\\u0e23\\u0e04\\u0e4c \\u0e40\\u0e15\\u0e48\\u0e32\\u0e02\\u0e2d\\u0e15\\u0e34\\u0e14\\u0e15\\u0e32\\u0e21\\u0e1e\\u0e23\\u0e30\\u0e1e\\u0e38\\u0e17\\u0e18\\u0e40\\u0e08\\u0e49\\u0e32\\u0e14\\u0e49\\u0e27\\u0e22\\u0e42\\u0e14\\u0e22\\u0e04\\u0e32\\u0e1a\\u0e0a\\u0e32\\u0e22\\u0e08\\u0e35\\u0e27\\u0e23\\u0e02\\u0e2d\\u0e07\\u0e1e\\u0e23\\u0e30\\u0e1e\\u0e38\\u0e17\\u0e18\\u0e40\\u0e08\\u0e49\\u0e32\\u0e02\\u0e36\\u0e49\\u0e19\\u0e44\\u0e1b \\u0e02\\u0e13\\u0e30\\u0e17\\u0e35\\u0e48\\u0e1e\\u0e23\\u0e30\\u0e1e\\u0e38\\u0e17\\u0e18\\u0e40\\u0e08\\u0e49\\u0e32\\u0e40\\u0e2b\\u0e32\\u0e30\\u0e44\\u0e1b\\u0e16\\u0e36\\u0e07\\u0e01\\u0e25\\u0e32\\u0e07\\u0e17\\u0e38\\u0e48\\u0e07\\u0e41\\u0e2b\\u0e48\\u0e07\\u0e2b\\u0e19\\u0e36\\u0e48\\u0e07 \\u0e27\\u0e31\\u0e27\\u0e15\\u0e31\\u0e27\\u0e2b\\u0e19\\u0e36\\u0e48\\u0e07\\u0e40\\u0e2b\\u0e47\\u0e19\\u0e40\\u0e15\\u0e48\\u0e32\\u0e04\\u0e32\\u0e1a\\u0e0a\\u0e32\\u0e22\\u0e08\\u0e35\\u0e27\\u0e23\\u0e1e\\u0e23\\u0e30\\u0e1e\\u0e38\\u0e17\\u0e18\\u0e40\\u0e08\\u0e49\\u0e32\\u0e40\\u0e0a\\u0e48\\u0e19\\u0e19\\u0e31\\u0e49\\u0e19\\u0e01\\u0e47\\u0e2b\\u0e31\\u0e27\\u0e40\\u0e23\\u0e32\\u0e30 \\u0e40\\u0e15\\u0e48\\u0e32\\u0e42\\u0e01\\u0e23\\u0e18\\u0e08\\u0e36\\u0e07\\u0e14\\u0e48\\u0e32\\u0e41\\u0e21\\u0e48\\u0e25\\u0e07\\u0e21\\u0e32\\u0e42\\u0e14\\u0e22\\u0e25\\u0e37\\u0e21\\u0e44\\u0e1b\\u0e27\\u0e48\\u0e32\\u0e15\\u0e19\\u0e01\\u0e33\\u0e25\\u0e31\\u0e07\\u0e04\\u0e32\\u0e1a\\u0e08\\u0e35\\u0e27\\u0e23\\u0e1e\\u0e23\\u0e30\\u0e1e\\u0e38\\u0e17\\u0e18\\u0e40\\u0e08\\u0e49\\u0e32\\u0e2d\\u0e22\\u0e39\\u0e48 \\u0e40\\u0e15\\u0e48\\u0e32\\u0e15\\u0e01\\u0e25\\u0e07\\u0e21\\u0e32\\u0e16\\u0e36\\u0e07\\u0e1b\\u0e32\\u0e01\\u0e27\\u0e31\\u0e27\\u0e1e\\u0e2d\\u0e14\\u0e35 \\u0e17\\u0e33\\u0e43\\u0e2b\\u0e49\\u0e27\\u0e31\\u0e27\\u0e1f\\u0e31\\u0e19\\u0e1a\\u0e19\\u0e2b\\u0e31\\u0e01\\u0e2b\\u0e21\\u0e14 \\u0e40\\u0e15\\u0e48\\u0e32\\u0e40\\u0e2d\\u0e07\\u0e01\\u0e47\\u0e01\\u0e23\\u0e30\\u0e14\\u0e2d\\u0e07\\u0e23\\u0e49\\u0e32\\u0e27\\u0e21\\u0e32\\u0e08\\u0e19\\u0e17\\u0e38\\u0e01\\u0e27\\u0e31\\u0e19\\u0e19\\u0e35\\u0e49</p>\\n\",\n          \"<p>\\u0e43\\u0e19\\u0e2a\\u0e21\\u0e31\\u0e22\\u0e01\\u0e48\\u0e2d\\u0e19 \\u0e07\\u0e39\\u0e40\\u0e2b\\u0e25\\u0e37\\u0e2d\\u0e21\\u0e21\\u0e35\\u0e23\\u0e48\\u0e32\\u0e07\\u0e01\\u0e32\\u0e22\\u0e43\\u0e2b\\u0e0d\\u0e48\\u0e42\\u0e15 \\u0e21\\u0e35\\u0e1e\\u0e34\\u0e29\\u0e21\\u0e32\\u0e01\\u0e01\\u0e27\\u0e48\\u0e32\\u0e07\\u0e39\\u0e17\\u0e38\\u0e01\\u0e0a\\u0e19\\u0e34\\u0e14 \\u0e40\\u0e21\\u0e37\\u0e48\\u0e2d\\u0e07\\u0e39\\u0e40\\u0e2b\\u0e25\\u0e37\\u0e2d\\u0e21\\u0e01\\u0e31\\u0e14\\u0e04\\u0e19\\u0e2b\\u0e23\\u0e37\\u0e2d\\u0e2a\\u0e31\\u0e15\\u0e27\\u0e4c\\u0e08\\u0e30\\u0e15\\u0e32\\u0e22\\u0e17\\u0e31\\u0e19\\u0e17\\u0e35 \\u0e27\\u0e31\\u0e19\\u0e2b\\u0e19\\u0e36\\u0e48\\u0e07\\u0e0a\\u0e32\\u0e22\\u0e0a\\u0e23\\u0e32\\u0e04\\u0e19\\u0e2b\\u0e19\\u0e36\\u0e48\\u0e07\\u0e44\\u0e1b\\u0e2b\\u0e32\\u0e40\\u0e02\\u0e35\\u0e22\\u0e14\\u0e43\\u0e19\\u0e19\\u0e32 \\u0e40\\u0e21\\u0e37\\u0e48\\u0e2d\\u0e2b\\u0e32\\u0e44\\u0e14\\u0e49\\u0e41\\u0e25\\u0e49\\u0e27\\u0e01\\u0e47\\u0e40\\u0e2d\\u0e32\\u0e40\\u0e02\\u0e35\\u0e22\\u0e14\\u0e21\\u0e31\\u0e14\\u0e40\\u0e01\\u0e47\\u0e1a\\u0e43\\u0e2a\\u0e48\\u0e01\\u0e23\\u0e30\\u0e40\\u0e1b\\u0e4b\\u0e32\\u0e40\\u0e2a\\u0e37\\u0e49\\u0e2d \\u0e02\\u0e13\\u0e30\\u0e17\\u0e35\\u0e48\\u0e40\\u0e14\\u0e34\\u0e19\\u0e01\\u0e25\\u0e31\\u0e1a\\u0e1a\\u0e49\\u0e32\\u0e19\\u0e19\\u0e31\\u0e49\\u0e19\\u0e0a\\u0e32\\u0e22\\u0e0a\\u0e23\\u0e32\\u0e40\\u0e2b\\u0e22\\u0e35\\u0e22\\u0e1a\\u0e07\\u0e39\\u0e40\\u0e2b\\u0e25\\u0e37\\u0e2d\\u0e21 \\u0e07\\u0e39\\u0e40\\u0e2b\\u0e25\\u0e37\\u0e2d\\u0e21\\u0e08\\u0e36\\u0e07\\u0e01\\u0e31\\u0e14\\u0e0a\\u0e32\\u0e22\\u0e0a\\u0e23\\u0e32\\u0e15\\u0e32\\u0e22\\u0e04\\u0e32\\u0e17\\u0e35\\u0e48 \\u0e41\\u0e15\\u0e48\\u0e40\\u0e02\\u0e35\\u0e22\\u0e14\\u0e17\\u0e35\\u0e48\\u0e2d\\u0e22\\u0e39\\u0e48\\u0e43\\u0e19\\u0e01\\u0e23\\u0e30\\u0e40\\u0e1b\\u0e4b\\u0e32\\u0e40\\u0e2a\\u0e37\\u0e49\\u0e2d\\u0e0a\\u0e32\\u0e22\\u0e0a\\u0e23\\u0e32\\u0e44\\u0e21\\u0e48\\u0e15\\u0e32\\u0e22\\u0e08\\u0e36\\u0e07\\u0e14\\u0e34\\u0e49\\u0e19\\u0e44\\u0e1b\\u0e21\\u0e32 \\u0e07\\u0e39\\u0e40\\u0e2b\\u0e25\\u0e37\\u0e2d\\u0e21\\u0e40\\u0e2b\\u0e47\\u0e19\\u0e40\\u0e2a\\u0e37\\u0e49\\u0e2d\\u0e44\\u0e2b\\u0e27\\u0e44\\u0e1b\\u0e21\\u0e32\\u0e01\\u0e47\\u0e19\\u0e36\\u0e01\\u0e27\\u0e48\\u0e32\\u0e0a\\u0e32\\u0e22\\u0e0a\\u0e23\\u0e32\\u0e44\\u0e21\\u0e48\\u0e15\\u0e32\\u0e22 \\u0e2a\\u0e33\\u0e04\\u0e31\\u0e0d\\u0e1c\\u0e34\\u0e14\\u0e04\\u0e34\\u0e14\\u0e27\\u0e48\\u0e32\\u0e1e\\u0e34\\u0e29\\u0e02\\u0e2d\\u0e07\\u0e15\\u0e19\\u0e44\\u0e21\\u0e48\\u0e21\\u0e35\\u0e04\\u0e27\\u0e32\\u0e21\\u0e2b\\u0e21\\u0e32\\u0e22\\u0e08\\u0e36\\u0e07\\u0e04\\u0e32\\u0e22\\u0e1e\\u0e34\\u0e29\\u0e2d\\u0e2d\\u0e01 \\u0e1e\\u0e27\\u0e01\\u0e07\\u0e39\\u0e40\\u0e2b\\u0e48\\u0e32 \\u0e07\\u0e39\\u0e08\\u0e07\\u0e2d\\u0e32\\u0e07 \\u0e2d\\u0e22\\u0e39\\u0e48\\u0e43\\u0e01\\u0e25\\u0e49\\u0e46\\u0e08\\u0e36\\u0e07\\u0e40\\u0e25\\u0e37\\u0e49\\u0e2d\\u0e22\\u0e44\\u0e1b\\u0e2a\\u0e39\\u0e14\\u0e40\\u0e2d\\u0e32\\u0e1e\\u0e34\\u0e29 \\u0e14\\u0e31\\u0e07\\u0e19\\u0e31\\u0e49\\u0e19\\u0e07\\u0e39\\u0e40\\u0e2b\\u0e48\\u0e32 \\u0e07\\u0e39\\u0e08\\u0e07\\u0e2d\\u0e32\\u0e07\\u0e08\\u0e36\\u0e07\\u0e21\\u0e35\\u0e1e\\u0e34\\u0e29\\u0e21\\u0e32\\u0e01\\u0e01\\u0e27\\u0e48\\u0e32\\u0e07\\u0e39\\u0e17\\u0e31\\u0e49\\u0e07\\u0e2b\\u0e25\\u0e32\\u0e22 \\u0e07\\u0e39\\u0e2d\\u0e37\\u0e48\\u0e19\\u0e46\\u0e21\\u0e35\\u0e1e\\u0e34\\u0e29\\u0e40\\u0e1e\\u0e35\\u0e22\\u0e07\\u0e40\\u0e25\\u0e47\\u0e01\\u0e19\\u0e49\\u0e2d\\u0e22\\u0e40\\u0e1e\\u0e23\\u0e32\\u0e30\\u0e40\\u0e1e\\u0e35\\u0e22\\u0e07\\u0e41\\u0e15\\u0e48\\u0e44\\u0e14\\u0e49\\u0e14\\u0e21\\u0e01\\u0e25\\u0e34\\u0e48\\u0e19\\u0e1e\\u0e34\\u0e29\\u0e40\\u0e17\\u0e48\\u0e32\\u0e19\\u0e31\\u0e49\\u0e19&nbsp;</p>\\n\"\n        ],\n        \"semantic_type\": \"\",\n        \"description\": \"\"\n      }\n    },\n    {\n      \"column\": \"subject\",\n      \"properties\": {\n        \"dtype\": \"category\",\n        \"num_unique_values\": 1,\n        \"samples\": [\n          \"\\u0e19\\u0e34\\u0e17\\u0e32\\u0e19\\u0e1e\\u0e37\\u0e49\\u0e19\\u0e1a\\u0e49\\u0e32\\u0e19\"\n        ],\n        \"semantic_type\": \"\",\n        \"description\": \"\"\n      }\n    },\n    {\n      \"column\": \"spatial\",\n      \"properties\": {\n        \"dtype\": \"category\",\n        \"num_unique_values\": 8,\n        \"samples\": [\n          \"\\u0e44\\u0e17\\u0e22,\"\n        ],\n        \"semantic_type\": \"\",\n        \"description\": \"\"\n      }\n    },\n    {\n      \"column\": \"temporal\",\n      \"properties\": {\n        \"dtype\": \"number\",\n        \"std\": null,\n        \"min\": null,\n        \"max\": null,\n        \"num_unique_values\": 0,\n        \"samples\": [],\n        \"semantic_type\": \"\",\n        \"description\": \"\"\n      }\n    },\n    {\n      \"column\": \"language\",\n      \"properties\": {\n        \"dtype\": \"category\",\n        \"num_unique_values\": 1,\n        \"samples\": [],\n        \"semantic_type\": \"\",\n        \"description\": \"\"\n      }\n    },\n    {\n      \"column\": \"rights\",\n      \"properties\": {\n        \"dtype\": \"category\",\n        \"num_unique_values\": 1,\n        \"samples\": [],\n        \"semantic_type\": \"\",\n        \"description\": \"\"\n      }\n    },\n    {\n      \"column\": \"license\",\n      \"properties\": {\n        \"dtype\": \"category\",\n        \"num_unique_values\": 1,\n        \"samples\": [],\n        \"semantic_type\": \"\",\n        \"description\": \"\"\n      }\n    },\n    {\n      \"column\": \"source.uri\",\n      \"properties\": {\n        \"dtype\": \"string\",\n        \"num_unique_values\": 226,\n        \"samples\": [],\n        \"semantic_type\": \"\",\n        \"description\": \"\"\n      }\n    }\n  ]\n}"
            }
          },
          "metadata": {},
          "execution_count": 8
        }
      ]
    },
    {
      "cell_type": "markdown",
      "source": [
        ">"
      ],
      "metadata": {
        "id": "OyeOVP-4Wg1F"
      }
    },
    {
      "cell_type": "code",
      "source": [
        "folk_df.head() #แสดงแค่หัวตาราง"
      ],
      "metadata": {
        "colab": {
          "base_uri": "https://localhost:8080/",
          "height": 660
        },
        "id": "RyfBBuwQWP0x",
        "outputId": "1ce5bfec-eccf-4d0b-a0f3-a721759c2234"
      },
      "execution_count": null,
      "outputs": [
        {
          "output_type": "execute_result",
          "data": {
            "text/plain": [
              "                title            type             creator  \\\n",
              "0        ตาบอดคลำช้าง  นิทานประจำถิ่น    อ่อนตา ประกาเวสา   \n",
              "1      ขอคำกระฮอกด่อน    ตำนานปรัมปรา           พ่อใหญ่นู   \n",
              "2  ก่องข้าวน้อยฆ่าแม่      นิทานชีวิต  หนูเวียง แก้วเวียง   \n",
              "3           บักหำน้อย          มุขตลก     สมหวัง ปานพายัพ   \n",
              "4          รื้อบ่อน้ำ          มุขตลก      บุญศรี เกสเสโร   \n",
              "\n",
              "                                         description        subject spatial  \\\n",
              "0  <p>&nbsp; &nbsp; &nbsp; &nbsp; มีคนตาบอดหกคน ซ...  นิทานพื้นบ้าน     ไทย   \n",
              "1  <p>&nbsp; &nbsp; &nbsp; ในขณะนั้นมีพญาผู้หนึ่ง...  นิทานพื้นบ้าน     ไทย   \n",
              "2  <p>ครั้งหนึ่งนานมาแล้วในฤดูฝน มีการเตรียมปักดำ...  นิทานพื้นบ้าน     ไทย   \n",
              "3  <p>เรื่องมีอยู่ว่า ณ โรงเรียนแห่งหนึ่งของภาคอี...  นิทานพื้นบ้าน     ไทย   \n",
              "4  <p>วันหนึ่งพ่อตากับลูกเขยพากันไปรื้อบ่อน้ำใช้ ...  นิทานพื้นบ้าน     ไทย   \n",
              "\n",
              "   temporal language rights                         license  \\\n",
              "0       NaN      ไทย    NaN  สัญญาอนุญาตของครีเอทีฟคอมมอนส์   \n",
              "1       NaN      ไทย    NaN  สัญญาอนุญาตของครีเอทีฟคอมมอนส์   \n",
              "2       NaN      ไทย    NaN  สัญญาอนุญาตของครีเอทีฟคอมมอนส์   \n",
              "3       NaN      ไทย    NaN  สัญญาอนุญาตของครีเอทีฟคอมมอนส์   \n",
              "4       NaN      ไทย    NaN  สัญญาอนุญาตของครีเอทีฟคอมมอนส์   \n",
              "\n",
              "                                          source.uri  \n",
              "0  https://www.sac.or.th/databases/folktales/folk...  \n",
              "1  https://www.sac.or.th/databases/folktales/folk...  \n",
              "2  https://www.sac.or.th/databases/folktales/folk...  \n",
              "3  https://www.sac.or.th/databases/folktales/folk...  \n",
              "4  https://www.sac.or.th/databases/folktales/folk...  "
            ],
            "text/html": [
              "\n",
              "  <div id=\"df-6bb46df7-0129-4766-8ad7-9321adc037db\" class=\"colab-df-container\">\n",
              "    <div>\n",
              "<style scoped>\n",
              "    .dataframe tbody tr th:only-of-type {\n",
              "        vertical-align: middle;\n",
              "    }\n",
              "\n",
              "    .dataframe tbody tr th {\n",
              "        vertical-align: top;\n",
              "    }\n",
              "\n",
              "    .dataframe thead th {\n",
              "        text-align: right;\n",
              "    }\n",
              "</style>\n",
              "<table border=\"1\" class=\"dataframe\">\n",
              "  <thead>\n",
              "    <tr style=\"text-align: right;\">\n",
              "      <th></th>\n",
              "      <th>title</th>\n",
              "      <th>type</th>\n",
              "      <th>creator</th>\n",
              "      <th>description</th>\n",
              "      <th>subject</th>\n",
              "      <th>spatial</th>\n",
              "      <th>temporal</th>\n",
              "      <th>language</th>\n",
              "      <th>rights</th>\n",
              "      <th>license</th>\n",
              "      <th>source.uri</th>\n",
              "    </tr>\n",
              "  </thead>\n",
              "  <tbody>\n",
              "    <tr>\n",
              "      <th>0</th>\n",
              "      <td>ตาบอดคลำช้าง</td>\n",
              "      <td>นิทานประจำถิ่น</td>\n",
              "      <td>อ่อนตา ประกาเวสา</td>\n",
              "      <td>&lt;p&gt;&amp;nbsp; &amp;nbsp; &amp;nbsp; &amp;nbsp; มีคนตาบอดหกคน ซ...</td>\n",
              "      <td>นิทานพื้นบ้าน</td>\n",
              "      <td>ไทย</td>\n",
              "      <td>NaN</td>\n",
              "      <td>ไทย</td>\n",
              "      <td>NaN</td>\n",
              "      <td>สัญญาอนุญาตของครีเอทีฟคอมมอนส์</td>\n",
              "      <td>https://www.sac.or.th/databases/folktales/folk...</td>\n",
              "    </tr>\n",
              "    <tr>\n",
              "      <th>1</th>\n",
              "      <td>ขอคำกระฮอกด่อน</td>\n",
              "      <td>ตำนานปรัมปรา</td>\n",
              "      <td>พ่อใหญ่นู</td>\n",
              "      <td>&lt;p&gt;&amp;nbsp; &amp;nbsp; &amp;nbsp; ในขณะนั้นมีพญาผู้หนึ่ง...</td>\n",
              "      <td>นิทานพื้นบ้าน</td>\n",
              "      <td>ไทย</td>\n",
              "      <td>NaN</td>\n",
              "      <td>ไทย</td>\n",
              "      <td>NaN</td>\n",
              "      <td>สัญญาอนุญาตของครีเอทีฟคอมมอนส์</td>\n",
              "      <td>https://www.sac.or.th/databases/folktales/folk...</td>\n",
              "    </tr>\n",
              "    <tr>\n",
              "      <th>2</th>\n",
              "      <td>ก่องข้าวน้อยฆ่าแม่</td>\n",
              "      <td>นิทานชีวิต</td>\n",
              "      <td>หนูเวียง แก้วเวียง</td>\n",
              "      <td>&lt;p&gt;ครั้งหนึ่งนานมาแล้วในฤดูฝน มีการเตรียมปักดำ...</td>\n",
              "      <td>นิทานพื้นบ้าน</td>\n",
              "      <td>ไทย</td>\n",
              "      <td>NaN</td>\n",
              "      <td>ไทย</td>\n",
              "      <td>NaN</td>\n",
              "      <td>สัญญาอนุญาตของครีเอทีฟคอมมอนส์</td>\n",
              "      <td>https://www.sac.or.th/databases/folktales/folk...</td>\n",
              "    </tr>\n",
              "    <tr>\n",
              "      <th>3</th>\n",
              "      <td>บักหำน้อย</td>\n",
              "      <td>มุขตลก</td>\n",
              "      <td>สมหวัง ปานพายัพ</td>\n",
              "      <td>&lt;p&gt;เรื่องมีอยู่ว่า ณ โรงเรียนแห่งหนึ่งของภาคอี...</td>\n",
              "      <td>นิทานพื้นบ้าน</td>\n",
              "      <td>ไทย</td>\n",
              "      <td>NaN</td>\n",
              "      <td>ไทย</td>\n",
              "      <td>NaN</td>\n",
              "      <td>สัญญาอนุญาตของครีเอทีฟคอมมอนส์</td>\n",
              "      <td>https://www.sac.or.th/databases/folktales/folk...</td>\n",
              "    </tr>\n",
              "    <tr>\n",
              "      <th>4</th>\n",
              "      <td>รื้อบ่อน้ำ</td>\n",
              "      <td>มุขตลก</td>\n",
              "      <td>บุญศรี เกสเสโร</td>\n",
              "      <td>&lt;p&gt;วันหนึ่งพ่อตากับลูกเขยพากันไปรื้อบ่อน้ำใช้ ...</td>\n",
              "      <td>นิทานพื้นบ้าน</td>\n",
              "      <td>ไทย</td>\n",
              "      <td>NaN</td>\n",
              "      <td>ไทย</td>\n",
              "      <td>NaN</td>\n",
              "      <td>สัญญาอนุญาตของครีเอทีฟคอมมอนส์</td>\n",
              "      <td>https://www.sac.or.th/databases/folktales/folk...</td>\n",
              "    </tr>\n",
              "  </tbody>\n",
              "</table>\n",
              "</div>\n",
              "    <div class=\"colab-df-buttons\">\n",
              "\n",
              "  <div class=\"colab-df-container\">\n",
              "    <button class=\"colab-df-convert\" onclick=\"convertToInteractive('df-6bb46df7-0129-4766-8ad7-9321adc037db')\"\n",
              "            title=\"Convert this dataframe to an interactive table.\"\n",
              "            style=\"display:none;\">\n",
              "\n",
              "  <svg xmlns=\"http://www.w3.org/2000/svg\" height=\"24px\" viewBox=\"0 -960 960 960\">\n",
              "    <path d=\"M120-120v-720h720v720H120Zm60-500h600v-160H180v160Zm220 220h160v-160H400v160Zm0 220h160v-160H400v160ZM180-400h160v-160H180v160Zm440 0h160v-160H620v160ZM180-180h160v-160H180v160Zm440 0h160v-160H620v160Z\"/>\n",
              "  </svg>\n",
              "    </button>\n",
              "\n",
              "  <style>\n",
              "    .colab-df-container {\n",
              "      display:flex;\n",
              "      gap: 12px;\n",
              "    }\n",
              "\n",
              "    .colab-df-convert {\n",
              "      background-color: #E8F0FE;\n",
              "      border: none;\n",
              "      border-radius: 50%;\n",
              "      cursor: pointer;\n",
              "      display: none;\n",
              "      fill: #1967D2;\n",
              "      height: 32px;\n",
              "      padding: 0 0 0 0;\n",
              "      width: 32px;\n",
              "    }\n",
              "\n",
              "    .colab-df-convert:hover {\n",
              "      background-color: #E2EBFA;\n",
              "      box-shadow: 0px 1px 2px rgba(60, 64, 67, 0.3), 0px 1px 3px 1px rgba(60, 64, 67, 0.15);\n",
              "      fill: #174EA6;\n",
              "    }\n",
              "\n",
              "    .colab-df-buttons div {\n",
              "      margin-bottom: 4px;\n",
              "    }\n",
              "\n",
              "    [theme=dark] .colab-df-convert {\n",
              "      background-color: #3B4455;\n",
              "      fill: #D2E3FC;\n",
              "    }\n",
              "\n",
              "    [theme=dark] .colab-df-convert:hover {\n",
              "      background-color: #434B5C;\n",
              "      box-shadow: 0px 1px 3px 1px rgba(0, 0, 0, 0.15);\n",
              "      filter: drop-shadow(0px 1px 2px rgba(0, 0, 0, 0.3));\n",
              "      fill: #FFFFFF;\n",
              "    }\n",
              "  </style>\n",
              "\n",
              "    <script>\n",
              "      const buttonEl =\n",
              "        document.querySelector('#df-6bb46df7-0129-4766-8ad7-9321adc037db button.colab-df-convert');\n",
              "      buttonEl.style.display =\n",
              "        google.colab.kernel.accessAllowed ? 'block' : 'none';\n",
              "\n",
              "      async function convertToInteractive(key) {\n",
              "        const element = document.querySelector('#df-6bb46df7-0129-4766-8ad7-9321adc037db');\n",
              "        const dataTable =\n",
              "          await google.colab.kernel.invokeFunction('convertToInteractive',\n",
              "                                                    [key], {});\n",
              "        if (!dataTable) return;\n",
              "\n",
              "        const docLinkHtml = 'Like what you see? Visit the ' +\n",
              "          '<a target=\"_blank\" href=https://colab.research.google.com/notebooks/data_table.ipynb>data table notebook</a>'\n",
              "          + ' to learn more about interactive tables.';\n",
              "        element.innerHTML = '';\n",
              "        dataTable['output_type'] = 'display_data';\n",
              "        await google.colab.output.renderOutput(dataTable, element);\n",
              "        const docLink = document.createElement('div');\n",
              "        docLink.innerHTML = docLinkHtml;\n",
              "        element.appendChild(docLink);\n",
              "      }\n",
              "    </script>\n",
              "  </div>\n",
              "\n",
              "\n",
              "<div id=\"df-55e72488-f8ab-41af-a162-8c36dfd058cd\">\n",
              "  <button class=\"colab-df-quickchart\" onclick=\"quickchart('df-55e72488-f8ab-41af-a162-8c36dfd058cd')\"\n",
              "            title=\"Suggest charts\"\n",
              "            style=\"display:none;\">\n",
              "\n",
              "<svg xmlns=\"http://www.w3.org/2000/svg\" height=\"24px\"viewBox=\"0 0 24 24\"\n",
              "     width=\"24px\">\n",
              "    <g>\n",
              "        <path d=\"M19 3H5c-1.1 0-2 .9-2 2v14c0 1.1.9 2 2 2h14c1.1 0 2-.9 2-2V5c0-1.1-.9-2-2-2zM9 17H7v-7h2v7zm4 0h-2V7h2v10zm4 0h-2v-4h2v4z\"/>\n",
              "    </g>\n",
              "</svg>\n",
              "  </button>\n",
              "\n",
              "<style>\n",
              "  .colab-df-quickchart {\n",
              "      --bg-color: #E8F0FE;\n",
              "      --fill-color: #1967D2;\n",
              "      --hover-bg-color: #E2EBFA;\n",
              "      --hover-fill-color: #174EA6;\n",
              "      --disabled-fill-color: #AAA;\n",
              "      --disabled-bg-color: #DDD;\n",
              "  }\n",
              "\n",
              "  [theme=dark] .colab-df-quickchart {\n",
              "      --bg-color: #3B4455;\n",
              "      --fill-color: #D2E3FC;\n",
              "      --hover-bg-color: #434B5C;\n",
              "      --hover-fill-color: #FFFFFF;\n",
              "      --disabled-bg-color: #3B4455;\n",
              "      --disabled-fill-color: #666;\n",
              "  }\n",
              "\n",
              "  .colab-df-quickchart {\n",
              "    background-color: var(--bg-color);\n",
              "    border: none;\n",
              "    border-radius: 50%;\n",
              "    cursor: pointer;\n",
              "    display: none;\n",
              "    fill: var(--fill-color);\n",
              "    height: 32px;\n",
              "    padding: 0;\n",
              "    width: 32px;\n",
              "  }\n",
              "\n",
              "  .colab-df-quickchart:hover {\n",
              "    background-color: var(--hover-bg-color);\n",
              "    box-shadow: 0 1px 2px rgba(60, 64, 67, 0.3), 0 1px 3px 1px rgba(60, 64, 67, 0.15);\n",
              "    fill: var(--button-hover-fill-color);\n",
              "  }\n",
              "\n",
              "  .colab-df-quickchart-complete:disabled,\n",
              "  .colab-df-quickchart-complete:disabled:hover {\n",
              "    background-color: var(--disabled-bg-color);\n",
              "    fill: var(--disabled-fill-color);\n",
              "    box-shadow: none;\n",
              "  }\n",
              "\n",
              "  .colab-df-spinner {\n",
              "    border: 2px solid var(--fill-color);\n",
              "    border-color: transparent;\n",
              "    border-bottom-color: var(--fill-color);\n",
              "    animation:\n",
              "      spin 1s steps(1) infinite;\n",
              "  }\n",
              "\n",
              "  @keyframes spin {\n",
              "    0% {\n",
              "      border-color: transparent;\n",
              "      border-bottom-color: var(--fill-color);\n",
              "      border-left-color: var(--fill-color);\n",
              "    }\n",
              "    20% {\n",
              "      border-color: transparent;\n",
              "      border-left-color: var(--fill-color);\n",
              "      border-top-color: var(--fill-color);\n",
              "    }\n",
              "    30% {\n",
              "      border-color: transparent;\n",
              "      border-left-color: var(--fill-color);\n",
              "      border-top-color: var(--fill-color);\n",
              "      border-right-color: var(--fill-color);\n",
              "    }\n",
              "    40% {\n",
              "      border-color: transparent;\n",
              "      border-right-color: var(--fill-color);\n",
              "      border-top-color: var(--fill-color);\n",
              "    }\n",
              "    60% {\n",
              "      border-color: transparent;\n",
              "      border-right-color: var(--fill-color);\n",
              "    }\n",
              "    80% {\n",
              "      border-color: transparent;\n",
              "      border-right-color: var(--fill-color);\n",
              "      border-bottom-color: var(--fill-color);\n",
              "    }\n",
              "    90% {\n",
              "      border-color: transparent;\n",
              "      border-bottom-color: var(--fill-color);\n",
              "    }\n",
              "  }\n",
              "</style>\n",
              "\n",
              "  <script>\n",
              "    async function quickchart(key) {\n",
              "      const quickchartButtonEl =\n",
              "        document.querySelector('#' + key + ' button');\n",
              "      quickchartButtonEl.disabled = true;  // To prevent multiple clicks.\n",
              "      quickchartButtonEl.classList.add('colab-df-spinner');\n",
              "      try {\n",
              "        const charts = await google.colab.kernel.invokeFunction(\n",
              "            'suggestCharts', [key], {});\n",
              "      } catch (error) {\n",
              "        console.error('Error during call to suggestCharts:', error);\n",
              "      }\n",
              "      quickchartButtonEl.classList.remove('colab-df-spinner');\n",
              "      quickchartButtonEl.classList.add('colab-df-quickchart-complete');\n",
              "    }\n",
              "    (() => {\n",
              "      let quickchartButtonEl =\n",
              "        document.querySelector('#df-55e72488-f8ab-41af-a162-8c36dfd058cd button');\n",
              "      quickchartButtonEl.style.display =\n",
              "        google.colab.kernel.accessAllowed ? 'block' : 'none';\n",
              "    })();\n",
              "  </script>\n",
              "</div>\n",
              "\n",
              "    </div>\n",
              "  </div>\n"
            ],
            "application/vnd.google.colaboratory.intrinsic+json": {
              "type": "dataframe",
              "variable_name": "folk_df",
              "summary": "{\n  \"name\": \"folk_df\",\n  \"rows\": 226,\n  \"fields\": [\n    {\n      \"column\": \"title\",\n      \"properties\": {\n        \"dtype\": \"string\",\n        \"num_unique_values\": 220,\n        \"samples\": [\n          \"\\u0e08\\u0e31\\u0e01\\u0e08\\u0e31\\u0e48\\u0e19\\u0e44\\u0e21\\u0e48\\u0e21\\u0e35\\u0e44\\u0e2a\\u0e49\",\n          \"\\u0e25\\u0e34\\u0e49\\u0e19\\u0e17\\u0e2d\\u0e07\",\n          \"\\u0e1e\\u0e48\\u0e2d\\u0e43\\u0e2b\\u0e0d\\u0e48\\u0e2b\\u0e31\\u0e27\\u0e25\\u0e49\\u0e32\\u0e19\"\n        ],\n        \"semantic_type\": \"\",\n        \"description\": \"\"\n      }\n    },\n    {\n      \"column\": \"type\",\n      \"properties\": {\n        \"dtype\": \"category\",\n        \"num_unique_values\": 11,\n        \"samples\": [\n          \"\\u0e19\\u0e34\\u0e17\\u0e32\\u0e19\\u0e21\\u0e2b\\u0e31\\u0e28\\u0e08\\u0e23\\u0e23\\u0e22\\u0e4c\",\n          \"\\u0e19\\u0e34\\u0e17\\u0e32\\u0e19\\u0e1b\\u0e23\\u0e30\\u0e08\\u0e33\\u0e16\\u0e34\\u0e48\\u0e19\",\n          \"\\u0e19\\u0e34\\u0e17\\u0e32\\u0e19\\u0e27\\u0e35\\u0e23\\u0e1a\\u0e38\\u0e23\\u0e38\\u0e29\"\n        ],\n        \"semantic_type\": \"\",\n        \"description\": \"\"\n      }\n    },\n    {\n      \"column\": \"creator\",\n      \"properties\": {\n        \"dtype\": \"category\",\n        \"num_unique_values\": 83,\n        \"samples\": [\n          \"\\u0e2d\\u0e49\\u0e27\\u0e19 \\u0e18\\u0e35\\u0e08\\u0e31\\u0e19\\u0e17\\u0e23\\u0e4c\\u0e21\\u0e32\\u0e15\\u0e22\\u0e4c,\\u0e1a\\u0e38\\u0e0d\\u0e40\\u0e25\\u0e34\\u0e28 \\u0e44\\u0e0a\\u0e22\\u0e1e\\u0e07\\u0e29\\u0e4c\",\n          \"\\u0e2d\\u0e48\\u0e2d\\u0e19\\u0e15\\u0e32 \\u0e1b\\u0e23\\u0e30\\u0e01\\u0e32\\u0e40\\u0e27\\u0e2a\\u0e32\",\n          \"\\u0e1e\\u0e23\\u0e30\\u0e2d\\u0e34\\u0e19\\u0e14\\u0e32 \\u0e01\\u0e27\\u0e35\\u0e27\\u0e07\\u0e28\\u0e4c\"\n        ],\n        \"semantic_type\": \"\",\n        \"description\": \"\"\n      }\n    },\n    {\n      \"column\": \"description\",\n      \"properties\": {\n        \"dtype\": \"string\",\n        \"num_unique_values\": 218,\n        \"samples\": [\n          \"<p>\\u0e01\\u0e32\\u0e25\\u0e04\\u0e23\\u0e31\\u0e49\\u0e07\\u0e2b\\u0e19\\u0e36\\u0e48\\u0e07\\u0e19\\u0e32\\u0e19\\u0e21\\u0e32\\u0e41\\u0e25\\u0e49\\u0e27 \\u0e21\\u0e35\\u0e40\\u0e0b\\u0e35\\u0e22\\u0e07\\u0e40\\u0e21\\u0e35\\u0e48\\u0e22\\u0e07\\u0e40\\u0e1b\\u0e47\\u0e19\\u0e04\\u0e19\\u0e2d\\u0e27\\u0e14\\u0e14\\u0e35\\u0e21\\u0e32\\u0e01 \\u0e27\\u0e31\\u0e19\\u0e2b\\u0e19\\u0e36\\u0e48\\u0e07\\u0e40\\u0e0b\\u0e35\\u0e22\\u0e07\\u0e40\\u0e21\\u0e35\\u0e48\\u0e22\\u0e07\\u0e44\\u0e14\\u0e49\\u0e40\\u0e08\\u0e2d\\u0e2b\\u0e2d\\u0e22 \\u0e01\\u0e47\\u0e40\\u0e25\\u0e22\\u0e17\\u0e49\\u0e32\\u0e2b\\u0e2d\\u0e22\\u0e43\\u0e2b\\u0e49\\u0e27\\u0e34\\u0e48\\u0e07\\u0e41\\u0e02\\u0e48\\u0e07\\u0e01\\u0e31\\u0e19</p>\\n\\n<p>\\u0e40\\u0e0b\\u0e35\\u0e22\\u0e07\\u0e40\\u0e21\\u0e35\\u0e48\\u0e22\\u0e07\\u0e27\\u0e48\\u0e32 \\u0e40\\u0e23\\u0e32\\u0e21\\u0e32\\u0e41\\u0e02\\u0e48\\u0e07\\u0e27\\u0e34\\u0e48\\u0e07\\u0e01\\u0e31\\u0e19\\u0e14\\u0e35\\u0e44\\u0e2b\\u0e21</p>\\n\\n<p>\\u0e2b\\u0e2d\\u0e22\\u0e1a\\u0e2d\\u0e01\\u0e27\\u0e48\\u0e32 \\u0e40\\u0e23\\u0e32\\u0e44\\u0e1b\\u0e1b\\u0e23\\u0e36\\u0e01\\u0e29\\u0e32\\u0e40\\u0e1e\\u0e37\\u0e48\\u0e2d\\u0e19\\u0e01\\u0e48\\u0e2d\\u0e19\\u0e19\\u0e30</p>\\n\\n<p>\\u0e40\\u0e0b\\u0e35\\u0e22\\u0e07\\u0e40\\u0e21\\u0e35\\u0e48\\u0e22\\u0e07\\u0e15\\u0e2d\\u0e1a &nbsp;\\u0e08\\u0e30\\u0e44\\u0e1b\\u0e01\\u0e47\\u0e23\\u0e35\\u0e1a\\u0e44\\u0e1b\\u0e23\\u0e35\\u0e1a\\u0e21\\u0e32\\u0e1a\\u0e2d\\u0e01\\u0e19\\u0e30</p>\\n\\n<p>\\u0e1e\\u0e27\\u0e01\\u0e2b\\u0e2d\\u0e22\\u0e40\\u0e25\\u0e22\\u0e21\\u0e32\\u0e0a\\u0e38\\u0e21\\u0e19\\u0e38\\u0e21\\u0e01\\u0e31\\u0e19\\u0e40\\u0e1e\\u0e37\\u0e48\\u0e2d\\u0e1b\\u0e23\\u0e36\\u0e01\\u0e29\\u0e32\\u0e27\\u0e48\\u0e32\\u0e08\\u0e30\\u0e17\\u0e33\\u0e2d\\u0e22\\u0e48\\u0e32\\u0e07\\u0e44\\u0e23\\u0e14\\u0e35</p>\\n\\n<p>\\u0e43\\u0e19\\u0e17\\u0e35\\u0e48\\u0e2a\\u0e38\\u0e14\\u0e2b\\u0e2d\\u0e22\\u0e15\\u0e31\\u0e27\\u0e2b\\u0e19\\u0e36\\u0e48\\u0e07\\u0e01\\u0e47\\u0e1e\\u0e39\\u0e14\\u0e27\\u0e48\\u0e32 &nbsp;\\u0e40\\u0e23\\u0e32\\u0e01\\u0e47\\u0e21\\u0e32\\u0e15\\u0e48\\u0e2d\\u0e41\\u0e16\\u0e27\\u0e01\\u0e31\\u0e19\\u0e22\\u0e32\\u0e27\\u0e44\\u0e1b\\u0e16\\u0e36\\u0e07\\u0e40\\u0e2a\\u0e49\\u0e19\\u0e0a\\u0e31\\u0e22 \\u0e40\\u0e23\\u0e32\\u0e15\\u0e31\\u0e27\\u0e40\\u0e25\\u0e47\\u0e01\\u0e40\\u0e0b\\u0e35\\u0e22\\u0e07\\u0e40\\u0e21\\u0e35\\u0e48\\u0e22\\u0e07\\u0e21\\u0e2d\\u0e07\\u0e44\\u0e21\\u0e48\\u0e40\\u0e2b\\u0e47\\u0e19\\u0e40\\u0e23\\u0e32\\u0e2b\\u0e23\\u0e2d\\u0e01 &nbsp;\\u0e40\\u0e27\\u0e25\\u0e32\\u0e27\\u0e34\\u0e48\\u0e07\\u0e43\\u0e2b\\u0e49\\u0e40\\u0e0b\\u0e35\\u0e22\\u0e07\\u0e40\\u0e21\\u0e35\\u0e48\\u0e22\\u0e07\\u0e23\\u0e49\\u0e2d\\u0e07\\u0e40\\u0e23\\u0e35\\u0e22\\u0e01\\u0e40\\u0e23\\u0e32\\u0e27\\u0e48\\u0e32\\u0e2b\\u0e2d\\u0e22 \\u0e43\\u0e2b\\u0e49\\u0e2b\\u0e2d\\u0e22\\u0e15\\u0e31\\u0e27\\u0e43\\u0e2b\\u0e0d\\u0e48\\u0e17\\u0e35\\u0e48\\u0e2d\\u0e22\\u0e39\\u0e48\\u0e02\\u0e49\\u0e32\\u0e07\\u0e2b\\u0e19\\u0e49\\u0e32\\u0e23\\u0e49\\u0e2d\\u0e07\\u0e15\\u0e2d\\u0e1a\\u0e27\\u0e48\\u0e32 \\u0e01\\u0e39\\u0e4a\\u0e01 \\u0e40\\u0e17\\u0e48\\u0e32\\u0e19\\u0e31\\u0e49\\u0e19\\u0e40\\u0e23\\u0e32\\u0e01\\u0e47\\u0e0a\\u0e19\\u0e30\\u0e40\\u0e0b\\u0e35\\u0e22\\u0e07\\u0e40\\u0e21\\u0e35\\u0e48\\u0e22\\u0e07\\u0e41\\u0e25\\u0e49\\u0e27</p>\\n\\n<p>\\u0e41\\u0e25\\u0e49\\u0e27\\u0e01\\u0e32\\u0e23\\u0e41\\u0e02\\u0e48\\u0e07\\u0e02\\u0e31\\u0e19\\u0e01\\u0e47\\u0e40\\u0e23\\u0e34\\u0e48\\u0e21\\u0e02\\u0e36\\u0e49\\u0e19 \\u0e42\\u0e14\\u0e22\\u0e21\\u0e35\\u0e01\\u0e32\\u0e40\\u0e1b\\u0e47\\u0e19\\u0e1c\\u0e39\\u0e49\\u0e15\\u0e31\\u0e14\\u0e2a\\u0e34\\u0e19 \\u0e01\\u0e32\\u0e1b\\u0e25\\u0e48\\u0e2d\\u0e22\\u0e15\\u0e31\\u0e27\\u0e19\\u0e31\\u0e01\\u0e27\\u0e34\\u0e48\\u0e07 \\u0e40\\u0e0b\\u0e35\\u0e22\\u0e07\\u0e40\\u0e21\\u0e35\\u0e48\\u0e22\\u0e07\\u0e27\\u0e34\\u0e48\\u0e07\\u0e2a\\u0e38\\u0e14\\u0e41\\u0e23\\u0e07\\u0e41\\u0e25\\u0e49\\u0e27\\u0e40\\u0e0b\\u0e35\\u0e22\\u0e07\\u0e40\\u0e21\\u0e35\\u0e48\\u0e22\\u0e07\\u0e01\\u0e47\\u0e23\\u0e49\\u0e2d\\u0e07\\u0e27\\u0e48\\u0e32 \\u0e2b\\u0e2d\\u0e22</p>\\n\\n<p>\\u0e2b\\u0e2d\\u0e22\\u0e15\\u0e31\\u0e27\\u0e17\\u0e35\\u0e48\\u0e2d\\u0e22\\u0e39\\u0e48\\u0e02\\u0e49\\u0e32\\u0e07\\u0e2b\\u0e19\\u0e49\\u0e32\\u0e01\\u0e47\\u0e15\\u0e2d\\u0e1a\\u0e27\\u0e48\\u0e32 \\u0e01\\u0e39\\u0e4a\\u0e01...</p>\\n\\n<p>\\u0e40\\u0e0b\\u0e35\\u0e22\\u0e07\\u0e40\\u0e21\\u0e35\\u0e48\\u0e22\\u0e07\\u0e01\\u0e47\\u0e27\\u0e34\\u0e48\\u0e07\\u0e15\\u0e48\\u0e2d\\u0e44\\u0e1b\\u0e2d\\u0e35\\u0e01 \\u0e40\\u0e0b\\u0e35\\u0e22\\u0e07\\u0e40\\u0e21\\u0e35\\u0e48\\u0e22\\u0e07\\u0e01\\u0e47\\u0e23\\u0e49\\u0e2d\\u0e07\\u0e40\\u0e23\\u0e35\\u0e22\\u0e01\\u0e27\\u0e48\\u0e32 \\u0e2b\\u0e2d\\u0e22...\\u0e2b\\u0e2d\\u0e22\\u0e15\\u0e31\\u0e27\\u0e17\\u0e35\\u0e48\\u0e2d\\u0e22\\u0e39\\u0e48\\u0e02\\u0e49\\u0e32\\u0e07\\u0e2b\\u0e19\\u0e49\\u0e32\\u0e01\\u0e47\\u0e15\\u0e2d\\u0e1a\\u0e27\\u0e48\\u0e32\\u0e01\\u0e39\\u0e4a\\u0e01...\\u0e40\\u0e0b\\u0e35\\u0e22\\u0e07\\u0e40\\u0e21\\u0e35\\u0e48\\u0e22\\u0e07\\u0e01\\u0e47\\u0e27\\u0e34\\u0e48\\u0e07\\u0e15\\u0e48\\u0e2d\\u0e44\\u0e1b\\u0e2d\\u0e35\\u0e01 \\u0e40\\u0e0b\\u0e35\\u0e22\\u0e07\\u0e40\\u0e21\\u0e35\\u0e48\\u0e22\\u0e07\\u0e01\\u0e47\\u0e23\\u0e49\\u0e2d\\u0e07\\u0e40\\u0e23\\u0e35\\u0e22\\u0e19\\u0e27\\u0e48\\u0e32\\u0e2b\\u0e2d\\u0e22...\\u0e2b\\u0e2d\\u0e22\\u0e15\\u0e31\\u0e27\\u0e17\\u0e35\\u0e48\\u0e2d\\u0e22\\u0e39\\u0e48\\u0e02\\u0e49\\u0e32\\u0e07\\u0e2b\\u0e19\\u0e49\\u0e32\\u0e01\\u0e47\\u0e15\\u0e2d\\u0e1a\\u0e27\\u0e48\\u0e32 \\u0e01\\u0e39\\u0e4a\\u0e01...\\u0e40\\u0e0b\\u0e35\\u0e22\\u0e07\\u0e40\\u0e21\\u0e35\\u0e48\\u0e22\\u0e07\\u0e01\\u0e47\\u0e27\\u0e34\\u0e48\\u0e07\\u0e15\\u0e48\\u0e2d\\u0e44\\u0e1b\\u0e2d\\u0e35\\u0e01\\u0e2d\\u0e22\\u0e48\\u0e32\\u0e07\\u0e41\\u0e23\\u0e07 \\u0e08\\u0e19\\u0e01\\u0e23\\u0e30\\u0e17\\u0e31\\u0e48\\u0e07\\u0e2a\\u0e25\\u0e1a\\u0e2d\\u0e22\\u0e39\\u0e48\\u0e01\\u0e25\\u0e32\\u0e07\\u0e17\\u0e32\\u0e07 \\u0e2a\\u0e23\\u0e38\\u0e1b\\u0e27\\u0e48\\u0e32\\u0e2b\\u0e2d\\u0e22\\u0e40\\u0e1b\\u0e47\\u0e19\\u0e1c\\u0e39\\u0e49\\u0e0a\\u0e19\\u0e30<br />\\n&nbsp;</p>\\n\",\n          \"<p>\\u0e21\\u0e35\\u0e40\\u0e15\\u0e48\\u0e32\\u0e15\\u0e31\\u0e27\\u0e2b\\u0e19\\u0e36\\u0e48\\u0e07\\u0e40\\u0e17\\u0e35\\u0e48\\u0e22\\u0e27\\u0e2b\\u0e32\\u0e01\\u0e34\\u0e19\\u0e2d\\u0e22\\u0e39\\u0e48\\u0e15\\u0e32\\u0e21\\u0e0a\\u0e32\\u0e22\\u0e1b\\u0e48\\u0e32\\u0e43\\u0e01\\u0e25\\u0e49\\u0e17\\u0e38\\u0e48\\u0e07 \\u0e04\\u0e23\\u0e31\\u0e49\\u0e07\\u0e19\\u0e31\\u0e49\\u0e19\\u0e1e\\u0e23\\u0e30\\u0e1e\\u0e38\\u0e17\\u0e18\\u0e40\\u0e08\\u0e49\\u0e32\\u0e40\\u0e2a\\u0e14\\u0e47\\u0e08\\u0e2d\\u0e2d\\u0e01\\u0e42\\u0e1b\\u0e23\\u0e14\\u0e2a\\u0e31\\u0e15\\u0e27\\u0e4c\\u0e44\\u0e14\\u0e49\\u0e1e\\u0e1a\\u0e40\\u0e15\\u0e48\\u0e32\\u0e15\\u0e31\\u0e27\\u0e19\\u0e31\\u0e49\\u0e19\\u0e40\\u0e02\\u0e49\\u0e32\\u0e08\\u0e36\\u0e07\\u0e40\\u0e17\\u0e28\\u0e19\\u0e32\\u0e40\\u0e23\\u0e37\\u0e48\\u0e2d\\u0e07\\u0e1a\\u0e38\\u0e0d\\u0e1a\\u0e32\\u0e1b\\u0e43\\u0e2b\\u0e49\\u0e1f\\u0e31\\u0e07 \\u0e40\\u0e21\\u0e37\\u0e48\\u0e2d\\u0e1e\\u0e23\\u0e30\\u0e1e\\u0e38\\u0e17\\u0e18\\u0e40\\u0e08\\u0e49\\u0e32\\u0e40\\u0e17\\u0e28\\u0e19\\u0e32\\u0e40\\u0e2a\\u0e23\\u0e47\\u0e08\\u0e01\\u0e47\\u0e40\\u0e2a\\u0e14\\u0e47\\u0e08\\u0e44\\u0e1b\\u0e42\\u0e1b\\u0e23\\u0e14\\u0e1e\\u0e38\\u0e17\\u0e18\\u0e21\\u0e32\\u0e23\\u0e14\\u0e32\\u0e43\\u0e19\\u0e40\\u0e21\\u0e37\\u0e2d\\u0e07\\u0e2a\\u0e27\\u0e23\\u0e23\\u0e04\\u0e4c \\u0e40\\u0e15\\u0e48\\u0e32\\u0e02\\u0e2d\\u0e15\\u0e34\\u0e14\\u0e15\\u0e32\\u0e21\\u0e1e\\u0e23\\u0e30\\u0e1e\\u0e38\\u0e17\\u0e18\\u0e40\\u0e08\\u0e49\\u0e32\\u0e14\\u0e49\\u0e27\\u0e22\\u0e42\\u0e14\\u0e22\\u0e04\\u0e32\\u0e1a\\u0e0a\\u0e32\\u0e22\\u0e08\\u0e35\\u0e27\\u0e23\\u0e02\\u0e2d\\u0e07\\u0e1e\\u0e23\\u0e30\\u0e1e\\u0e38\\u0e17\\u0e18\\u0e40\\u0e08\\u0e49\\u0e32\\u0e02\\u0e36\\u0e49\\u0e19\\u0e44\\u0e1b \\u0e02\\u0e13\\u0e30\\u0e17\\u0e35\\u0e48\\u0e1e\\u0e23\\u0e30\\u0e1e\\u0e38\\u0e17\\u0e18\\u0e40\\u0e08\\u0e49\\u0e32\\u0e40\\u0e2b\\u0e32\\u0e30\\u0e44\\u0e1b\\u0e16\\u0e36\\u0e07\\u0e01\\u0e25\\u0e32\\u0e07\\u0e17\\u0e38\\u0e48\\u0e07\\u0e41\\u0e2b\\u0e48\\u0e07\\u0e2b\\u0e19\\u0e36\\u0e48\\u0e07 \\u0e27\\u0e31\\u0e27\\u0e15\\u0e31\\u0e27\\u0e2b\\u0e19\\u0e36\\u0e48\\u0e07\\u0e40\\u0e2b\\u0e47\\u0e19\\u0e40\\u0e15\\u0e48\\u0e32\\u0e04\\u0e32\\u0e1a\\u0e0a\\u0e32\\u0e22\\u0e08\\u0e35\\u0e27\\u0e23\\u0e1e\\u0e23\\u0e30\\u0e1e\\u0e38\\u0e17\\u0e18\\u0e40\\u0e08\\u0e49\\u0e32\\u0e40\\u0e0a\\u0e48\\u0e19\\u0e19\\u0e31\\u0e49\\u0e19\\u0e01\\u0e47\\u0e2b\\u0e31\\u0e27\\u0e40\\u0e23\\u0e32\\u0e30 \\u0e40\\u0e15\\u0e48\\u0e32\\u0e42\\u0e01\\u0e23\\u0e18\\u0e08\\u0e36\\u0e07\\u0e14\\u0e48\\u0e32\\u0e41\\u0e21\\u0e48\\u0e25\\u0e07\\u0e21\\u0e32\\u0e42\\u0e14\\u0e22\\u0e25\\u0e37\\u0e21\\u0e44\\u0e1b\\u0e27\\u0e48\\u0e32\\u0e15\\u0e19\\u0e01\\u0e33\\u0e25\\u0e31\\u0e07\\u0e04\\u0e32\\u0e1a\\u0e08\\u0e35\\u0e27\\u0e23\\u0e1e\\u0e23\\u0e30\\u0e1e\\u0e38\\u0e17\\u0e18\\u0e40\\u0e08\\u0e49\\u0e32\\u0e2d\\u0e22\\u0e39\\u0e48 \\u0e40\\u0e15\\u0e48\\u0e32\\u0e15\\u0e01\\u0e25\\u0e07\\u0e21\\u0e32\\u0e16\\u0e36\\u0e07\\u0e1b\\u0e32\\u0e01\\u0e27\\u0e31\\u0e27\\u0e1e\\u0e2d\\u0e14\\u0e35 \\u0e17\\u0e33\\u0e43\\u0e2b\\u0e49\\u0e27\\u0e31\\u0e27\\u0e1f\\u0e31\\u0e19\\u0e1a\\u0e19\\u0e2b\\u0e31\\u0e01\\u0e2b\\u0e21\\u0e14 \\u0e40\\u0e15\\u0e48\\u0e32\\u0e40\\u0e2d\\u0e07\\u0e01\\u0e47\\u0e01\\u0e23\\u0e30\\u0e14\\u0e2d\\u0e07\\u0e23\\u0e49\\u0e32\\u0e27\\u0e21\\u0e32\\u0e08\\u0e19\\u0e17\\u0e38\\u0e01\\u0e27\\u0e31\\u0e19\\u0e19\\u0e35\\u0e49</p>\\n\",\n          \"<p>\\u0e43\\u0e19\\u0e2a\\u0e21\\u0e31\\u0e22\\u0e01\\u0e48\\u0e2d\\u0e19 \\u0e07\\u0e39\\u0e40\\u0e2b\\u0e25\\u0e37\\u0e2d\\u0e21\\u0e21\\u0e35\\u0e23\\u0e48\\u0e32\\u0e07\\u0e01\\u0e32\\u0e22\\u0e43\\u0e2b\\u0e0d\\u0e48\\u0e42\\u0e15 \\u0e21\\u0e35\\u0e1e\\u0e34\\u0e29\\u0e21\\u0e32\\u0e01\\u0e01\\u0e27\\u0e48\\u0e32\\u0e07\\u0e39\\u0e17\\u0e38\\u0e01\\u0e0a\\u0e19\\u0e34\\u0e14 \\u0e40\\u0e21\\u0e37\\u0e48\\u0e2d\\u0e07\\u0e39\\u0e40\\u0e2b\\u0e25\\u0e37\\u0e2d\\u0e21\\u0e01\\u0e31\\u0e14\\u0e04\\u0e19\\u0e2b\\u0e23\\u0e37\\u0e2d\\u0e2a\\u0e31\\u0e15\\u0e27\\u0e4c\\u0e08\\u0e30\\u0e15\\u0e32\\u0e22\\u0e17\\u0e31\\u0e19\\u0e17\\u0e35 \\u0e27\\u0e31\\u0e19\\u0e2b\\u0e19\\u0e36\\u0e48\\u0e07\\u0e0a\\u0e32\\u0e22\\u0e0a\\u0e23\\u0e32\\u0e04\\u0e19\\u0e2b\\u0e19\\u0e36\\u0e48\\u0e07\\u0e44\\u0e1b\\u0e2b\\u0e32\\u0e40\\u0e02\\u0e35\\u0e22\\u0e14\\u0e43\\u0e19\\u0e19\\u0e32 \\u0e40\\u0e21\\u0e37\\u0e48\\u0e2d\\u0e2b\\u0e32\\u0e44\\u0e14\\u0e49\\u0e41\\u0e25\\u0e49\\u0e27\\u0e01\\u0e47\\u0e40\\u0e2d\\u0e32\\u0e40\\u0e02\\u0e35\\u0e22\\u0e14\\u0e21\\u0e31\\u0e14\\u0e40\\u0e01\\u0e47\\u0e1a\\u0e43\\u0e2a\\u0e48\\u0e01\\u0e23\\u0e30\\u0e40\\u0e1b\\u0e4b\\u0e32\\u0e40\\u0e2a\\u0e37\\u0e49\\u0e2d \\u0e02\\u0e13\\u0e30\\u0e17\\u0e35\\u0e48\\u0e40\\u0e14\\u0e34\\u0e19\\u0e01\\u0e25\\u0e31\\u0e1a\\u0e1a\\u0e49\\u0e32\\u0e19\\u0e19\\u0e31\\u0e49\\u0e19\\u0e0a\\u0e32\\u0e22\\u0e0a\\u0e23\\u0e32\\u0e40\\u0e2b\\u0e22\\u0e35\\u0e22\\u0e1a\\u0e07\\u0e39\\u0e40\\u0e2b\\u0e25\\u0e37\\u0e2d\\u0e21 \\u0e07\\u0e39\\u0e40\\u0e2b\\u0e25\\u0e37\\u0e2d\\u0e21\\u0e08\\u0e36\\u0e07\\u0e01\\u0e31\\u0e14\\u0e0a\\u0e32\\u0e22\\u0e0a\\u0e23\\u0e32\\u0e15\\u0e32\\u0e22\\u0e04\\u0e32\\u0e17\\u0e35\\u0e48 \\u0e41\\u0e15\\u0e48\\u0e40\\u0e02\\u0e35\\u0e22\\u0e14\\u0e17\\u0e35\\u0e48\\u0e2d\\u0e22\\u0e39\\u0e48\\u0e43\\u0e19\\u0e01\\u0e23\\u0e30\\u0e40\\u0e1b\\u0e4b\\u0e32\\u0e40\\u0e2a\\u0e37\\u0e49\\u0e2d\\u0e0a\\u0e32\\u0e22\\u0e0a\\u0e23\\u0e32\\u0e44\\u0e21\\u0e48\\u0e15\\u0e32\\u0e22\\u0e08\\u0e36\\u0e07\\u0e14\\u0e34\\u0e49\\u0e19\\u0e44\\u0e1b\\u0e21\\u0e32 \\u0e07\\u0e39\\u0e40\\u0e2b\\u0e25\\u0e37\\u0e2d\\u0e21\\u0e40\\u0e2b\\u0e47\\u0e19\\u0e40\\u0e2a\\u0e37\\u0e49\\u0e2d\\u0e44\\u0e2b\\u0e27\\u0e44\\u0e1b\\u0e21\\u0e32\\u0e01\\u0e47\\u0e19\\u0e36\\u0e01\\u0e27\\u0e48\\u0e32\\u0e0a\\u0e32\\u0e22\\u0e0a\\u0e23\\u0e32\\u0e44\\u0e21\\u0e48\\u0e15\\u0e32\\u0e22 \\u0e2a\\u0e33\\u0e04\\u0e31\\u0e0d\\u0e1c\\u0e34\\u0e14\\u0e04\\u0e34\\u0e14\\u0e27\\u0e48\\u0e32\\u0e1e\\u0e34\\u0e29\\u0e02\\u0e2d\\u0e07\\u0e15\\u0e19\\u0e44\\u0e21\\u0e48\\u0e21\\u0e35\\u0e04\\u0e27\\u0e32\\u0e21\\u0e2b\\u0e21\\u0e32\\u0e22\\u0e08\\u0e36\\u0e07\\u0e04\\u0e32\\u0e22\\u0e1e\\u0e34\\u0e29\\u0e2d\\u0e2d\\u0e01 \\u0e1e\\u0e27\\u0e01\\u0e07\\u0e39\\u0e40\\u0e2b\\u0e48\\u0e32 \\u0e07\\u0e39\\u0e08\\u0e07\\u0e2d\\u0e32\\u0e07 \\u0e2d\\u0e22\\u0e39\\u0e48\\u0e43\\u0e01\\u0e25\\u0e49\\u0e46\\u0e08\\u0e36\\u0e07\\u0e40\\u0e25\\u0e37\\u0e49\\u0e2d\\u0e22\\u0e44\\u0e1b\\u0e2a\\u0e39\\u0e14\\u0e40\\u0e2d\\u0e32\\u0e1e\\u0e34\\u0e29 \\u0e14\\u0e31\\u0e07\\u0e19\\u0e31\\u0e49\\u0e19\\u0e07\\u0e39\\u0e40\\u0e2b\\u0e48\\u0e32 \\u0e07\\u0e39\\u0e08\\u0e07\\u0e2d\\u0e32\\u0e07\\u0e08\\u0e36\\u0e07\\u0e21\\u0e35\\u0e1e\\u0e34\\u0e29\\u0e21\\u0e32\\u0e01\\u0e01\\u0e27\\u0e48\\u0e32\\u0e07\\u0e39\\u0e17\\u0e31\\u0e49\\u0e07\\u0e2b\\u0e25\\u0e32\\u0e22 \\u0e07\\u0e39\\u0e2d\\u0e37\\u0e48\\u0e19\\u0e46\\u0e21\\u0e35\\u0e1e\\u0e34\\u0e29\\u0e40\\u0e1e\\u0e35\\u0e22\\u0e07\\u0e40\\u0e25\\u0e47\\u0e01\\u0e19\\u0e49\\u0e2d\\u0e22\\u0e40\\u0e1e\\u0e23\\u0e32\\u0e30\\u0e40\\u0e1e\\u0e35\\u0e22\\u0e07\\u0e41\\u0e15\\u0e48\\u0e44\\u0e14\\u0e49\\u0e14\\u0e21\\u0e01\\u0e25\\u0e34\\u0e48\\u0e19\\u0e1e\\u0e34\\u0e29\\u0e40\\u0e17\\u0e48\\u0e32\\u0e19\\u0e31\\u0e49\\u0e19&nbsp;</p>\\n\"\n        ],\n        \"semantic_type\": \"\",\n        \"description\": \"\"\n      }\n    },\n    {\n      \"column\": \"subject\",\n      \"properties\": {\n        \"dtype\": \"category\",\n        \"num_unique_values\": 1,\n        \"samples\": [\n          \"\\u0e19\\u0e34\\u0e17\\u0e32\\u0e19\\u0e1e\\u0e37\\u0e49\\u0e19\\u0e1a\\u0e49\\u0e32\\u0e19\"\n        ],\n        \"semantic_type\": \"\",\n        \"description\": \"\"\n      }\n    },\n    {\n      \"column\": \"spatial\",\n      \"properties\": {\n        \"dtype\": \"category\",\n        \"num_unique_values\": 8,\n        \"samples\": [\n          \"\\u0e44\\u0e17\\u0e22,\"\n        ],\n        \"semantic_type\": \"\",\n        \"description\": \"\"\n      }\n    },\n    {\n      \"column\": \"temporal\",\n      \"properties\": {\n        \"dtype\": \"number\",\n        \"std\": null,\n        \"min\": null,\n        \"max\": null,\n        \"num_unique_values\": 0,\n        \"samples\": [],\n        \"semantic_type\": \"\",\n        \"description\": \"\"\n      }\n    },\n    {\n      \"column\": \"language\",\n      \"properties\": {\n        \"dtype\": \"category\",\n        \"num_unique_values\": 1,\n        \"samples\": [],\n        \"semantic_type\": \"\",\n        \"description\": \"\"\n      }\n    },\n    {\n      \"column\": \"rights\",\n      \"properties\": {\n        \"dtype\": \"category\",\n        \"num_unique_values\": 1,\n        \"samples\": [],\n        \"semantic_type\": \"\",\n        \"description\": \"\"\n      }\n    },\n    {\n      \"column\": \"license\",\n      \"properties\": {\n        \"dtype\": \"category\",\n        \"num_unique_values\": 1,\n        \"samples\": [],\n        \"semantic_type\": \"\",\n        \"description\": \"\"\n      }\n    },\n    {\n      \"column\": \"source.uri\",\n      \"properties\": {\n        \"dtype\": \"string\",\n        \"num_unique_values\": 226,\n        \"samples\": [],\n        \"semantic_type\": \"\",\n        \"description\": \"\"\n      }\n    }\n  ]\n}"
            }
          },
          "metadata": {},
          "execution_count": 10
        }
      ]
    },
    {
      "cell_type": "code",
      "source": [
        "#ดูท้ายตาราง\n",
        "folk_df.tail()"
      ],
      "metadata": {
        "id": "ajbpueh6XDjJ"
      },
      "execution_count": null,
      "outputs": []
    },
    {
      "cell_type": "code",
      "source": [
        "folk_df.shape #ขนาด row, col"
      ],
      "metadata": {
        "colab": {
          "base_uri": "https://localhost:8080/"
        },
        "id": "dNIjoKN1XY16",
        "outputId": "3d745d02-5889-4355-f31c-c94db200de8c"
      },
      "execution_count": null,
      "outputs": [
        {
          "output_type": "execute_result",
          "data": {
            "text/plain": [
              "(226, 11)"
            ]
          },
          "metadata": {},
          "execution_count": 13
        }
      ]
    },
    {
      "cell_type": "markdown",
      "source": [
        "---"
      ],
      "metadata": {
        "id": "xtsyplDaWPM6"
      }
    },
    {
      "cell_type": "code",
      "metadata": {
        "colab": {
          "base_uri": "https://localhost:8080/"
        },
        "id": "bJMZpuMsrLG1",
        "outputId": "d6f217be-efc0-4d34-ca0e-6e8a907d9250"
      },
      "source": [
        "covid_file_path = os.path.join(path,'pm-20-jan-2021.csv')\n",
        "print(covid_file_path)"
      ],
      "execution_count": null,
      "outputs": [
        {
          "output_type": "stream",
          "text": [
            "/content/drive/My Drive/dataviz_2021_data/pm-20-jan-2021.csv\n"
          ],
          "name": "stdout"
        }
      ]
    },
    {
      "cell_type": "code",
      "metadata": {
        "colab": {
          "base_uri": "https://localhost:8080/"
        },
        "id": "k1NDGhW8rjb6",
        "outputId": "c53421b4-8829-40d0-b662-d8e3388f704c"
      },
      "source": [
        "a = path + '/pm-18-jan-2021.csv'\n",
        "print(a)"
      ],
      "execution_count": null,
      "outputs": [
        {
          "output_type": "stream",
          "text": [
            "/content/drive/My Drive/dataviz_2021_data/pm-18-jan-2021.csv\n"
          ],
          "name": "stdout"
        }
      ]
    },
    {
      "cell_type": "markdown",
      "metadata": {
        "id": "l3oehUans3Vr"
      },
      "source": [
        "## load data to memory"
      ]
    },
    {
      "cell_type": "code",
      "metadata": {
        "id": "lxKqSaR3sScc"
      },
      "source": [
        "data_covid = pd.read_csv(covid_file_path)\n",
        "data_covid"
      ],
      "execution_count": null,
      "outputs": []
    },
    {
      "cell_type": "code",
      "metadata": {
        "id": "sHTOPUJttJJ8"
      },
      "source": [
        "data_covid.head()"
      ],
      "execution_count": null,
      "outputs": []
    },
    {
      "cell_type": "code",
      "metadata": {
        "colab": {
          "base_uri": "https://localhost:8080/"
        },
        "id": "zj5UmHPtySZ4",
        "outputId": "34e70178-bd6e-4852-cb94-cc637b556767"
      },
      "source": [
        "data_covid.shape"
      ],
      "execution_count": null,
      "outputs": [
        {
          "output_type": "execute_result",
          "data": {
            "text/plain": [
              "(12653, 10)"
            ]
          },
          "metadata": {
            "tags": []
          },
          "execution_count": 16
        }
      ]
    },
    {
      "cell_type": "markdown",
      "source": [
        "---"
      ],
      "metadata": {
        "id": "k6F7pXWWX0cR"
      }
    },
    {
      "cell_type": "markdown",
      "metadata": {
        "id": "CRYEuv0dzLtW"
      },
      "source": [
        "# ชี้ค่าในตาราง"
      ]
    },
    {
      "cell_type": "markdown",
      "metadata": {
        "id": "KFqGDG0c0AYI"
      },
      "source": [
        "## basic"
      ]
    },
    {
      "cell_type": "code",
      "source": [
        "folk_df['title'][99]"
      ],
      "metadata": {
        "colab": {
          "base_uri": "https://localhost:8080/",
          "height": 35
        },
        "id": "-IQQW6l8X9hy",
        "outputId": "006f0d41-e19e-4524-fec5-51e1fb41dcd6"
      },
      "execution_count": null,
      "outputs": [
        {
          "output_type": "execute_result",
          "data": {
            "text/plain": [
              "'เด็กโง่'"
            ],
            "application/vnd.google.colaboratory.intrinsic+json": {
              "type": "string"
            }
          },
          "metadata": {},
          "execution_count": 15
        }
      ]
    },
    {
      "cell_type": "code",
      "source": [
        "folk_df['creator'][99]"
      ],
      "metadata": {
        "colab": {
          "base_uri": "https://localhost:8080/",
          "height": 35
        },
        "id": "YkUGvNMlYZr3",
        "outputId": "b8d34f82-c24f-4f03-c108-6dba1f21bc12"
      },
      "execution_count": null,
      "outputs": [
        {
          "output_type": "execute_result",
          "data": {
            "text/plain": [
              "'เรียบ รักสมบัติ'"
            ],
            "application/vnd.google.colaboratory.intrinsic+json": {
              "type": "string"
            }
          },
          "metadata": {},
          "execution_count": 17
        }
      ]
    },
    {
      "cell_type": "markdown",
      "source": [
        "---"
      ],
      "metadata": {
        "id": "AkS5Je22X8KT"
      }
    },
    {
      "cell_type": "code",
      "metadata": {
        "id": "vQ8Fvpgkyp4E"
      },
      "source": [
        "data_covid['province_of_onset']"
      ],
      "execution_count": null,
      "outputs": []
    },
    {
      "cell_type": "code",
      "metadata": {
        "id": "tHxuEWK6zjSH"
      },
      "source": [
        "data_covid['province_of_onset'][4]"
      ],
      "execution_count": null,
      "outputs": []
    },
    {
      "cell_type": "markdown",
      "source": [
        "---"
      ],
      "metadata": {
        "id": "lXSck18KYVRE"
      }
    },
    {
      "cell_type": "markdown",
      "metadata": {
        "id": "dZ3UfzfV0DIy"
      },
      "source": [
        "## .iloc"
      ]
    },
    {
      "cell_type": "code",
      "source": [
        "folk_df.iloc[4,7] #เอาแถวที่ 4 หลักที่ 7"
      ],
      "metadata": {
        "colab": {
          "base_uri": "https://localhost:8080/",
          "height": 35
        },
        "id": "VhOxviYOY7li",
        "outputId": "4353f29b-a5da-4925-fa1f-9c6c331bd842"
      },
      "execution_count": null,
      "outputs": [
        {
          "output_type": "execute_result",
          "data": {
            "text/plain": [
              "'ไทย'"
            ],
            "application/vnd.google.colaboratory.intrinsic+json": {
              "type": "string"
            }
          },
          "metadata": {},
          "execution_count": 18
        }
      ]
    },
    {
      "cell_type": "code",
      "source": [
        "folk_df.iloc[99,5]"
      ],
      "metadata": {
        "colab": {
          "base_uri": "https://localhost:8080/",
          "height": 35
        },
        "id": "SVpvOUMHZLbs",
        "outputId": "597c4f67-4405-4196-f94d-277601debef1"
      },
      "execution_count": null,
      "outputs": [
        {
          "output_type": "execute_result",
          "data": {
            "text/plain": [
              "'ไทย,'"
            ],
            "application/vnd.google.colaboratory.intrinsic+json": {
              "type": "string"
            }
          },
          "metadata": {},
          "execution_count": 19
        }
      ]
    },
    {
      "cell_type": "markdown",
      "source": [
        "---"
      ],
      "metadata": {
        "id": "xJe93IciY54I"
      }
    },
    {
      "cell_type": "code",
      "metadata": {
        "colab": {
          "base_uri": "https://localhost:8080/",
          "height": 35
        },
        "id": "oTb8mQj6z6DN",
        "outputId": "fbfc80b4-d9bb-42c0-eb4e-6c9aa3eb8d23"
      },
      "source": [
        "data_covid.iloc[4,7]"
      ],
      "execution_count": null,
      "outputs": [
        {
          "output_type": "execute_result",
          "data": {
            "application/vnd.google.colaboratory.intrinsic+json": {
              "type": "string"
            },
            "text/plain": [
              "'กรุงเทพมหานคร'"
            ]
          },
          "metadata": {
            "tags": []
          },
          "execution_count": 19
        }
      ]
    },
    {
      "cell_type": "markdown",
      "source": [
        "---"
      ],
      "metadata": {
        "id": "rqLZ9H5uY6rO"
      }
    },
    {
      "cell_type": "markdown",
      "metadata": {
        "id": "shzgCJfy0x2z"
      },
      "source": [
        "# Table slicing"
      ]
    },
    {
      "cell_type": "markdown",
      "metadata": {
        "id": "NWxhCozt0757"
      },
      "source": [
        "## ตัดมาเฉพาะ column ที่ต้องการ"
      ]
    },
    {
      "cell_type": "code",
      "source": [
        "smaller_table = folk_df[['title','type','creator','subject','spatial']]\n",
        "smaller_table"
      ],
      "metadata": {
        "colab": {
          "base_uri": "https://localhost:8080/",
          "height": 423
        },
        "id": "Xpz47-AUZfdt",
        "outputId": "be06b88e-e13f-40b8-e514-d1b3cbb0d973"
      },
      "execution_count": null,
      "outputs": [
        {
          "output_type": "execute_result",
          "data": {
            "text/plain": [
              "                   title             type                 creator  \\\n",
              "0           ตาบอดคลำช้าง   นิทานประจำถิ่น        อ่อนตา ประกาเวสา   \n",
              "1         ขอคำกระฮอกด่อน     ตำนานปรัมปรา               พ่อใหญ่นู   \n",
              "2     ก่องข้าวน้อยฆ่าแม่       นิทานชีวิต      หนูเวียง แก้วเวียง   \n",
              "3              บักหำน้อย           มุขตลก         สมหวัง ปานพายัพ   \n",
              "4             รื้อบ่อน้ำ           มุขตลก          บุญศรี เกสเสโร   \n",
              "..                   ...              ...                     ...   \n",
              "221          ตำนานมะโย่ง     ตำนานปรัมปรา  หร้อหวาน   วัชรจิรโสภณ   \n",
              "222            ตำราหมอดู           มุขตลก        มาลี   พันธ์วงศ์   \n",
              "223   เต่ากับพระพุทธเจ้า  นิทานอธิบายเหตุ                     NaN   \n",
              "224        ถ้ำคูหาสวรรค์   นิทานประจำถิ่น                     NaN   \n",
              "225  ถ้ำทองและถ้ำเปอร์งง   นิทานประจำถิ่น                     NaN   \n",
              "\n",
              "           subject spatial  \n",
              "0    นิทานพื้นบ้าน     ไทย  \n",
              "1    นิทานพื้นบ้าน     ไทย  \n",
              "2    นิทานพื้นบ้าน     ไทย  \n",
              "3    นิทานพื้นบ้าน     ไทย  \n",
              "4    นิทานพื้นบ้าน     ไทย  \n",
              "..             ...     ...  \n",
              "221  นิทานพื้นบ้าน     ไทย  \n",
              "222  นิทานพื้นบ้าน     ไทย  \n",
              "223  นิทานพื้นบ้าน     NaN  \n",
              "224  นิทานพื้นบ้าน    ไทย,  \n",
              "225  นิทานพื้นบ้าน    ไทย,  \n",
              "\n",
              "[226 rows x 5 columns]"
            ],
            "text/html": [
              "\n",
              "  <div id=\"df-b1829319-0eac-4608-9225-ffd26e308ffb\" class=\"colab-df-container\">\n",
              "    <div>\n",
              "<style scoped>\n",
              "    .dataframe tbody tr th:only-of-type {\n",
              "        vertical-align: middle;\n",
              "    }\n",
              "\n",
              "    .dataframe tbody tr th {\n",
              "        vertical-align: top;\n",
              "    }\n",
              "\n",
              "    .dataframe thead th {\n",
              "        text-align: right;\n",
              "    }\n",
              "</style>\n",
              "<table border=\"1\" class=\"dataframe\">\n",
              "  <thead>\n",
              "    <tr style=\"text-align: right;\">\n",
              "      <th></th>\n",
              "      <th>title</th>\n",
              "      <th>type</th>\n",
              "      <th>creator</th>\n",
              "      <th>subject</th>\n",
              "      <th>spatial</th>\n",
              "    </tr>\n",
              "  </thead>\n",
              "  <tbody>\n",
              "    <tr>\n",
              "      <th>0</th>\n",
              "      <td>ตาบอดคลำช้าง</td>\n",
              "      <td>นิทานประจำถิ่น</td>\n",
              "      <td>อ่อนตา ประกาเวสา</td>\n",
              "      <td>นิทานพื้นบ้าน</td>\n",
              "      <td>ไทย</td>\n",
              "    </tr>\n",
              "    <tr>\n",
              "      <th>1</th>\n",
              "      <td>ขอคำกระฮอกด่อน</td>\n",
              "      <td>ตำนานปรัมปรา</td>\n",
              "      <td>พ่อใหญ่นู</td>\n",
              "      <td>นิทานพื้นบ้าน</td>\n",
              "      <td>ไทย</td>\n",
              "    </tr>\n",
              "    <tr>\n",
              "      <th>2</th>\n",
              "      <td>ก่องข้าวน้อยฆ่าแม่</td>\n",
              "      <td>นิทานชีวิต</td>\n",
              "      <td>หนูเวียง แก้วเวียง</td>\n",
              "      <td>นิทานพื้นบ้าน</td>\n",
              "      <td>ไทย</td>\n",
              "    </tr>\n",
              "    <tr>\n",
              "      <th>3</th>\n",
              "      <td>บักหำน้อย</td>\n",
              "      <td>มุขตลก</td>\n",
              "      <td>สมหวัง ปานพายัพ</td>\n",
              "      <td>นิทานพื้นบ้าน</td>\n",
              "      <td>ไทย</td>\n",
              "    </tr>\n",
              "    <tr>\n",
              "      <th>4</th>\n",
              "      <td>รื้อบ่อน้ำ</td>\n",
              "      <td>มุขตลก</td>\n",
              "      <td>บุญศรี เกสเสโร</td>\n",
              "      <td>นิทานพื้นบ้าน</td>\n",
              "      <td>ไทย</td>\n",
              "    </tr>\n",
              "    <tr>\n",
              "      <th>...</th>\n",
              "      <td>...</td>\n",
              "      <td>...</td>\n",
              "      <td>...</td>\n",
              "      <td>...</td>\n",
              "      <td>...</td>\n",
              "    </tr>\n",
              "    <tr>\n",
              "      <th>221</th>\n",
              "      <td>ตำนานมะโย่ง</td>\n",
              "      <td>ตำนานปรัมปรา</td>\n",
              "      <td>หร้อหวาน   วัชรจิรโสภณ</td>\n",
              "      <td>นิทานพื้นบ้าน</td>\n",
              "      <td>ไทย</td>\n",
              "    </tr>\n",
              "    <tr>\n",
              "      <th>222</th>\n",
              "      <td>ตำราหมอดู</td>\n",
              "      <td>มุขตลก</td>\n",
              "      <td>มาลี   พันธ์วงศ์</td>\n",
              "      <td>นิทานพื้นบ้าน</td>\n",
              "      <td>ไทย</td>\n",
              "    </tr>\n",
              "    <tr>\n",
              "      <th>223</th>\n",
              "      <td>เต่ากับพระพุทธเจ้า</td>\n",
              "      <td>นิทานอธิบายเหตุ</td>\n",
              "      <td>NaN</td>\n",
              "      <td>นิทานพื้นบ้าน</td>\n",
              "      <td>NaN</td>\n",
              "    </tr>\n",
              "    <tr>\n",
              "      <th>224</th>\n",
              "      <td>ถ้ำคูหาสวรรค์</td>\n",
              "      <td>นิทานประจำถิ่น</td>\n",
              "      <td>NaN</td>\n",
              "      <td>นิทานพื้นบ้าน</td>\n",
              "      <td>ไทย,</td>\n",
              "    </tr>\n",
              "    <tr>\n",
              "      <th>225</th>\n",
              "      <td>ถ้ำทองและถ้ำเปอร์งง</td>\n",
              "      <td>นิทานประจำถิ่น</td>\n",
              "      <td>NaN</td>\n",
              "      <td>นิทานพื้นบ้าน</td>\n",
              "      <td>ไทย,</td>\n",
              "    </tr>\n",
              "  </tbody>\n",
              "</table>\n",
              "<p>226 rows × 5 columns</p>\n",
              "</div>\n",
              "    <div class=\"colab-df-buttons\">\n",
              "\n",
              "  <div class=\"colab-df-container\">\n",
              "    <button class=\"colab-df-convert\" onclick=\"convertToInteractive('df-b1829319-0eac-4608-9225-ffd26e308ffb')\"\n",
              "            title=\"Convert this dataframe to an interactive table.\"\n",
              "            style=\"display:none;\">\n",
              "\n",
              "  <svg xmlns=\"http://www.w3.org/2000/svg\" height=\"24px\" viewBox=\"0 -960 960 960\">\n",
              "    <path d=\"M120-120v-720h720v720H120Zm60-500h600v-160H180v160Zm220 220h160v-160H400v160Zm0 220h160v-160H400v160ZM180-400h160v-160H180v160Zm440 0h160v-160H620v160ZM180-180h160v-160H180v160Zm440 0h160v-160H620v160Z\"/>\n",
              "  </svg>\n",
              "    </button>\n",
              "\n",
              "  <style>\n",
              "    .colab-df-container {\n",
              "      display:flex;\n",
              "      gap: 12px;\n",
              "    }\n",
              "\n",
              "    .colab-df-convert {\n",
              "      background-color: #E8F0FE;\n",
              "      border: none;\n",
              "      border-radius: 50%;\n",
              "      cursor: pointer;\n",
              "      display: none;\n",
              "      fill: #1967D2;\n",
              "      height: 32px;\n",
              "      padding: 0 0 0 0;\n",
              "      width: 32px;\n",
              "    }\n",
              "\n",
              "    .colab-df-convert:hover {\n",
              "      background-color: #E2EBFA;\n",
              "      box-shadow: 0px 1px 2px rgba(60, 64, 67, 0.3), 0px 1px 3px 1px rgba(60, 64, 67, 0.15);\n",
              "      fill: #174EA6;\n",
              "    }\n",
              "\n",
              "    .colab-df-buttons div {\n",
              "      margin-bottom: 4px;\n",
              "    }\n",
              "\n",
              "    [theme=dark] .colab-df-convert {\n",
              "      background-color: #3B4455;\n",
              "      fill: #D2E3FC;\n",
              "    }\n",
              "\n",
              "    [theme=dark] .colab-df-convert:hover {\n",
              "      background-color: #434B5C;\n",
              "      box-shadow: 0px 1px 3px 1px rgba(0, 0, 0, 0.15);\n",
              "      filter: drop-shadow(0px 1px 2px rgba(0, 0, 0, 0.3));\n",
              "      fill: #FFFFFF;\n",
              "    }\n",
              "  </style>\n",
              "\n",
              "    <script>\n",
              "      const buttonEl =\n",
              "        document.querySelector('#df-b1829319-0eac-4608-9225-ffd26e308ffb button.colab-df-convert');\n",
              "      buttonEl.style.display =\n",
              "        google.colab.kernel.accessAllowed ? 'block' : 'none';\n",
              "\n",
              "      async function convertToInteractive(key) {\n",
              "        const element = document.querySelector('#df-b1829319-0eac-4608-9225-ffd26e308ffb');\n",
              "        const dataTable =\n",
              "          await google.colab.kernel.invokeFunction('convertToInteractive',\n",
              "                                                    [key], {});\n",
              "        if (!dataTable) return;\n",
              "\n",
              "        const docLinkHtml = 'Like what you see? Visit the ' +\n",
              "          '<a target=\"_blank\" href=https://colab.research.google.com/notebooks/data_table.ipynb>data table notebook</a>'\n",
              "          + ' to learn more about interactive tables.';\n",
              "        element.innerHTML = '';\n",
              "        dataTable['output_type'] = 'display_data';\n",
              "        await google.colab.output.renderOutput(dataTable, element);\n",
              "        const docLink = document.createElement('div');\n",
              "        docLink.innerHTML = docLinkHtml;\n",
              "        element.appendChild(docLink);\n",
              "      }\n",
              "    </script>\n",
              "  </div>\n",
              "\n",
              "\n",
              "<div id=\"df-d7af76e9-6d82-4927-81a1-1e8e69eca669\">\n",
              "  <button class=\"colab-df-quickchart\" onclick=\"quickchart('df-d7af76e9-6d82-4927-81a1-1e8e69eca669')\"\n",
              "            title=\"Suggest charts\"\n",
              "            style=\"display:none;\">\n",
              "\n",
              "<svg xmlns=\"http://www.w3.org/2000/svg\" height=\"24px\"viewBox=\"0 0 24 24\"\n",
              "     width=\"24px\">\n",
              "    <g>\n",
              "        <path d=\"M19 3H5c-1.1 0-2 .9-2 2v14c0 1.1.9 2 2 2h14c1.1 0 2-.9 2-2V5c0-1.1-.9-2-2-2zM9 17H7v-7h2v7zm4 0h-2V7h2v10zm4 0h-2v-4h2v4z\"/>\n",
              "    </g>\n",
              "</svg>\n",
              "  </button>\n",
              "\n",
              "<style>\n",
              "  .colab-df-quickchart {\n",
              "      --bg-color: #E8F0FE;\n",
              "      --fill-color: #1967D2;\n",
              "      --hover-bg-color: #E2EBFA;\n",
              "      --hover-fill-color: #174EA6;\n",
              "      --disabled-fill-color: #AAA;\n",
              "      --disabled-bg-color: #DDD;\n",
              "  }\n",
              "\n",
              "  [theme=dark] .colab-df-quickchart {\n",
              "      --bg-color: #3B4455;\n",
              "      --fill-color: #D2E3FC;\n",
              "      --hover-bg-color: #434B5C;\n",
              "      --hover-fill-color: #FFFFFF;\n",
              "      --disabled-bg-color: #3B4455;\n",
              "      --disabled-fill-color: #666;\n",
              "  }\n",
              "\n",
              "  .colab-df-quickchart {\n",
              "    background-color: var(--bg-color);\n",
              "    border: none;\n",
              "    border-radius: 50%;\n",
              "    cursor: pointer;\n",
              "    display: none;\n",
              "    fill: var(--fill-color);\n",
              "    height: 32px;\n",
              "    padding: 0;\n",
              "    width: 32px;\n",
              "  }\n",
              "\n",
              "  .colab-df-quickchart:hover {\n",
              "    background-color: var(--hover-bg-color);\n",
              "    box-shadow: 0 1px 2px rgba(60, 64, 67, 0.3), 0 1px 3px 1px rgba(60, 64, 67, 0.15);\n",
              "    fill: var(--button-hover-fill-color);\n",
              "  }\n",
              "\n",
              "  .colab-df-quickchart-complete:disabled,\n",
              "  .colab-df-quickchart-complete:disabled:hover {\n",
              "    background-color: var(--disabled-bg-color);\n",
              "    fill: var(--disabled-fill-color);\n",
              "    box-shadow: none;\n",
              "  }\n",
              "\n",
              "  .colab-df-spinner {\n",
              "    border: 2px solid var(--fill-color);\n",
              "    border-color: transparent;\n",
              "    border-bottom-color: var(--fill-color);\n",
              "    animation:\n",
              "      spin 1s steps(1) infinite;\n",
              "  }\n",
              "\n",
              "  @keyframes spin {\n",
              "    0% {\n",
              "      border-color: transparent;\n",
              "      border-bottom-color: var(--fill-color);\n",
              "      border-left-color: var(--fill-color);\n",
              "    }\n",
              "    20% {\n",
              "      border-color: transparent;\n",
              "      border-left-color: var(--fill-color);\n",
              "      border-top-color: var(--fill-color);\n",
              "    }\n",
              "    30% {\n",
              "      border-color: transparent;\n",
              "      border-left-color: var(--fill-color);\n",
              "      border-top-color: var(--fill-color);\n",
              "      border-right-color: var(--fill-color);\n",
              "    }\n",
              "    40% {\n",
              "      border-color: transparent;\n",
              "      border-right-color: var(--fill-color);\n",
              "      border-top-color: var(--fill-color);\n",
              "    }\n",
              "    60% {\n",
              "      border-color: transparent;\n",
              "      border-right-color: var(--fill-color);\n",
              "    }\n",
              "    80% {\n",
              "      border-color: transparent;\n",
              "      border-right-color: var(--fill-color);\n",
              "      border-bottom-color: var(--fill-color);\n",
              "    }\n",
              "    90% {\n",
              "      border-color: transparent;\n",
              "      border-bottom-color: var(--fill-color);\n",
              "    }\n",
              "  }\n",
              "</style>\n",
              "\n",
              "  <script>\n",
              "    async function quickchart(key) {\n",
              "      const quickchartButtonEl =\n",
              "        document.querySelector('#' + key + ' button');\n",
              "      quickchartButtonEl.disabled = true;  // To prevent multiple clicks.\n",
              "      quickchartButtonEl.classList.add('colab-df-spinner');\n",
              "      try {\n",
              "        const charts = await google.colab.kernel.invokeFunction(\n",
              "            'suggestCharts', [key], {});\n",
              "      } catch (error) {\n",
              "        console.error('Error during call to suggestCharts:', error);\n",
              "      }\n",
              "      quickchartButtonEl.classList.remove('colab-df-spinner');\n",
              "      quickchartButtonEl.classList.add('colab-df-quickchart-complete');\n",
              "    }\n",
              "    (() => {\n",
              "      let quickchartButtonEl =\n",
              "        document.querySelector('#df-d7af76e9-6d82-4927-81a1-1e8e69eca669 button');\n",
              "      quickchartButtonEl.style.display =\n",
              "        google.colab.kernel.accessAllowed ? 'block' : 'none';\n",
              "    })();\n",
              "  </script>\n",
              "</div>\n",
              "\n",
              "  <div id=\"id_2bbe1bfd-af56-4356-8e0c-68937e50db00\">\n",
              "    <style>\n",
              "      .colab-df-generate {\n",
              "        background-color: #E8F0FE;\n",
              "        border: none;\n",
              "        border-radius: 50%;\n",
              "        cursor: pointer;\n",
              "        display: none;\n",
              "        fill: #1967D2;\n",
              "        height: 32px;\n",
              "        padding: 0 0 0 0;\n",
              "        width: 32px;\n",
              "      }\n",
              "\n",
              "      .colab-df-generate:hover {\n",
              "        background-color: #E2EBFA;\n",
              "        box-shadow: 0px 1px 2px rgba(60, 64, 67, 0.3), 0px 1px 3px 1px rgba(60, 64, 67, 0.15);\n",
              "        fill: #174EA6;\n",
              "      }\n",
              "\n",
              "      [theme=dark] .colab-df-generate {\n",
              "        background-color: #3B4455;\n",
              "        fill: #D2E3FC;\n",
              "      }\n",
              "\n",
              "      [theme=dark] .colab-df-generate:hover {\n",
              "        background-color: #434B5C;\n",
              "        box-shadow: 0px 1px 3px 1px rgba(0, 0, 0, 0.15);\n",
              "        filter: drop-shadow(0px 1px 2px rgba(0, 0, 0, 0.3));\n",
              "        fill: #FFFFFF;\n",
              "      }\n",
              "    </style>\n",
              "    <button class=\"colab-df-generate\" onclick=\"generateWithVariable('smaller_table')\"\n",
              "            title=\"Generate code using this dataframe.\"\n",
              "            style=\"display:none;\">\n",
              "\n",
              "  <svg xmlns=\"http://www.w3.org/2000/svg\" height=\"24px\"viewBox=\"0 0 24 24\"\n",
              "       width=\"24px\">\n",
              "    <path d=\"M7,19H8.4L18.45,9,17,7.55,7,17.6ZM5,21V16.75L18.45,3.32a2,2,0,0,1,2.83,0l1.4,1.43a1.91,1.91,0,0,1,.58,1.4,1.91,1.91,0,0,1-.58,1.4L9.25,21ZM18.45,9,17,7.55Zm-12,3A5.31,5.31,0,0,0,4.9,8.1,5.31,5.31,0,0,0,1,6.5,5.31,5.31,0,0,0,4.9,4.9,5.31,5.31,0,0,0,6.5,1,5.31,5.31,0,0,0,8.1,4.9,5.31,5.31,0,0,0,12,6.5,5.46,5.46,0,0,0,6.5,12Z\"/>\n",
              "  </svg>\n",
              "    </button>\n",
              "    <script>\n",
              "      (() => {\n",
              "      const buttonEl =\n",
              "        document.querySelector('#id_2bbe1bfd-af56-4356-8e0c-68937e50db00 button.colab-df-generate');\n",
              "      buttonEl.style.display =\n",
              "        google.colab.kernel.accessAllowed ? 'block' : 'none';\n",
              "\n",
              "      buttonEl.onclick = () => {\n",
              "        google.colab.notebook.generateWithVariable('smaller_table');\n",
              "      }\n",
              "      })();\n",
              "    </script>\n",
              "  </div>\n",
              "\n",
              "    </div>\n",
              "  </div>\n"
            ],
            "application/vnd.google.colaboratory.intrinsic+json": {
              "type": "dataframe",
              "variable_name": "smaller_table",
              "summary": "{\n  \"name\": \"smaller_table\",\n  \"rows\": 226,\n  \"fields\": [\n    {\n      \"column\": \"title\",\n      \"properties\": {\n        \"dtype\": \"string\",\n        \"num_unique_values\": 220,\n        \"samples\": [\n          \"\\u0e08\\u0e31\\u0e01\\u0e08\\u0e31\\u0e48\\u0e19\\u0e44\\u0e21\\u0e48\\u0e21\\u0e35\\u0e44\\u0e2a\\u0e49\",\n          \"\\u0e25\\u0e34\\u0e49\\u0e19\\u0e17\\u0e2d\\u0e07\",\n          \"\\u0e1e\\u0e48\\u0e2d\\u0e43\\u0e2b\\u0e0d\\u0e48\\u0e2b\\u0e31\\u0e27\\u0e25\\u0e49\\u0e32\\u0e19\"\n        ],\n        \"semantic_type\": \"\",\n        \"description\": \"\"\n      }\n    },\n    {\n      \"column\": \"type\",\n      \"properties\": {\n        \"dtype\": \"category\",\n        \"num_unique_values\": 11,\n        \"samples\": [\n          \"\\u0e19\\u0e34\\u0e17\\u0e32\\u0e19\\u0e21\\u0e2b\\u0e31\\u0e28\\u0e08\\u0e23\\u0e23\\u0e22\\u0e4c\",\n          \"\\u0e19\\u0e34\\u0e17\\u0e32\\u0e19\\u0e1b\\u0e23\\u0e30\\u0e08\\u0e33\\u0e16\\u0e34\\u0e48\\u0e19\",\n          \"\\u0e19\\u0e34\\u0e17\\u0e32\\u0e19\\u0e27\\u0e35\\u0e23\\u0e1a\\u0e38\\u0e23\\u0e38\\u0e29\"\n        ],\n        \"semantic_type\": \"\",\n        \"description\": \"\"\n      }\n    },\n    {\n      \"column\": \"creator\",\n      \"properties\": {\n        \"dtype\": \"category\",\n        \"num_unique_values\": 83,\n        \"samples\": [\n          \"\\u0e2d\\u0e49\\u0e27\\u0e19 \\u0e18\\u0e35\\u0e08\\u0e31\\u0e19\\u0e17\\u0e23\\u0e4c\\u0e21\\u0e32\\u0e15\\u0e22\\u0e4c,\\u0e1a\\u0e38\\u0e0d\\u0e40\\u0e25\\u0e34\\u0e28 \\u0e44\\u0e0a\\u0e22\\u0e1e\\u0e07\\u0e29\\u0e4c\",\n          \"\\u0e2d\\u0e48\\u0e2d\\u0e19\\u0e15\\u0e32 \\u0e1b\\u0e23\\u0e30\\u0e01\\u0e32\\u0e40\\u0e27\\u0e2a\\u0e32\",\n          \"\\u0e1e\\u0e23\\u0e30\\u0e2d\\u0e34\\u0e19\\u0e14\\u0e32 \\u0e01\\u0e27\\u0e35\\u0e27\\u0e07\\u0e28\\u0e4c\"\n        ],\n        \"semantic_type\": \"\",\n        \"description\": \"\"\n      }\n    },\n    {\n      \"column\": \"subject\",\n      \"properties\": {\n        \"dtype\": \"category\",\n        \"num_unique_values\": 1,\n        \"samples\": [\n          \"\\u0e19\\u0e34\\u0e17\\u0e32\\u0e19\\u0e1e\\u0e37\\u0e49\\u0e19\\u0e1a\\u0e49\\u0e32\\u0e19\"\n        ],\n        \"semantic_type\": \"\",\n        \"description\": \"\"\n      }\n    },\n    {\n      \"column\": \"spatial\",\n      \"properties\": {\n        \"dtype\": \"category\",\n        \"num_unique_values\": 8,\n        \"samples\": [\n          \"\\u0e44\\u0e17\\u0e22,\"\n        ],\n        \"semantic_type\": \"\",\n        \"description\": \"\"\n      }\n    }\n  ]\n}"
            }
          },
          "metadata": {},
          "execution_count": 21
        }
      ]
    },
    {
      "cell_type": "markdown",
      "source": [
        "---"
      ],
      "metadata": {
        "id": "QNJud9PdZbg2"
      }
    },
    {
      "cell_type": "code",
      "metadata": {
        "id": "x7I7LHQY0gLe"
      },
      "source": [
        "smaller_table = data_covid[['announce_date','province_of_onset','risk']]\n",
        "smaller_table"
      ],
      "execution_count": null,
      "outputs": []
    },
    {
      "cell_type": "markdown",
      "source": [
        "---"
      ],
      "metadata": {
        "id": "eR4FyAZrZerL"
      }
    },
    {
      "cell_type": "markdown",
      "metadata": {
        "id": "nrVTN03F2GpV"
      },
      "source": [
        "## ตัดเฉพาะ rows และ columns ที่ต้องการ"
      ]
    },
    {
      "cell_type": "markdown",
      "metadata": {
        "id": "58aOjVTl2SK0"
      },
      "source": [
        "### (แบบง่าย) มองเป็น array ด้วย iloc แล้วตัดแบบ slice list"
      ]
    },
    {
      "cell_type": "code",
      "source": [
        "folk_df.iloc[1:5,:]  #ตัดเฉพาะ data ที่ 1 ถึง 5 และเอาทุก col"
      ],
      "metadata": {
        "id": "RljluDCaaTga"
      },
      "execution_count": null,
      "outputs": []
    },
    {
      "cell_type": "markdown",
      "source": [
        "---"
      ],
      "metadata": {
        "id": "SbnMqg1IaTu-"
      }
    },
    {
      "cell_type": "code",
      "metadata": {
        "id": "NYFm0KkM1vqR"
      },
      "source": [
        "data_covid.iloc[1:5,:]"
      ],
      "execution_count": null,
      "outputs": []
    },
    {
      "cell_type": "markdown",
      "source": [
        "---"
      ],
      "metadata": {
        "id": "Mlitvk2jasZp"
      }
    },
    {
      "cell_type": "markdown",
      "source": [
        "# Table Query\n",
        "แบบ advanced แต่ใช้ประโยชน์ได้เยอะกว่า (ตัดแบบใช้ logic query)"
      ],
      "metadata": {
        "id": "Ywi45K9Lay1m"
      }
    },
    {
      "cell_type": "markdown",
      "source": [
        "##อยากได้นิทานที่เป็นมุขตลก"
      ],
      "metadata": {
        "id": "j97jTT-Ia_7o"
      }
    },
    {
      "cell_type": "code",
      "source": [
        "folk_df['type']=='มุขตลก' #เอาตารางไปชี้ col type ให้บอกว่าอันไหนที่เป็น/ไม่เป็นมุขตลกบ้าง\n",
        "#โชว์ list มีขนาด 226"
      ],
      "metadata": {
        "colab": {
          "base_uri": "https://localhost:8080/"
        },
        "id": "mbdczZu8bmFy",
        "outputId": "b658bce2-d06b-4ae3-fefd-11c97596254f"
      },
      "execution_count": null,
      "outputs": [
        {
          "output_type": "execute_result",
          "data": {
            "text/plain": [
              "0      False\n",
              "1      False\n",
              "2      False\n",
              "3       True\n",
              "4       True\n",
              "       ...  \n",
              "221    False\n",
              "222     True\n",
              "223    False\n",
              "224    False\n",
              "225    False\n",
              "Name: type, Length: 226, dtype: bool"
            ]
          },
          "metadata": {},
          "execution_count": 25
        }
      ]
    },
    {
      "cell_type": "code",
      "source": [
        "folk_df[folk_df['type']=='มุขตลก']  #ชี้ type ที่เป็นมุขตลก จะเลือกเฉพาะ data ที่เป็น true"
      ],
      "metadata": {
        "id": "xRyrJe-9a_t3"
      },
      "execution_count": null,
      "outputs": []
    },
    {
      "cell_type": "markdown",
      "source": [
        "#Quiz 6 เลือก data มา 10 ตัวแรก และ 15 ตัวสุดท้าย โดยใช้ list of logics ในการ query"
      ],
      "metadata": {
        "id": "wWm9bAnpcJDD"
      }
    },
    {
      "cell_type": "markdown",
      "source": [
        "แสดงวิธีดังนี้\n",
        "1. สร้าง list of logics\n",
        "2. query"
      ],
      "metadata": {
        "id": "yTo2Iummg2GQ"
      }
    },
    {
      "cell_type": "markdown",
      "source": [
        "ลองทำ\n",
        "```\n",
        "first = folk_df.iloc[:10,:]\n",
        "last = folk_df.iloc[-15:,:]\n",
        "```"
      ],
      "metadata": {
        "id": "0WJ6NjBTjh3G"
      }
    },
    {
      "cell_type": "code",
      "source": [
        "list_log1 = 10*[True]\n",
        "list_log2 = 15*[True]\n",
        "list_logM = (226-25)*[False]"
      ],
      "metadata": {
        "id": "ZpKRoMlUiUgL"
      },
      "execution_count": null,
      "outputs": []
    },
    {
      "cell_type": "code",
      "source": [
        "folk_df[list_log1 + list_log2 + list_logM]"
      ],
      "metadata": {
        "id": "ARew8ZNOiwbU"
      },
      "execution_count": null,
      "outputs": []
    },
    {
      "cell_type": "markdown",
      "metadata": {
        "id": "z9IC5md533qS"
      },
      "source": [
        "การชี้ค่าในตารางด้วย data_covid[***x***] ค่า ***x*** สามารถมีค่าที่ใส่เข้าไปได้ 2 แบบ\n",
        "\n",
        "\n",
        "1.   ชื่อ column\n",
        "2.   ใส่ rows ที่ต้องการ (ใส่ list ที่มี***ขนาดเท่ากับจำนวนแถว*** แล้วบอกว่าเอา แถวไหนบ้างโดยใช้ logical expression (```True```/```False```))\n",
        "\n"
      ]
    },
    {
      "cell_type": "markdown",
      "source": [
        "#HW5\n",
        "ใช้การ query และ data slice เพื่อตอบคำถามตอ่ไปนี้\n",
        "1. นิทานที่ยาวที่สุดและสั้นที่สุด (ไม่นับสัญลักษณ์พิเศษ)\n",
        "2. ชนิดของนิทาน(type)ที่มากที่สุดและน้อยที่สุด\n",
        "3. มี spatial ที่ไม่ใช่ไทยกี่เรื่อง\n"
      ],
      "metadata": {
        "id": "v7NN8U1DlKG7"
      }
    },
    {
      "cell_type": "markdown",
      "source": [
        ">note"
      ],
      "metadata": {
        "id": "q-n8wzLqgkLw"
      }
    },
    {
      "cell_type": "code",
      "source": [
        "len('มุขตลก') #ใช้นับจำนวนตัวอักษร"
      ],
      "metadata": {
        "id": "VsNhKyD9l6Sw"
      },
      "execution_count": null,
      "outputs": []
    },
    {
      "cell_type": "code",
      "source": [
        "folk_df['description'][0]"
      ],
      "metadata": {
        "id": "HFXxrehnmAXy"
      },
      "execution_count": null,
      "outputs": []
    },
    {
      "cell_type": "markdown",
      "source": [
        "---"
      ],
      "metadata": {
        "id": "BrAOg-I4lzZE"
      }
    },
    {
      "cell_type": "markdown",
      "source": [
        ">1. นิทานที่ยาวที่สุดและสั้นที่สุด (ไม่นับสัญลักษณ์พิเศษ)"
      ],
      "metadata": {
        "id": "ODh_s7KKzRoa"
      }
    },
    {
      "cell_type": "code",
      "source": [
        "slice_folk_df = folk_df.replace(r'[^0-9ก-๙\\s]', '', regex=True)"
      ],
      "metadata": {
        "id": "IfgrOt4azgVC"
      },
      "execution_count": null,
      "outputs": []
    },
    {
      "cell_type": "code",
      "source": [
        "des_max = slice_folk_df.loc[slice_folk_df['description'].str.len()==slice_folk_df['description'].str.len().max(),'title']\n",
        "des_min = slice_folk_df.loc[slice_folk_df['description'].str.len()==slice_folk_df['description'].str.len().min(),'title']\n",
        "des_max,des_min"
      ],
      "metadata": {
        "id": "eIaNm_VFmiW8"
      },
      "execution_count": null,
      "outputs": []
    },
    {
      "cell_type": "code",
      "source": [
        "#ทำต้นคาบ (หลังส่งไปแล้ว)\n",
        "print(f'นิทานที่ยาวที่สุดและสั้นที่สุด คือ {des_max.iloc[0]}, {des_min.iloc[0]}')"
      ],
      "metadata": {
        "id": "eG-vpvc6aL1t",
        "outputId": "cdad5f91-6692-4e4c-875b-9110a0e29e2a",
        "colab": {
          "base_uri": "https://localhost:8080/"
        }
      },
      "execution_count": null,
      "outputs": [
        {
          "output_type": "stream",
          "name": "stdout",
          "text": [
            "นิทานที่ยาวที่สุดและสั้นที่สุด คือ ท้าวหมาหยุ๋ย, จักจั่นไม่มีไส้\n"
          ]
        }
      ]
    },
    {
      "cell_type": "markdown",
      "source": [
        ">2. ชนิดของนิทาน(type)ที่มากที่สุดและน้อยที่สุด"
      ],
      "metadata": {
        "id": "e4OVWl-JzXIf"
      }
    },
    {
      "cell_type": "code",
      "source": [
        "type_max = folk_df.loc[folk_df['type'].str.len() == folk_df['type'].str.len().max(), 'type'].values[0]\n",
        "type_min = folk_df.loc[folk_df['type'].str.len() == folk_df['type'].str.len().min(), 'type'].values[0]\n",
        "print(f'ชนิดของนิทานที่มากที่สุดและน้อยที่สุด คือ {type_max}, {type_min} ตามลำดับ')"
      ],
      "metadata": {
        "colab": {
          "base_uri": "https://localhost:8080/"
        },
        "id": "LwWaJQkZiUtu",
        "outputId": "1a784ee3-e52d-44b7-d7ed-2208af22463e"
      },
      "execution_count": null,
      "outputs": [
        {
          "output_type": "stream",
          "name": "stdout",
          "text": [
            "ชนิดของนิทานที่มากที่สุดและน้อยที่สุด คือ นิทานอธิบายเหตุ, มุขตลก ตามลำดับ\n"
          ]
        }
      ]
    },
    {
      "cell_type": "markdown",
      "source": [
        ">3. มี spatial ที่ไม่ใช่ไทยกี่เรื่อง"
      ],
      "metadata": {
        "id": "nrXAzaIRzYv5"
      }
    },
    {
      "cell_type": "code",
      "source": [
        "no_thai = len(folk_df[folk_df['spatial']!='ไทย'])\n",
        "print(f'มี spatial {no_thai} เรื่อง ที่ไม่ใช่ไทย')"
      ],
      "metadata": {
        "colab": {
          "base_uri": "https://localhost:8080/"
        },
        "id": "1eJke-KRrWJi",
        "outputId": "7b32498b-640c-46e5-f447-e5a6305606fc"
      },
      "execution_count": null,
      "outputs": [
        {
          "output_type": "stream",
          "name": "stdout",
          "text": [
            "มี spatial 146 เรื่อง ที่ไม่ใช่ไทย\n"
          ]
        }
      ]
    },
    {
      "cell_type": "markdown",
      "source": [
        "##อจ.พาทำในคาบ"
      ],
      "metadata": {
        "id": "Q1B8WZbqdP6p"
      }
    },
    {
      "cell_type": "markdown",
      "source": [
        "###ใช้ gemini"
      ],
      "metadata": {
        "id": "LS8Dnzokhf7P"
      }
    },
    {
      "cell_type": "code",
      "source": [
        "# prompt: ลบ row ที่มีค่าว่างใน column description\n",
        "\n",
        "folk_df = folk_df.dropna(subset=['description'])\n"
      ],
      "metadata": {
        "id": "KXqlPC7bdSTR"
      },
      "execution_count": null,
      "outputs": []
    },
    {
      "cell_type": "code",
      "source": [
        "# prompt: ลบ html tags และ html codes ออกจาก text ใน column description\n",
        "\n",
        "!pip install beautifulsoup4\n",
        "from bs4 import BeautifulSoup\n",
        "\n",
        "def remove_html_tags(text):\n",
        "  soup = BeautifulSoup(text, 'html.parser')\n",
        "  return soup.get_text()\n",
        "\n",
        "folk_df['description'] = folk_df['description'].apply(remove_html_tags)\n"
      ],
      "metadata": {
        "colab": {
          "base_uri": "https://localhost:8080/"
        },
        "id": "K3hPnLyAeULn",
        "outputId": "da546bf2-2d76-4ead-f4c2-15a32a5231db"
      },
      "execution_count": null,
      "outputs": [
        {
          "output_type": "stream",
          "name": "stdout",
          "text": [
            "Requirement already satisfied: beautifulsoup4 in /usr/local/lib/python3.10/dist-packages (4.12.3)\n",
            "Requirement already satisfied: soupsieve>1.2 in /usr/local/lib/python3.10/dist-packages (from beautifulsoup4) (2.5)\n"
          ]
        }
      ]
    },
    {
      "cell_type": "code",
      "source": [
        "folk_df['description']"
      ],
      "metadata": {
        "id": "Nma0gmkpfW6h"
      },
      "execution_count": null,
      "outputs": []
    },
    {
      "cell_type": "code",
      "source": [
        "# prompt: description ของ row ไหนสั้นที่สุดโดย print name และความยาว\n",
        "\n",
        "# หา index ของ description ที่สั้นที่สุด\n",
        "shortest_index = folk_df['description'].str.len().idxmin()\n",
        "\n",
        "# แสดงชื่อและความยาวของ description ที่สั้นที่สุด\n",
        "shortest_name = folk_df.loc[shortest_index, 'title']\n",
        "shortest_length = folk_df.loc[shortest_index, 'description'].str.len()\n",
        "\n",
        "print(f\"นิทาน '{shortest_name}' มี description สั้นที่สุด, ความยาว {shortest_length} ตัวอักษร\")\n"
      ],
      "metadata": {
        "id": "TiWGvy3Xfs_g"
      },
      "execution_count": null,
      "outputs": []
    },
    {
      "cell_type": "markdown",
      "source": [
        "###ทำเอง"
      ],
      "metadata": {
        "id": "yLOU4D22hihX"
      }
    },
    {
      "cell_type": "code",
      "source": [
        "folk_df['spatial'].unique()"
      ],
      "metadata": {
        "colab": {
          "base_uri": "https://localhost:8080/"
        },
        "id": "G46haVPYhj43",
        "outputId": "c9b34124-268b-4da0-a3df-239c1351f40b"
      },
      "execution_count": null,
      "outputs": [
        {
          "output_type": "execute_result",
          "data": {
            "text/plain": [
              "array(['ไทย', 'ไทย,', nan, 'ราชบุรี ไทย,', 'พัทลุง ไทย', 'พัทลุง, ไทย',\n",
              "       'พัทลุง, ไทย,', 'สงขลา ไทย', 'นครศรีธรรมราช ไทย'], dtype=object)"
            ]
          },
          "metadata": {},
          "execution_count": 21
        }
      ]
    },
    {
      "cell_type": "code",
      "source": [
        "folk_df = folk_df.dropna(subset=['spatial'])"
      ],
      "metadata": {
        "id": "dpbwh_bMiRmX"
      },
      "execution_count": null,
      "outputs": []
    },
    {
      "cell_type": "code",
      "source": [
        "folk_df.shape[0]"
      ],
      "metadata": {
        "colab": {
          "base_uri": "https://localhost:8080/"
        },
        "id": "z67ShCRpiYGS",
        "outputId": "36038456-f6ae-48e5-84ae-00a72891089f"
      },
      "execution_count": null,
      "outputs": [
        {
          "output_type": "execute_result",
          "data": {
            "text/plain": [
              "192"
            ]
          },
          "metadata": {},
          "execution_count": 23
        }
      ]
    },
    {
      "cell_type": "code",
      "source": [
        "set(folk_df['spatial']) #set() แปลงให้ input เป็น set"
      ],
      "metadata": {
        "colab": {
          "base_uri": "https://localhost:8080/"
        },
        "id": "-FUWrhv4irl6",
        "outputId": "59b2cb05-2775-4e78-f312-464972f32e11"
      },
      "execution_count": null,
      "outputs": [
        {
          "output_type": "execute_result",
          "data": {
            "text/plain": [
              "{'นครศรีธรรมราช ไทย',\n",
              " 'พัทลุง ไทย',\n",
              " 'พัทลุง, ไทย',\n",
              " 'พัทลุง, ไทย,',\n",
              " 'ราชบุรี ไทย,',\n",
              " 'สงขลา ไทย',\n",
              " 'ไทย',\n",
              " 'ไทย,'}"
            ]
          },
          "metadata": {},
          "execution_count": 24
        }
      ]
    },
    {
      "cell_type": "markdown",
      "source": [
        "---"
      ],
      "metadata": {
        "id": "BTqPu9KAzPUw"
      }
    },
    {
      "cell_type": "markdown",
      "source": [
        "##ของเดิม (2023)"
      ],
      "metadata": {
        "id": "8LZBxldugnjZ"
      }
    },
    {
      "cell_type": "code",
      "metadata": {
        "id": "jQu4sr_53Ytk"
      },
      "source": [
        "eight_rows_covid = data_covid.iloc[:8,:] # ตารางตัวอย่าง\n",
        "eight_rows_covid"
      ],
      "execution_count": null,
      "outputs": []
    },
    {
      "cell_type": "code",
      "metadata": {
        "colab": {
          "base_uri": "https://localhost:8080/",
          "height": 166
        },
        "id": "3NeywU6J48Vv",
        "outputId": "c1a02d6b-817b-4f24-a018-efd896f37c4d"
      },
      "source": [
        "eight_rows_covid[[True,False,True,True,False,True,False,False]]   #2.   ใส่ rows ที่ต้องการ"
      ],
      "execution_count": null,
      "outputs": [
        {
          "output_type": "execute_result",
          "data": {
            "text/html": [
              "<div>\n",
              "<style scoped>\n",
              "    .dataframe tbody tr th:only-of-type {\n",
              "        vertical-align: middle;\n",
              "    }\n",
              "\n",
              "    .dataframe tbody tr th {\n",
              "        vertical-align: top;\n",
              "    }\n",
              "\n",
              "    .dataframe thead th {\n",
              "        text-align: right;\n",
              "    }\n",
              "</style>\n",
              "<table border=\"1\" class=\"dataframe\">\n",
              "  <thead>\n",
              "    <tr style=\"text-align: right;\">\n",
              "      <th></th>\n",
              "      <th>No.</th>\n",
              "      <th>announce_date</th>\n",
              "      <th>notification_date</th>\n",
              "      <th>sex</th>\n",
              "      <th>age</th>\n",
              "      <th>nationality</th>\n",
              "      <th>province_of_isolation</th>\n",
              "      <th>province_of_onset</th>\n",
              "      <th>district_of_onset</th>\n",
              "      <th>risk</th>\n",
              "    </tr>\n",
              "  </thead>\n",
              "  <tbody>\n",
              "    <tr>\n",
              "      <th>0</th>\n",
              "      <td>1</td>\n",
              "      <td>1/12/2020</td>\n",
              "      <td>NaN</td>\n",
              "      <td>หญิง</td>\n",
              "      <td>61.0</td>\n",
              "      <td>China</td>\n",
              "      <td>กรุงเทพมหานคร</td>\n",
              "      <td>กรุงเทพมหานคร</td>\n",
              "      <td>NaN</td>\n",
              "      <td>คนต่างชาติเดินทางมาจากต่างประเทศ</td>\n",
              "    </tr>\n",
              "    <tr>\n",
              "      <th>2</th>\n",
              "      <td>3</td>\n",
              "      <td>1/22/2020</td>\n",
              "      <td>NaN</td>\n",
              "      <td>หญิง</td>\n",
              "      <td>73.0</td>\n",
              "      <td>Thailand</td>\n",
              "      <td>นครปฐม</td>\n",
              "      <td>นครปฐม</td>\n",
              "      <td>เมือง</td>\n",
              "      <td>คนต่างชาติเดินทางมาจากต่างประเทศ</td>\n",
              "    </tr>\n",
              "    <tr>\n",
              "      <th>3</th>\n",
              "      <td>4</td>\n",
              "      <td>1/22/2020</td>\n",
              "      <td>NaN</td>\n",
              "      <td>ชาย</td>\n",
              "      <td>68.0</td>\n",
              "      <td>China</td>\n",
              "      <td>กรุงเทพมหานคร</td>\n",
              "      <td>กรุงเทพมหานคร</td>\n",
              "      <td>NaN</td>\n",
              "      <td>คนต่างชาติเดินทางมาจากต่างประเทศ</td>\n",
              "    </tr>\n",
              "    <tr>\n",
              "      <th>5</th>\n",
              "      <td>6</td>\n",
              "      <td>1/25/2020</td>\n",
              "      <td>NaN</td>\n",
              "      <td>หญิง</td>\n",
              "      <td>33.0</td>\n",
              "      <td>China</td>\n",
              "      <td>กรุงเทพมหานคร</td>\n",
              "      <td>กรุงเทพมหานคร</td>\n",
              "      <td>NaN</td>\n",
              "      <td>คนต่างชาติเดินทางมาจากต่างประเทศ</td>\n",
              "    </tr>\n",
              "  </tbody>\n",
              "</table>\n",
              "</div>"
            ],
            "text/plain": [
              "   No. announce_date  ... district_of_onset                              risk\n",
              "0    1     1/12/2020  ...               NaN  คนต่างชาติเดินทางมาจากต่างประเทศ\n",
              "2    3     1/22/2020  ...             เมือง  คนต่างชาติเดินทางมาจากต่างประเทศ\n",
              "3    4     1/22/2020  ...               NaN  คนต่างชาติเดินทางมาจากต่างประเทศ\n",
              "5    6     1/25/2020  ...               NaN  คนต่างชาติเดินทางมาจากต่างประเทศ\n",
              "\n",
              "[4 rows x 10 columns]"
            ]
          },
          "metadata": {
            "tags": []
          },
          "execution_count": 29
        }
      ]
    },
    {
      "cell_type": "code",
      "metadata": {
        "colab": {
          "base_uri": "https://localhost:8080/"
        },
        "id": "VaD8Uq625Xsk",
        "outputId": "1c250bc0-b9c8-4b2d-addd-fc80e7b3a840"
      },
      "source": [
        "eight_rows_covid['province_of_onset'] == 'กรุงเทพมหานคร'  #สร้าง list ของ logical expression"
      ],
      "execution_count": null,
      "outputs": [
        {
          "output_type": "execute_result",
          "data": {
            "text/plain": [
              "0     True\n",
              "1     True\n",
              "2    False\n",
              "3     True\n",
              "4     True\n",
              "5     True\n",
              "6     True\n",
              "7    False\n",
              "Name: province_of_onset, dtype: bool"
            ]
          },
          "metadata": {
            "tags": []
          },
          "execution_count": 30
        }
      ]
    },
    {
      "cell_type": "code",
      "metadata": {
        "colab": {
          "base_uri": "https://localhost:8080/",
          "height": 225
        },
        "id": "Ch14sJ-c6MFP",
        "outputId": "6247b83f-75b0-4faf-ea7f-b51c42cb0522"
      },
      "source": [
        "eight_rows_covid[eight_rows_covid['province_of_onset'] == 'กรุงเทพมหานคร']  #เราเอา 2 บรรทัดบนมาบวกกัน"
      ],
      "execution_count": null,
      "outputs": [
        {
          "output_type": "execute_result",
          "data": {
            "text/html": [
              "<div>\n",
              "<style scoped>\n",
              "    .dataframe tbody tr th:only-of-type {\n",
              "        vertical-align: middle;\n",
              "    }\n",
              "\n",
              "    .dataframe tbody tr th {\n",
              "        vertical-align: top;\n",
              "    }\n",
              "\n",
              "    .dataframe thead th {\n",
              "        text-align: right;\n",
              "    }\n",
              "</style>\n",
              "<table border=\"1\" class=\"dataframe\">\n",
              "  <thead>\n",
              "    <tr style=\"text-align: right;\">\n",
              "      <th></th>\n",
              "      <th>No.</th>\n",
              "      <th>announce_date</th>\n",
              "      <th>notification_date</th>\n",
              "      <th>sex</th>\n",
              "      <th>age</th>\n",
              "      <th>nationality</th>\n",
              "      <th>province_of_isolation</th>\n",
              "      <th>province_of_onset</th>\n",
              "      <th>district_of_onset</th>\n",
              "      <th>risk</th>\n",
              "    </tr>\n",
              "  </thead>\n",
              "  <tbody>\n",
              "    <tr>\n",
              "      <th>0</th>\n",
              "      <td>1</td>\n",
              "      <td>1/12/2020</td>\n",
              "      <td>NaN</td>\n",
              "      <td>หญิง</td>\n",
              "      <td>61.0</td>\n",
              "      <td>China</td>\n",
              "      <td>กรุงเทพมหานคร</td>\n",
              "      <td>กรุงเทพมหานคร</td>\n",
              "      <td>NaN</td>\n",
              "      <td>คนต่างชาติเดินทางมาจากต่างประเทศ</td>\n",
              "    </tr>\n",
              "    <tr>\n",
              "      <th>1</th>\n",
              "      <td>2</td>\n",
              "      <td>1/17/2020</td>\n",
              "      <td>NaN</td>\n",
              "      <td>หญิง</td>\n",
              "      <td>74.0</td>\n",
              "      <td>China</td>\n",
              "      <td>กรุงเทพมหานคร</td>\n",
              "      <td>กรุงเทพมหานคร</td>\n",
              "      <td>NaN</td>\n",
              "      <td>คนต่างชาติเดินทางมาจากต่างประเทศ</td>\n",
              "    </tr>\n",
              "    <tr>\n",
              "      <th>3</th>\n",
              "      <td>4</td>\n",
              "      <td>1/22/2020</td>\n",
              "      <td>NaN</td>\n",
              "      <td>ชาย</td>\n",
              "      <td>68.0</td>\n",
              "      <td>China</td>\n",
              "      <td>กรุงเทพมหานคร</td>\n",
              "      <td>กรุงเทพมหานคร</td>\n",
              "      <td>NaN</td>\n",
              "      <td>คนต่างชาติเดินทางมาจากต่างประเทศ</td>\n",
              "    </tr>\n",
              "    <tr>\n",
              "      <th>4</th>\n",
              "      <td>5</td>\n",
              "      <td>1/24/2020</td>\n",
              "      <td>NaN</td>\n",
              "      <td>หญิง</td>\n",
              "      <td>66.0</td>\n",
              "      <td>China</td>\n",
              "      <td>นนทบุรี</td>\n",
              "      <td>กรุงเทพมหานคร</td>\n",
              "      <td>NaN</td>\n",
              "      <td>คนต่างชาติเดินทางมาจากต่างประเทศ</td>\n",
              "    </tr>\n",
              "    <tr>\n",
              "      <th>5</th>\n",
              "      <td>6</td>\n",
              "      <td>1/25/2020</td>\n",
              "      <td>NaN</td>\n",
              "      <td>หญิง</td>\n",
              "      <td>33.0</td>\n",
              "      <td>China</td>\n",
              "      <td>กรุงเทพมหานคร</td>\n",
              "      <td>กรุงเทพมหานคร</td>\n",
              "      <td>NaN</td>\n",
              "      <td>คนต่างชาติเดินทางมาจากต่างประเทศ</td>\n",
              "    </tr>\n",
              "    <tr>\n",
              "      <th>6</th>\n",
              "      <td>7</td>\n",
              "      <td>1/26/2020</td>\n",
              "      <td>NaN</td>\n",
              "      <td>หญิง</td>\n",
              "      <td>57.0</td>\n",
              "      <td>China</td>\n",
              "      <td>กรุงเทพมหานคร</td>\n",
              "      <td>กรุงเทพมหานคร</td>\n",
              "      <td>NaN</td>\n",
              "      <td>คนต่างชาติเดินทางมาจากต่างประเทศ</td>\n",
              "    </tr>\n",
              "  </tbody>\n",
              "</table>\n",
              "</div>"
            ],
            "text/plain": [
              "   No. announce_date  ... district_of_onset                              risk\n",
              "0    1     1/12/2020  ...               NaN  คนต่างชาติเดินทางมาจากต่างประเทศ\n",
              "1    2     1/17/2020  ...               NaN  คนต่างชาติเดินทางมาจากต่างประเทศ\n",
              "3    4     1/22/2020  ...               NaN  คนต่างชาติเดินทางมาจากต่างประเทศ\n",
              "4    5     1/24/2020  ...               NaN  คนต่างชาติเดินทางมาจากต่างประเทศ\n",
              "5    6     1/25/2020  ...               NaN  คนต่างชาติเดินทางมาจากต่างประเทศ\n",
              "6    7     1/26/2020  ...               NaN  คนต่างชาติเดินทางมาจากต่างประเทศ\n",
              "\n",
              "[6 rows x 10 columns]"
            ]
          },
          "metadata": {
            "tags": []
          },
          "execution_count": 31
        }
      ]
    },
    {
      "cell_type": "markdown",
      "source": [
        "---"
      ],
      "metadata": {
        "id": "iHEVus-hl4hN"
      }
    },
    {
      "cell_type": "markdown",
      "metadata": {
        "id": "HTZIBf0a7wTM"
      },
      "source": [
        "HW (ให้ใช้เฉพาะที่อาจารย์สอนไปแล้วในวิชานี้)\n",
        "\n",
        "1.   คำนวณ อายุเฉลี่ย ของผู้หญิง และผู้ชาย ของข้อมูลทั้งหมด\n",
        "2.   คำนวณ อายุเฉลี่ย ของผู้หญิง และผู้ชาย ของผู้ป่วยในจังหวัดขอนแก่น"
      ]
    },
    {
      "cell_type": "markdown",
      "metadata": {
        "id": "bbta7abq8q4n"
      },
      "source": [
        "3. หาจำนวนผู้ป่วยที่เป็นคน \"**คนต่างชาติเดินทางมาจากต่างประเทศ**\""
      ]
    },
    {
      "cell_type": "code",
      "metadata": {
        "id": "hxkhDHOK6hoc"
      },
      "source": [
        "this_data = data_covid[['sex','age','province_of_onset']]"
      ],
      "execution_count": null,
      "outputs": []
    },
    {
      "cell_type": "code",
      "metadata": {
        "id": "KZvCLjtIYfV9",
        "colab": {
          "base_uri": "https://localhost:8080/",
          "height": 419
        },
        "outputId": "783517e0-a5c8-49cb-ac47-0f0e7e16ffbf"
      },
      "source": [
        "this_data"
      ],
      "execution_count": null,
      "outputs": [
        {
          "output_type": "execute_result",
          "data": {
            "text/html": [
              "<div>\n",
              "<style scoped>\n",
              "    .dataframe tbody tr th:only-of-type {\n",
              "        vertical-align: middle;\n",
              "    }\n",
              "\n",
              "    .dataframe tbody tr th {\n",
              "        vertical-align: top;\n",
              "    }\n",
              "\n",
              "    .dataframe thead th {\n",
              "        text-align: right;\n",
              "    }\n",
              "</style>\n",
              "<table border=\"1\" class=\"dataframe\">\n",
              "  <thead>\n",
              "    <tr style=\"text-align: right;\">\n",
              "      <th></th>\n",
              "      <th>sex</th>\n",
              "      <th>age</th>\n",
              "      <th>province_of_onset</th>\n",
              "    </tr>\n",
              "  </thead>\n",
              "  <tbody>\n",
              "    <tr>\n",
              "      <th>0</th>\n",
              "      <td>หญิง</td>\n",
              "      <td>61.0</td>\n",
              "      <td>กรุงเทพมหานคร</td>\n",
              "    </tr>\n",
              "    <tr>\n",
              "      <th>1</th>\n",
              "      <td>หญิง</td>\n",
              "      <td>74.0</td>\n",
              "      <td>กรุงเทพมหานคร</td>\n",
              "    </tr>\n",
              "    <tr>\n",
              "      <th>2</th>\n",
              "      <td>หญิง</td>\n",
              "      <td>73.0</td>\n",
              "      <td>นครปฐม</td>\n",
              "    </tr>\n",
              "    <tr>\n",
              "      <th>3</th>\n",
              "      <td>ชาย</td>\n",
              "      <td>68.0</td>\n",
              "      <td>กรุงเทพมหานคร</td>\n",
              "    </tr>\n",
              "    <tr>\n",
              "      <th>4</th>\n",
              "      <td>หญิง</td>\n",
              "      <td>66.0</td>\n",
              "      <td>กรุงเทพมหานคร</td>\n",
              "    </tr>\n",
              "    <tr>\n",
              "      <th>...</th>\n",
              "      <td>...</td>\n",
              "      <td>...</td>\n",
              "      <td>...</td>\n",
              "    </tr>\n",
              "    <tr>\n",
              "      <th>12648</th>\n",
              "      <td>หญิง</td>\n",
              "      <td>44.0</td>\n",
              "      <td>ชลบุรี</td>\n",
              "    </tr>\n",
              "    <tr>\n",
              "      <th>12649</th>\n",
              "      <td>หญิง</td>\n",
              "      <td>52.0</td>\n",
              "      <td>ระยอง</td>\n",
              "    </tr>\n",
              "    <tr>\n",
              "      <th>12650</th>\n",
              "      <td>หญิง</td>\n",
              "      <td>23.0</td>\n",
              "      <td>ระยอง</td>\n",
              "    </tr>\n",
              "    <tr>\n",
              "      <th>12651</th>\n",
              "      <td>หญิง</td>\n",
              "      <td>29.0</td>\n",
              "      <td>ระยอง</td>\n",
              "    </tr>\n",
              "    <tr>\n",
              "      <th>12652</th>\n",
              "      <td>หญิง</td>\n",
              "      <td>22.0</td>\n",
              "      <td>ตาก</td>\n",
              "    </tr>\n",
              "  </tbody>\n",
              "</table>\n",
              "<p>12653 rows × 3 columns</p>\n",
              "</div>"
            ],
            "text/plain": [
              "        sex   age province_of_onset\n",
              "0      หญิง  61.0     กรุงเทพมหานคร\n",
              "1      หญิง  74.0     กรุงเทพมหานคร\n",
              "2      หญิง  73.0            นครปฐม\n",
              "3       ชาย  68.0     กรุงเทพมหานคร\n",
              "4      หญิง  66.0     กรุงเทพมหานคร\n",
              "...     ...   ...               ...\n",
              "12648  หญิง  44.0            ชลบุรี\n",
              "12649  หญิง  52.0             ระยอง\n",
              "12650  หญิง  23.0             ระยอง\n",
              "12651  หญิง  29.0             ระยอง\n",
              "12652  หญิง  22.0               ตาก\n",
              "\n",
              "[12653 rows x 3 columns]"
            ]
          },
          "metadata": {
            "tags": []
          },
          "execution_count": 8
        }
      ]
    },
    {
      "cell_type": "code",
      "metadata": {
        "id": "O-364VUjYgxw",
        "colab": {
          "base_uri": "https://localhost:8080/"
        },
        "outputId": "e024e11d-8adc-4b62-e6c4-d6df9c7e7d64"
      },
      "source": [
        "female = this_data[this_data['sex']=='หญิง']\n",
        "female['age']"
      ],
      "execution_count": null,
      "outputs": [
        {
          "output_type": "execute_result",
          "data": {
            "text/plain": [
              "0        61.0\n",
              "1        74.0\n",
              "2        73.0\n",
              "4        66.0\n",
              "5        33.0\n",
              "         ... \n",
              "12648    44.0\n",
              "12649    52.0\n",
              "12650    23.0\n",
              "12651    29.0\n",
              "12652    22.0\n",
              "Name: age, Length: 5332, dtype: float64"
            ]
          },
          "metadata": {
            "tags": []
          },
          "execution_count": 9
        }
      ]
    },
    {
      "cell_type": "code",
      "metadata": {
        "id": "jdDlyCZiY_U3",
        "colab": {
          "base_uri": "https://localhost:8080/"
        },
        "outputId": "639f56d5-59ce-449f-b104-e26b0d236234"
      },
      "source": [
        "sum = 0\n",
        "N = 0\n",
        "for a in female['age']:\n",
        "\n",
        "    if a > 0:\n",
        "        sum += a # sum = sum + a\n",
        "        N += 1\n",
        "\n",
        "print(f'อายุเฉลี่ย ของ ผู้ป่วยหญิง {sum/N}')"
      ],
      "execution_count": null,
      "outputs": [
        {
          "output_type": "stream",
          "text": [
            "อายุเฉลี่ย ของ ผู้ป่วยหญิง 36.63955450022614\n"
          ],
          "name": "stdout"
        }
      ]
    },
    {
      "cell_type": "code",
      "metadata": {
        "id": "LpQi57Z8ZhIF",
        "colab": {
          "base_uri": "https://localhost:8080/"
        },
        "outputId": "f6346853-72fb-48ac-e3e9-b4b1f65b1d3b"
      },
      "source": [
        "female_KK = female[female['province_of_onset']=='ขอนแก่น']\n",
        "\n",
        "sum = 0\n",
        "N = 0\n",
        "for a in female_KK['age']:\n",
        "\n",
        "    if a > 0:\n",
        "        sum += a # sum = sum + a\n",
        "        N += 1\n",
        "\n",
        "print(f'อายุเฉลี่ย ของ ผู้ป่วยหญิง ในจังหวัดขอนแก่น {sum/N}')"
      ],
      "execution_count": null,
      "outputs": [
        {
          "output_type": "stream",
          "text": [
            "อายุเฉลี่ย ของ ผู้ป่วยหญิง ในจังหวัดขอนแก่น 41.57142857142857\n"
          ],
          "name": "stdout"
        }
      ]
    },
    {
      "cell_type": "markdown",
      "source": [
        "#การจัดการ missing value"
      ],
      "metadata": {
        "id": "yAPSzhSRjJX2"
      }
    },
    {
      "cell_type": "markdown",
      "metadata": {
        "id": "Jol0oyUYb2-9"
      },
      "source": [
        "การจัดการ Missing Value\n",
        "\n",
        "- ลบ record ที่เป็น missing\n",
        "- แทนที่ ค่า missing ด้วยค่าที่เหมาะสม mean, default, category-unknown\n",
        "- ใช้ ค่าจาก columns อื่นๆ ช่วยประมาณค่า ค่าใน column ที่หายไป (regression, deep learning, etc.)"
      ]
    },
    {
      "cell_type": "markdown",
      "metadata": {
        "id": "wedBfQPMePi6"
      },
      "source": [
        "## ลบ record (dropna)\n",
        "\n",
        "missing = ```None```,   ```NA```(not autorized), ```NaN``` (not a number)"
      ]
    },
    {
      "cell_type": "code",
      "metadata": {
        "id": "x_f9i5-UePB-"
      },
      "source": [
        "this_data = folk_df.copy()"
      ],
      "execution_count": null,
      "outputs": []
    },
    {
      "cell_type": "code",
      "source": [
        "this_data.shape #(226,11)"
      ],
      "metadata": {
        "colab": {
          "base_uri": "https://localhost:8080/"
        },
        "id": "xMmaflLqj7AW",
        "outputId": "116e00b4-312e-494b-fa47-4af5e13a4797"
      },
      "execution_count": null,
      "outputs": [
        {
          "output_type": "execute_result",
          "data": {
            "text/plain": [
              "(226, 11)"
            ]
          },
          "metadata": {},
          "execution_count": 30
        }
      ]
    },
    {
      "cell_type": "code",
      "metadata": {
        "id": "XHrGf2AUfSko",
        "colab": {
          "base_uri": "https://localhost:8080/"
        },
        "outputId": "296d8374-8ff9-4f1c-ae12-fa099fe63739"
      },
      "source": [
        "print(this_data.shape)\n",
        "print(this_data.dropna().shape) #ข้อเสีย dropna คือถ้าไม่เลือกว่าจะดรอปที่ตัวไหนมันจะหายไปเลยประมาณนึงเลย\n",
        "#ส่วนใหญ่จะเริ่มดรอปก่อนเพื่อดูว่าข้อมูลที่เสียไปเรารับได้มั้ย จะได้ทำต่อไป"
      ],
      "execution_count": null,
      "outputs": [
        {
          "output_type": "stream",
          "name": "stdout",
          "text": [
            "(226, 11)\n",
            "(0, 11)\n"
          ]
        }
      ]
    },
    {
      "cell_type": "code",
      "metadata": {
        "id": "NIzVyhMvg7qc",
        "colab": {
          "base_uri": "https://localhost:8080/"
        },
        "outputId": "219566a8-1fb7-4669-f045-f6646e0d8efb"
      },
      "source": [
        "this_data.dropna(inplace=True)\n",
        "print(this_data.shape)"
      ],
      "execution_count": null,
      "outputs": [
        {
          "output_type": "stream",
          "name": "stdout",
          "text": [
            "(0, 11)\n"
          ]
        }
      ]
    },
    {
      "cell_type": "code",
      "source": [
        "this_data = folk_df.copy()\n",
        "this_data.dropna(inplace=True)\n",
        "this_data"
      ],
      "metadata": {
        "colab": {
          "base_uri": "https://localhost:8080/",
          "height": 89
        },
        "id": "vaVlxqjPlSxP",
        "outputId": "1fd1340e-a490-413d-8430-769f8a05f4d3"
      },
      "execution_count": null,
      "outputs": [
        {
          "output_type": "execute_result",
          "data": {
            "text/plain": [
              "Empty DataFrame\n",
              "Columns: [title, type, creator, description, subject, spatial, temporal, language, rights, license, source.uri]\n",
              "Index: []"
            ],
            "text/html": [
              "\n",
              "  <div id=\"df-748c3148-d933-4aba-a37f-7a5fde4814b6\" class=\"colab-df-container\">\n",
              "    <div>\n",
              "<style scoped>\n",
              "    .dataframe tbody tr th:only-of-type {\n",
              "        vertical-align: middle;\n",
              "    }\n",
              "\n",
              "    .dataframe tbody tr th {\n",
              "        vertical-align: top;\n",
              "    }\n",
              "\n",
              "    .dataframe thead th {\n",
              "        text-align: right;\n",
              "    }\n",
              "</style>\n",
              "<table border=\"1\" class=\"dataframe\">\n",
              "  <thead>\n",
              "    <tr style=\"text-align: right;\">\n",
              "      <th></th>\n",
              "      <th>title</th>\n",
              "      <th>type</th>\n",
              "      <th>creator</th>\n",
              "      <th>description</th>\n",
              "      <th>subject</th>\n",
              "      <th>spatial</th>\n",
              "      <th>temporal</th>\n",
              "      <th>language</th>\n",
              "      <th>rights</th>\n",
              "      <th>license</th>\n",
              "      <th>source.uri</th>\n",
              "    </tr>\n",
              "  </thead>\n",
              "  <tbody>\n",
              "  </tbody>\n",
              "</table>\n",
              "</div>\n",
              "    <div class=\"colab-df-buttons\">\n",
              "\n",
              "  <div class=\"colab-df-container\">\n",
              "    <button class=\"colab-df-convert\" onclick=\"convertToInteractive('df-748c3148-d933-4aba-a37f-7a5fde4814b6')\"\n",
              "            title=\"Convert this dataframe to an interactive table.\"\n",
              "            style=\"display:none;\">\n",
              "\n",
              "  <svg xmlns=\"http://www.w3.org/2000/svg\" height=\"24px\" viewBox=\"0 -960 960 960\">\n",
              "    <path d=\"M120-120v-720h720v720H120Zm60-500h600v-160H180v160Zm220 220h160v-160H400v160Zm0 220h160v-160H400v160ZM180-400h160v-160H180v160Zm440 0h160v-160H620v160ZM180-180h160v-160H180v160Zm440 0h160v-160H620v160Z\"/>\n",
              "  </svg>\n",
              "    </button>\n",
              "\n",
              "  <style>\n",
              "    .colab-df-container {\n",
              "      display:flex;\n",
              "      gap: 12px;\n",
              "    }\n",
              "\n",
              "    .colab-df-convert {\n",
              "      background-color: #E8F0FE;\n",
              "      border: none;\n",
              "      border-radius: 50%;\n",
              "      cursor: pointer;\n",
              "      display: none;\n",
              "      fill: #1967D2;\n",
              "      height: 32px;\n",
              "      padding: 0 0 0 0;\n",
              "      width: 32px;\n",
              "    }\n",
              "\n",
              "    .colab-df-convert:hover {\n",
              "      background-color: #E2EBFA;\n",
              "      box-shadow: 0px 1px 2px rgba(60, 64, 67, 0.3), 0px 1px 3px 1px rgba(60, 64, 67, 0.15);\n",
              "      fill: #174EA6;\n",
              "    }\n",
              "\n",
              "    .colab-df-buttons div {\n",
              "      margin-bottom: 4px;\n",
              "    }\n",
              "\n",
              "    [theme=dark] .colab-df-convert {\n",
              "      background-color: #3B4455;\n",
              "      fill: #D2E3FC;\n",
              "    }\n",
              "\n",
              "    [theme=dark] .colab-df-convert:hover {\n",
              "      background-color: #434B5C;\n",
              "      box-shadow: 0px 1px 3px 1px rgba(0, 0, 0, 0.15);\n",
              "      filter: drop-shadow(0px 1px 2px rgba(0, 0, 0, 0.3));\n",
              "      fill: #FFFFFF;\n",
              "    }\n",
              "  </style>\n",
              "\n",
              "    <script>\n",
              "      const buttonEl =\n",
              "        document.querySelector('#df-748c3148-d933-4aba-a37f-7a5fde4814b6 button.colab-df-convert');\n",
              "      buttonEl.style.display =\n",
              "        google.colab.kernel.accessAllowed ? 'block' : 'none';\n",
              "\n",
              "      async function convertToInteractive(key) {\n",
              "        const element = document.querySelector('#df-748c3148-d933-4aba-a37f-7a5fde4814b6');\n",
              "        const dataTable =\n",
              "          await google.colab.kernel.invokeFunction('convertToInteractive',\n",
              "                                                    [key], {});\n",
              "        if (!dataTable) return;\n",
              "\n",
              "        const docLinkHtml = 'Like what you see? Visit the ' +\n",
              "          '<a target=\"_blank\" href=https://colab.research.google.com/notebooks/data_table.ipynb>data table notebook</a>'\n",
              "          + ' to learn more about interactive tables.';\n",
              "        element.innerHTML = '';\n",
              "        dataTable['output_type'] = 'display_data';\n",
              "        await google.colab.output.renderOutput(dataTable, element);\n",
              "        const docLink = document.createElement('div');\n",
              "        docLink.innerHTML = docLinkHtml;\n",
              "        element.appendChild(docLink);\n",
              "      }\n",
              "    </script>\n",
              "  </div>\n",
              "\n",
              "\n",
              "  <div id=\"id_f89d4548-8857-4b3f-bcf0-19bc4da334a6\">\n",
              "    <style>\n",
              "      .colab-df-generate {\n",
              "        background-color: #E8F0FE;\n",
              "        border: none;\n",
              "        border-radius: 50%;\n",
              "        cursor: pointer;\n",
              "        display: none;\n",
              "        fill: #1967D2;\n",
              "        height: 32px;\n",
              "        padding: 0 0 0 0;\n",
              "        width: 32px;\n",
              "      }\n",
              "\n",
              "      .colab-df-generate:hover {\n",
              "        background-color: #E2EBFA;\n",
              "        box-shadow: 0px 1px 2px rgba(60, 64, 67, 0.3), 0px 1px 3px 1px rgba(60, 64, 67, 0.15);\n",
              "        fill: #174EA6;\n",
              "      }\n",
              "\n",
              "      [theme=dark] .colab-df-generate {\n",
              "        background-color: #3B4455;\n",
              "        fill: #D2E3FC;\n",
              "      }\n",
              "\n",
              "      [theme=dark] .colab-df-generate:hover {\n",
              "        background-color: #434B5C;\n",
              "        box-shadow: 0px 1px 3px 1px rgba(0, 0, 0, 0.15);\n",
              "        filter: drop-shadow(0px 1px 2px rgba(0, 0, 0, 0.3));\n",
              "        fill: #FFFFFF;\n",
              "      }\n",
              "    </style>\n",
              "    <button class=\"colab-df-generate\" onclick=\"generateWithVariable('this_data')\"\n",
              "            title=\"Generate code using this dataframe.\"\n",
              "            style=\"display:none;\">\n",
              "\n",
              "  <svg xmlns=\"http://www.w3.org/2000/svg\" height=\"24px\"viewBox=\"0 0 24 24\"\n",
              "       width=\"24px\">\n",
              "    <path d=\"M7,19H8.4L18.45,9,17,7.55,7,17.6ZM5,21V16.75L18.45,3.32a2,2,0,0,1,2.83,0l1.4,1.43a1.91,1.91,0,0,1,.58,1.4,1.91,1.91,0,0,1-.58,1.4L9.25,21ZM18.45,9,17,7.55Zm-12,3A5.31,5.31,0,0,0,4.9,8.1,5.31,5.31,0,0,0,1,6.5,5.31,5.31,0,0,0,4.9,4.9,5.31,5.31,0,0,0,6.5,1,5.31,5.31,0,0,0,8.1,4.9,5.31,5.31,0,0,0,12,6.5,5.46,5.46,0,0,0,6.5,12Z\"/>\n",
              "  </svg>\n",
              "    </button>\n",
              "    <script>\n",
              "      (() => {\n",
              "      const buttonEl =\n",
              "        document.querySelector('#id_f89d4548-8857-4b3f-bcf0-19bc4da334a6 button.colab-df-generate');\n",
              "      buttonEl.style.display =\n",
              "        google.colab.kernel.accessAllowed ? 'block' : 'none';\n",
              "\n",
              "      buttonEl.onclick = () => {\n",
              "        google.colab.notebook.generateWithVariable('this_data');\n",
              "      }\n",
              "      })();\n",
              "    </script>\n",
              "  </div>\n",
              "\n",
              "    </div>\n",
              "  </div>\n"
            ],
            "application/vnd.google.colaboratory.intrinsic+json": {
              "type": "dataframe",
              "variable_name": "this_data",
              "repr_error": "Out of range float values are not JSON compliant: nan"
            }
          },
          "metadata": {},
          "execution_count": 44
        }
      ]
    },
    {
      "cell_type": "markdown",
      "source": [
        "##ลบเฉพาะค่าว่างใน col ที่เราต้องใช้"
      ],
      "metadata": {
        "id": "8_yer1UqmroI"
      }
    },
    {
      "cell_type": "code",
      "source": [
        "this_data = folk_df.copy()"
      ],
      "metadata": {
        "id": "Gq6FercknRWX"
      },
      "execution_count": null,
      "outputs": []
    },
    {
      "cell_type": "code",
      "source": [
        "this_data = folk_df.dropna(subset='title')\n",
        "this_data.shape"
      ],
      "metadata": {
        "colab": {
          "base_uri": "https://localhost:8080/"
        },
        "id": "q0CVaHpDnKgH",
        "outputId": "9bf64c5d-d06a-475f-c8c2-74105cabd14d"
      },
      "execution_count": null,
      "outputs": [
        {
          "output_type": "execute_result",
          "data": {
            "text/plain": [
              "(226, 11)"
            ]
          },
          "metadata": {},
          "execution_count": 55
        }
      ]
    },
    {
      "cell_type": "code",
      "source": [
        "this_data = folk_df.dropna(subset=['title','description','type']) #สมมติเราต้องใช้ค่าใน col 'title', 'description', 'type'\n",
        "this_data.shape"
      ],
      "metadata": {
        "colab": {
          "base_uri": "https://localhost:8080/"
        },
        "id": "PFXu0zkEmx9T",
        "outputId": "70ae655f-5003-4b0d-a765-012869d8b07e"
      },
      "execution_count": null,
      "outputs": [
        {
          "output_type": "execute_result",
          "data": {
            "text/plain": [
              "(218, 11)"
            ]
          },
          "metadata": {},
          "execution_count": 57
        }
      ]
    },
    {
      "cell_type": "markdown",
      "metadata": {
        "id": "m5hChDmpjkyN"
      },
      "source": [
        "## แทน missing ด้วยค่าที่เหมาะสม (```fillna```)"
      ]
    },
    {
      "cell_type": "code",
      "source": [
        "folk_df.head()"
      ],
      "metadata": {
        "id": "WfucM7men_yO"
      },
      "execution_count": null,
      "outputs": []
    },
    {
      "cell_type": "code",
      "source": [
        "folk_df['type'].mode()"
      ],
      "metadata": {
        "colab": {
          "base_uri": "https://localhost:8080/"
        },
        "id": "0q5sJkqOoPiP",
        "outputId": "8c9f0e62-beaa-4f96-bf07-66a6abb3e26a"
      },
      "execution_count": null,
      "outputs": [
        {
          "output_type": "execute_result",
          "data": {
            "text/plain": [
              "0    มุขตลก\n",
              "Name: type, dtype: object"
            ]
          },
          "metadata": {},
          "execution_count": 59
        }
      ]
    },
    {
      "cell_type": "markdown",
      "source": [
        "##ตรวจสอบค่าว่าง"
      ],
      "metadata": {
        "id": "JESVXHNhotkl"
      }
    },
    {
      "cell_type": "code",
      "source": [
        "folk_df['type'].isnull()"
      ],
      "metadata": {
        "colab": {
          "base_uri": "https://localhost:8080/"
        },
        "id": "dqCpR0Axoy2G",
        "outputId": "4cc935bd-72a1-4e86-9ac4-0a58dbff45aa"
      },
      "execution_count": null,
      "outputs": [
        {
          "output_type": "execute_result",
          "data": {
            "text/plain": [
              "0      False\n",
              "1      False\n",
              "2      False\n",
              "3      False\n",
              "4      False\n",
              "       ...  \n",
              "221    False\n",
              "222    False\n",
              "223    False\n",
              "224    False\n",
              "225    False\n",
              "Name: type, Length: 226, dtype: bool"
            ]
          },
          "metadata": {},
          "execution_count": 60
        }
      ]
    },
    {
      "cell_type": "code",
      "source": [
        "#หาว่ามี null จริงมั้ย\n",
        "folk_df['type'].isnull().any() # .any จะเอาค่าความจริงทั้งหมดใน .isnull มา ___or___\n",
        "#ถ้ามี true ในนั้น จะแสดงผลว่า True"
      ],
      "metadata": {
        "colab": {
          "base_uri": "https://localhost:8080/"
        },
        "id": "9TP4dNzLpRee",
        "outputId": "654322b6-e7ad-499d-b9e2-eb17d2ee1608"
      },
      "execution_count": null,
      "outputs": [
        {
          "output_type": "execute_result",
          "data": {
            "text/plain": [
              "False"
            ]
          },
          "metadata": {},
          "execution_count": 62
        }
      ]
    },
    {
      "cell_type": "code",
      "source": [
        "folk_df['type'].isnull().all() #เอาค่าทุกค่าใน list มา AND กัน"
      ],
      "metadata": {
        "colab": {
          "base_uri": "https://localhost:8080/"
        },
        "id": "5PUra-OIqGPO",
        "outputId": "f4f49def-f445-45d6-81a8-c5c5876a2094"
      },
      "execution_count": null,
      "outputs": [
        {
          "output_type": "execute_result",
          "data": {
            "text/plain": [
              "False"
            ]
          },
          "metadata": {},
          "execution_count": 63
        }
      ]
    },
    {
      "cell_type": "code",
      "source": [
        "folk_df['spatial'].isnull().any()\n",
        "#มีค่า null เพราะแสดงผล True"
      ],
      "metadata": {
        "colab": {
          "base_uri": "https://localhost:8080/"
        },
        "id": "VpuC4ekPqPPx",
        "outputId": "9a0e401f-8820-46b7-9273-57caad9e1edd"
      },
      "execution_count": null,
      "outputs": [
        {
          "output_type": "execute_result",
          "data": {
            "text/plain": [
              "True"
            ]
          },
          "metadata": {},
          "execution_count": 64
        }
      ]
    },
    {
      "cell_type": "markdown",
      "source": [
        "#quiz 7\n",
        "นิทานเรื่องไหนที่ค่า spatial เป็นค่าว่าง (ไม่ใช้ gemini)"
      ],
      "metadata": {
        "id": "nIVqhzqoqbUc"
      }
    },
    {
      "cell_type": "code",
      "source": [
        "folk_df[folk_df['spatial'].isnull()]['title']"
      ],
      "metadata": {
        "id": "6esXEpjTqqt0"
      },
      "execution_count": null,
      "outputs": []
    },
    {
      "cell_type": "markdown",
      "source": [
        "#ลบค่าซ้ำ (De-duplicate)\n",
        "ค่าซ้ำ(duplicate)"
      ],
      "metadata": {
        "id": "R9UiAbwisBwh"
      }
    },
    {
      "cell_type": "code",
      "source": [
        "folk_df['title'].duplicated()"
      ],
      "metadata": {
        "colab": {
          "base_uri": "https://localhost:8080/"
        },
        "id": "cWmyTC7PsUAd",
        "outputId": "89cfa966-d94f-43b6-e3c6-218660219ace"
      },
      "execution_count": null,
      "outputs": [
        {
          "output_type": "execute_result",
          "data": {
            "text/plain": [
              "0      False\n",
              "1      False\n",
              "2      False\n",
              "3      False\n",
              "4      False\n",
              "       ...  \n",
              "221    False\n",
              "222    False\n",
              "223    False\n",
              "224    False\n",
              "225    False\n",
              "Name: title, Length: 226, dtype: bool"
            ]
          },
          "metadata": {},
          "execution_count": 74
        }
      ]
    },
    {
      "cell_type": "code",
      "source": [
        "folk_df['title'].duplicated().any()"
      ],
      "metadata": {
        "colab": {
          "base_uri": "https://localhost:8080/"
        },
        "id": "tJUHkR9lsyzz",
        "outputId": "8a77d65a-04cf-4634-cdc8-ec792ec559bb"
      },
      "execution_count": null,
      "outputs": [
        {
          "output_type": "execute_result",
          "data": {
            "text/plain": [
              "True"
            ]
          },
          "metadata": {},
          "execution_count": 75
        }
      ]
    },
    {
      "cell_type": "code",
      "source": [
        "folk_df[folk_df['title'].duplicated()]"
      ],
      "metadata": {
        "id": "mOgbAkXZuZwe"
      },
      "execution_count": null,
      "outputs": []
    },
    {
      "cell_type": "code",
      "source": [
        "folk_df[folk_df['title'].duplicated(keep=False)]['title']"
      ],
      "metadata": {
        "id": "kZWlN5JWtCDk"
      },
      "execution_count": null,
      "outputs": []
    },
    {
      "cell_type": "markdown",
      "source": [
        "#fillna"
      ],
      "metadata": {
        "id": "yg0ML7FrwEFH"
      }
    },
    {
      "cell_type": "code",
      "source": [
        "folk_df.fillna({'type':folk_df['type'].mode()})"
      ],
      "metadata": {
        "colab": {
          "base_uri": "https://localhost:8080/",
          "height": 1000
        },
        "id": "T7sHBeDSu924",
        "outputId": "f8a85ef2-b16e-4da0-abc9-f8c05d0c5c07"
      },
      "execution_count": null,
      "outputs": [
        {
          "output_type": "execute_result",
          "data": {
            "text/plain": [
              "                   title             type                 creator  \\\n",
              "0           ตาบอดคลำช้าง   นิทานประจำถิ่น        อ่อนตา ประกาเวสา   \n",
              "1         ขอคำกระฮอกด่อน     ตำนานปรัมปรา               พ่อใหญ่นู   \n",
              "2     ก่องข้าวน้อยฆ่าแม่       นิทานชีวิต      หนูเวียง แก้วเวียง   \n",
              "3              บักหำน้อย           มุขตลก         สมหวัง ปานพายัพ   \n",
              "4             รื้อบ่อน้ำ           มุขตลก          บุญศรี เกสเสโร   \n",
              "..                   ...              ...                     ...   \n",
              "221          ตำนานมะโย่ง     ตำนานปรัมปรา  หร้อหวาน   วัชรจิรโสภณ   \n",
              "222            ตำราหมอดู           มุขตลก        มาลี   พันธ์วงศ์   \n",
              "223   เต่ากับพระพุทธเจ้า  นิทานอธิบายเหตุ                     NaN   \n",
              "224        ถ้ำคูหาสวรรค์   นิทานประจำถิ่น                     NaN   \n",
              "225  ถ้ำทองและถ้ำเปอร์งง   นิทานประจำถิ่น                     NaN   \n",
              "\n",
              "                                           description        subject spatial  \\\n",
              "0    <p>&nbsp; &nbsp; &nbsp; &nbsp; มีคนตาบอดหกคน ซ...  นิทานพื้นบ้าน     ไทย   \n",
              "1    <p>&nbsp; &nbsp; &nbsp; ในขณะนั้นมีพญาผู้หนึ่ง...  นิทานพื้นบ้าน     ไทย   \n",
              "2    <p>ครั้งหนึ่งนานมาแล้วในฤดูฝน มีการเตรียมปักดำ...  นิทานพื้นบ้าน     ไทย   \n",
              "3    <p>เรื่องมีอยู่ว่า ณ โรงเรียนแห่งหนึ่งของภาคอี...  นิทานพื้นบ้าน     ไทย   \n",
              "4    <p>วันหนึ่งพ่อตากับลูกเขยพากันไปรื้อบ่อน้ำใช้ ...  นิทานพื้นบ้าน     ไทย   \n",
              "..                                                 ...            ...     ...   \n",
              "221  <p>รายาบือราสะครองเมืองบรือดะ ทรงมีพระราชธิดาพ...  นิทานพื้นบ้าน     ไทย   \n",
              "222  <p>มีตำราหลวงพ่ออยู่เล่มหนึ่ง เป็นตำราที่ทายแม...  นิทานพื้นบ้าน     ไทย   \n",
              "223  <p>มีเต่าตัวหนึ่งเที่ยวหากินอยู่ตามชายป่าใกล้ท...  นิทานพื้นบ้าน     NaN   \n",
              "224  <p>นานมาแล้ว มีเทวดาอยู่องค์หนึ่งถูกพระอิศวรสา...  นิทานพื้นบ้าน    ไทย,   \n",
              "225  <p>ถ้ำเปอร์งง มีลำธารไหลลอดถ้ำออกไปสู่แม่น้ำปั...  นิทานพื้นบ้าน    ไทย,   \n",
              "\n",
              "     temporal language rights                         license  \\\n",
              "0         NaN      ไทย    NaN  สัญญาอนุญาตของครีเอทีฟคอมมอนส์   \n",
              "1         NaN      ไทย    NaN  สัญญาอนุญาตของครีเอทีฟคอมมอนส์   \n",
              "2         NaN      ไทย    NaN  สัญญาอนุญาตของครีเอทีฟคอมมอนส์   \n",
              "3         NaN      ไทย    NaN  สัญญาอนุญาตของครีเอทีฟคอมมอนส์   \n",
              "4         NaN      ไทย    NaN  สัญญาอนุญาตของครีเอทีฟคอมมอนส์   \n",
              "..        ...      ...    ...                             ...   \n",
              "221       NaN      ไทย    NaN  สัญญาอนุญาตของครีเอทีฟคอมมอนส์   \n",
              "222       NaN      ไทย    NaN  สัญญาอนุญาตของครีเอทีฟคอมมอนส์   \n",
              "223       NaN      ไทย    NaN  สัญญาอนุญาตของครีเอทีฟคอมมอนส์   \n",
              "224       NaN      ไทย    NaN  สัญญาอนุญาตของครีเอทีฟคอมมอนส์   \n",
              "225       NaN      ไทย    NaN  สัญญาอนุญาตของครีเอทีฟคอมมอนส์   \n",
              "\n",
              "                                            source.uri  \n",
              "0    https://www.sac.or.th/databases/folktales/folk...  \n",
              "1    https://www.sac.or.th/databases/folktales/folk...  \n",
              "2    https://www.sac.or.th/databases/folktales/folk...  \n",
              "3    https://www.sac.or.th/databases/folktales/folk...  \n",
              "4    https://www.sac.or.th/databases/folktales/folk...  \n",
              "..                                                 ...  \n",
              "221  https://www.sac.or.th/databases/folktales/folk...  \n",
              "222  https://www.sac.or.th/databases/folktales/folk...  \n",
              "223  https://www.sac.or.th/databases/folktales/folk...  \n",
              "224  https://www.sac.or.th/databases/folktales/folk...  \n",
              "225  https://www.sac.or.th/databases/folktales/folk...  \n",
              "\n",
              "[226 rows x 11 columns]"
            ],
            "text/html": [
              "\n",
              "  <div id=\"df-5ac42499-0529-4cca-a2e0-0e4972ec1f56\" class=\"colab-df-container\">\n",
              "    <div>\n",
              "<style scoped>\n",
              "    .dataframe tbody tr th:only-of-type {\n",
              "        vertical-align: middle;\n",
              "    }\n",
              "\n",
              "    .dataframe tbody tr th {\n",
              "        vertical-align: top;\n",
              "    }\n",
              "\n",
              "    .dataframe thead th {\n",
              "        text-align: right;\n",
              "    }\n",
              "</style>\n",
              "<table border=\"1\" class=\"dataframe\">\n",
              "  <thead>\n",
              "    <tr style=\"text-align: right;\">\n",
              "      <th></th>\n",
              "      <th>title</th>\n",
              "      <th>type</th>\n",
              "      <th>creator</th>\n",
              "      <th>description</th>\n",
              "      <th>subject</th>\n",
              "      <th>spatial</th>\n",
              "      <th>temporal</th>\n",
              "      <th>language</th>\n",
              "      <th>rights</th>\n",
              "      <th>license</th>\n",
              "      <th>source.uri</th>\n",
              "    </tr>\n",
              "  </thead>\n",
              "  <tbody>\n",
              "    <tr>\n",
              "      <th>0</th>\n",
              "      <td>ตาบอดคลำช้าง</td>\n",
              "      <td>นิทานประจำถิ่น</td>\n",
              "      <td>อ่อนตา ประกาเวสา</td>\n",
              "      <td>&lt;p&gt;&amp;nbsp; &amp;nbsp; &amp;nbsp; &amp;nbsp; มีคนตาบอดหกคน ซ...</td>\n",
              "      <td>นิทานพื้นบ้าน</td>\n",
              "      <td>ไทย</td>\n",
              "      <td>NaN</td>\n",
              "      <td>ไทย</td>\n",
              "      <td>NaN</td>\n",
              "      <td>สัญญาอนุญาตของครีเอทีฟคอมมอนส์</td>\n",
              "      <td>https://www.sac.or.th/databases/folktales/folk...</td>\n",
              "    </tr>\n",
              "    <tr>\n",
              "      <th>1</th>\n",
              "      <td>ขอคำกระฮอกด่อน</td>\n",
              "      <td>ตำนานปรัมปรา</td>\n",
              "      <td>พ่อใหญ่นู</td>\n",
              "      <td>&lt;p&gt;&amp;nbsp; &amp;nbsp; &amp;nbsp; ในขณะนั้นมีพญาผู้หนึ่ง...</td>\n",
              "      <td>นิทานพื้นบ้าน</td>\n",
              "      <td>ไทย</td>\n",
              "      <td>NaN</td>\n",
              "      <td>ไทย</td>\n",
              "      <td>NaN</td>\n",
              "      <td>สัญญาอนุญาตของครีเอทีฟคอมมอนส์</td>\n",
              "      <td>https://www.sac.or.th/databases/folktales/folk...</td>\n",
              "    </tr>\n",
              "    <tr>\n",
              "      <th>2</th>\n",
              "      <td>ก่องข้าวน้อยฆ่าแม่</td>\n",
              "      <td>นิทานชีวิต</td>\n",
              "      <td>หนูเวียง แก้วเวียง</td>\n",
              "      <td>&lt;p&gt;ครั้งหนึ่งนานมาแล้วในฤดูฝน มีการเตรียมปักดำ...</td>\n",
              "      <td>นิทานพื้นบ้าน</td>\n",
              "      <td>ไทย</td>\n",
              "      <td>NaN</td>\n",
              "      <td>ไทย</td>\n",
              "      <td>NaN</td>\n",
              "      <td>สัญญาอนุญาตของครีเอทีฟคอมมอนส์</td>\n",
              "      <td>https://www.sac.or.th/databases/folktales/folk...</td>\n",
              "    </tr>\n",
              "    <tr>\n",
              "      <th>3</th>\n",
              "      <td>บักหำน้อย</td>\n",
              "      <td>มุขตลก</td>\n",
              "      <td>สมหวัง ปานพายัพ</td>\n",
              "      <td>&lt;p&gt;เรื่องมีอยู่ว่า ณ โรงเรียนแห่งหนึ่งของภาคอี...</td>\n",
              "      <td>นิทานพื้นบ้าน</td>\n",
              "      <td>ไทย</td>\n",
              "      <td>NaN</td>\n",
              "      <td>ไทย</td>\n",
              "      <td>NaN</td>\n",
              "      <td>สัญญาอนุญาตของครีเอทีฟคอมมอนส์</td>\n",
              "      <td>https://www.sac.or.th/databases/folktales/folk...</td>\n",
              "    </tr>\n",
              "    <tr>\n",
              "      <th>4</th>\n",
              "      <td>รื้อบ่อน้ำ</td>\n",
              "      <td>มุขตลก</td>\n",
              "      <td>บุญศรี เกสเสโร</td>\n",
              "      <td>&lt;p&gt;วันหนึ่งพ่อตากับลูกเขยพากันไปรื้อบ่อน้ำใช้ ...</td>\n",
              "      <td>นิทานพื้นบ้าน</td>\n",
              "      <td>ไทย</td>\n",
              "      <td>NaN</td>\n",
              "      <td>ไทย</td>\n",
              "      <td>NaN</td>\n",
              "      <td>สัญญาอนุญาตของครีเอทีฟคอมมอนส์</td>\n",
              "      <td>https://www.sac.or.th/databases/folktales/folk...</td>\n",
              "    </tr>\n",
              "    <tr>\n",
              "      <th>...</th>\n",
              "      <td>...</td>\n",
              "      <td>...</td>\n",
              "      <td>...</td>\n",
              "      <td>...</td>\n",
              "      <td>...</td>\n",
              "      <td>...</td>\n",
              "      <td>...</td>\n",
              "      <td>...</td>\n",
              "      <td>...</td>\n",
              "      <td>...</td>\n",
              "      <td>...</td>\n",
              "    </tr>\n",
              "    <tr>\n",
              "      <th>221</th>\n",
              "      <td>ตำนานมะโย่ง</td>\n",
              "      <td>ตำนานปรัมปรา</td>\n",
              "      <td>หร้อหวาน   วัชรจิรโสภณ</td>\n",
              "      <td>&lt;p&gt;รายาบือราสะครองเมืองบรือดะ ทรงมีพระราชธิดาพ...</td>\n",
              "      <td>นิทานพื้นบ้าน</td>\n",
              "      <td>ไทย</td>\n",
              "      <td>NaN</td>\n",
              "      <td>ไทย</td>\n",
              "      <td>NaN</td>\n",
              "      <td>สัญญาอนุญาตของครีเอทีฟคอมมอนส์</td>\n",
              "      <td>https://www.sac.or.th/databases/folktales/folk...</td>\n",
              "    </tr>\n",
              "    <tr>\n",
              "      <th>222</th>\n",
              "      <td>ตำราหมอดู</td>\n",
              "      <td>มุขตลก</td>\n",
              "      <td>มาลี   พันธ์วงศ์</td>\n",
              "      <td>&lt;p&gt;มีตำราหลวงพ่ออยู่เล่มหนึ่ง เป็นตำราที่ทายแม...</td>\n",
              "      <td>นิทานพื้นบ้าน</td>\n",
              "      <td>ไทย</td>\n",
              "      <td>NaN</td>\n",
              "      <td>ไทย</td>\n",
              "      <td>NaN</td>\n",
              "      <td>สัญญาอนุญาตของครีเอทีฟคอมมอนส์</td>\n",
              "      <td>https://www.sac.or.th/databases/folktales/folk...</td>\n",
              "    </tr>\n",
              "    <tr>\n",
              "      <th>223</th>\n",
              "      <td>เต่ากับพระพุทธเจ้า</td>\n",
              "      <td>นิทานอธิบายเหตุ</td>\n",
              "      <td>NaN</td>\n",
              "      <td>&lt;p&gt;มีเต่าตัวหนึ่งเที่ยวหากินอยู่ตามชายป่าใกล้ท...</td>\n",
              "      <td>นิทานพื้นบ้าน</td>\n",
              "      <td>NaN</td>\n",
              "      <td>NaN</td>\n",
              "      <td>ไทย</td>\n",
              "      <td>NaN</td>\n",
              "      <td>สัญญาอนุญาตของครีเอทีฟคอมมอนส์</td>\n",
              "      <td>https://www.sac.or.th/databases/folktales/folk...</td>\n",
              "    </tr>\n",
              "    <tr>\n",
              "      <th>224</th>\n",
              "      <td>ถ้ำคูหาสวรรค์</td>\n",
              "      <td>นิทานประจำถิ่น</td>\n",
              "      <td>NaN</td>\n",
              "      <td>&lt;p&gt;นานมาแล้ว มีเทวดาอยู่องค์หนึ่งถูกพระอิศวรสา...</td>\n",
              "      <td>นิทานพื้นบ้าน</td>\n",
              "      <td>ไทย,</td>\n",
              "      <td>NaN</td>\n",
              "      <td>ไทย</td>\n",
              "      <td>NaN</td>\n",
              "      <td>สัญญาอนุญาตของครีเอทีฟคอมมอนส์</td>\n",
              "      <td>https://www.sac.or.th/databases/folktales/folk...</td>\n",
              "    </tr>\n",
              "    <tr>\n",
              "      <th>225</th>\n",
              "      <td>ถ้ำทองและถ้ำเปอร์งง</td>\n",
              "      <td>นิทานประจำถิ่น</td>\n",
              "      <td>NaN</td>\n",
              "      <td>&lt;p&gt;ถ้ำเปอร์งง มีลำธารไหลลอดถ้ำออกไปสู่แม่น้ำปั...</td>\n",
              "      <td>นิทานพื้นบ้าน</td>\n",
              "      <td>ไทย,</td>\n",
              "      <td>NaN</td>\n",
              "      <td>ไทย</td>\n",
              "      <td>NaN</td>\n",
              "      <td>สัญญาอนุญาตของครีเอทีฟคอมมอนส์</td>\n",
              "      <td>https://www.sac.or.th/databases/folktales/folk...</td>\n",
              "    </tr>\n",
              "  </tbody>\n",
              "</table>\n",
              "<p>226 rows × 11 columns</p>\n",
              "</div>\n",
              "    <div class=\"colab-df-buttons\">\n",
              "\n",
              "  <div class=\"colab-df-container\">\n",
              "    <button class=\"colab-df-convert\" onclick=\"convertToInteractive('df-5ac42499-0529-4cca-a2e0-0e4972ec1f56')\"\n",
              "            title=\"Convert this dataframe to an interactive table.\"\n",
              "            style=\"display:none;\">\n",
              "\n",
              "  <svg xmlns=\"http://www.w3.org/2000/svg\" height=\"24px\" viewBox=\"0 -960 960 960\">\n",
              "    <path d=\"M120-120v-720h720v720H120Zm60-500h600v-160H180v160Zm220 220h160v-160H400v160Zm0 220h160v-160H400v160ZM180-400h160v-160H180v160Zm440 0h160v-160H620v160ZM180-180h160v-160H180v160Zm440 0h160v-160H620v160Z\"/>\n",
              "  </svg>\n",
              "    </button>\n",
              "\n",
              "  <style>\n",
              "    .colab-df-container {\n",
              "      display:flex;\n",
              "      gap: 12px;\n",
              "    }\n",
              "\n",
              "    .colab-df-convert {\n",
              "      background-color: #E8F0FE;\n",
              "      border: none;\n",
              "      border-radius: 50%;\n",
              "      cursor: pointer;\n",
              "      display: none;\n",
              "      fill: #1967D2;\n",
              "      height: 32px;\n",
              "      padding: 0 0 0 0;\n",
              "      width: 32px;\n",
              "    }\n",
              "\n",
              "    .colab-df-convert:hover {\n",
              "      background-color: #E2EBFA;\n",
              "      box-shadow: 0px 1px 2px rgba(60, 64, 67, 0.3), 0px 1px 3px 1px rgba(60, 64, 67, 0.15);\n",
              "      fill: #174EA6;\n",
              "    }\n",
              "\n",
              "    .colab-df-buttons div {\n",
              "      margin-bottom: 4px;\n",
              "    }\n",
              "\n",
              "    [theme=dark] .colab-df-convert {\n",
              "      background-color: #3B4455;\n",
              "      fill: #D2E3FC;\n",
              "    }\n",
              "\n",
              "    [theme=dark] .colab-df-convert:hover {\n",
              "      background-color: #434B5C;\n",
              "      box-shadow: 0px 1px 3px 1px rgba(0, 0, 0, 0.15);\n",
              "      filter: drop-shadow(0px 1px 2px rgba(0, 0, 0, 0.3));\n",
              "      fill: #FFFFFF;\n",
              "    }\n",
              "  </style>\n",
              "\n",
              "    <script>\n",
              "      const buttonEl =\n",
              "        document.querySelector('#df-5ac42499-0529-4cca-a2e0-0e4972ec1f56 button.colab-df-convert');\n",
              "      buttonEl.style.display =\n",
              "        google.colab.kernel.accessAllowed ? 'block' : 'none';\n",
              "\n",
              "      async function convertToInteractive(key) {\n",
              "        const element = document.querySelector('#df-5ac42499-0529-4cca-a2e0-0e4972ec1f56');\n",
              "        const dataTable =\n",
              "          await google.colab.kernel.invokeFunction('convertToInteractive',\n",
              "                                                    [key], {});\n",
              "        if (!dataTable) return;\n",
              "\n",
              "        const docLinkHtml = 'Like what you see? Visit the ' +\n",
              "          '<a target=\"_blank\" href=https://colab.research.google.com/notebooks/data_table.ipynb>data table notebook</a>'\n",
              "          + ' to learn more about interactive tables.';\n",
              "        element.innerHTML = '';\n",
              "        dataTable['output_type'] = 'display_data';\n",
              "        await google.colab.output.renderOutput(dataTable, element);\n",
              "        const docLink = document.createElement('div');\n",
              "        docLink.innerHTML = docLinkHtml;\n",
              "        element.appendChild(docLink);\n",
              "      }\n",
              "    </script>\n",
              "  </div>\n",
              "\n",
              "\n",
              "<div id=\"df-615275f4-680b-46be-ad57-5109db52fb17\">\n",
              "  <button class=\"colab-df-quickchart\" onclick=\"quickchart('df-615275f4-680b-46be-ad57-5109db52fb17')\"\n",
              "            title=\"Suggest charts\"\n",
              "            style=\"display:none;\">\n",
              "\n",
              "<svg xmlns=\"http://www.w3.org/2000/svg\" height=\"24px\"viewBox=\"0 0 24 24\"\n",
              "     width=\"24px\">\n",
              "    <g>\n",
              "        <path d=\"M19 3H5c-1.1 0-2 .9-2 2v14c0 1.1.9 2 2 2h14c1.1 0 2-.9 2-2V5c0-1.1-.9-2-2-2zM9 17H7v-7h2v7zm4 0h-2V7h2v10zm4 0h-2v-4h2v4z\"/>\n",
              "    </g>\n",
              "</svg>\n",
              "  </button>\n",
              "\n",
              "<style>\n",
              "  .colab-df-quickchart {\n",
              "      --bg-color: #E8F0FE;\n",
              "      --fill-color: #1967D2;\n",
              "      --hover-bg-color: #E2EBFA;\n",
              "      --hover-fill-color: #174EA6;\n",
              "      --disabled-fill-color: #AAA;\n",
              "      --disabled-bg-color: #DDD;\n",
              "  }\n",
              "\n",
              "  [theme=dark] .colab-df-quickchart {\n",
              "      --bg-color: #3B4455;\n",
              "      --fill-color: #D2E3FC;\n",
              "      --hover-bg-color: #434B5C;\n",
              "      --hover-fill-color: #FFFFFF;\n",
              "      --disabled-bg-color: #3B4455;\n",
              "      --disabled-fill-color: #666;\n",
              "  }\n",
              "\n",
              "  .colab-df-quickchart {\n",
              "    background-color: var(--bg-color);\n",
              "    border: none;\n",
              "    border-radius: 50%;\n",
              "    cursor: pointer;\n",
              "    display: none;\n",
              "    fill: var(--fill-color);\n",
              "    height: 32px;\n",
              "    padding: 0;\n",
              "    width: 32px;\n",
              "  }\n",
              "\n",
              "  .colab-df-quickchart:hover {\n",
              "    background-color: var(--hover-bg-color);\n",
              "    box-shadow: 0 1px 2px rgba(60, 64, 67, 0.3), 0 1px 3px 1px rgba(60, 64, 67, 0.15);\n",
              "    fill: var(--button-hover-fill-color);\n",
              "  }\n",
              "\n",
              "  .colab-df-quickchart-complete:disabled,\n",
              "  .colab-df-quickchart-complete:disabled:hover {\n",
              "    background-color: var(--disabled-bg-color);\n",
              "    fill: var(--disabled-fill-color);\n",
              "    box-shadow: none;\n",
              "  }\n",
              "\n",
              "  .colab-df-spinner {\n",
              "    border: 2px solid var(--fill-color);\n",
              "    border-color: transparent;\n",
              "    border-bottom-color: var(--fill-color);\n",
              "    animation:\n",
              "      spin 1s steps(1) infinite;\n",
              "  }\n",
              "\n",
              "  @keyframes spin {\n",
              "    0% {\n",
              "      border-color: transparent;\n",
              "      border-bottom-color: var(--fill-color);\n",
              "      border-left-color: var(--fill-color);\n",
              "    }\n",
              "    20% {\n",
              "      border-color: transparent;\n",
              "      border-left-color: var(--fill-color);\n",
              "      border-top-color: var(--fill-color);\n",
              "    }\n",
              "    30% {\n",
              "      border-color: transparent;\n",
              "      border-left-color: var(--fill-color);\n",
              "      border-top-color: var(--fill-color);\n",
              "      border-right-color: var(--fill-color);\n",
              "    }\n",
              "    40% {\n",
              "      border-color: transparent;\n",
              "      border-right-color: var(--fill-color);\n",
              "      border-top-color: var(--fill-color);\n",
              "    }\n",
              "    60% {\n",
              "      border-color: transparent;\n",
              "      border-right-color: var(--fill-color);\n",
              "    }\n",
              "    80% {\n",
              "      border-color: transparent;\n",
              "      border-right-color: var(--fill-color);\n",
              "      border-bottom-color: var(--fill-color);\n",
              "    }\n",
              "    90% {\n",
              "      border-color: transparent;\n",
              "      border-bottom-color: var(--fill-color);\n",
              "    }\n",
              "  }\n",
              "</style>\n",
              "\n",
              "  <script>\n",
              "    async function quickchart(key) {\n",
              "      const quickchartButtonEl =\n",
              "        document.querySelector('#' + key + ' button');\n",
              "      quickchartButtonEl.disabled = true;  // To prevent multiple clicks.\n",
              "      quickchartButtonEl.classList.add('colab-df-spinner');\n",
              "      try {\n",
              "        const charts = await google.colab.kernel.invokeFunction(\n",
              "            'suggestCharts', [key], {});\n",
              "      } catch (error) {\n",
              "        console.error('Error during call to suggestCharts:', error);\n",
              "      }\n",
              "      quickchartButtonEl.classList.remove('colab-df-spinner');\n",
              "      quickchartButtonEl.classList.add('colab-df-quickchart-complete');\n",
              "    }\n",
              "    (() => {\n",
              "      let quickchartButtonEl =\n",
              "        document.querySelector('#df-615275f4-680b-46be-ad57-5109db52fb17 button');\n",
              "      quickchartButtonEl.style.display =\n",
              "        google.colab.kernel.accessAllowed ? 'block' : 'none';\n",
              "    })();\n",
              "  </script>\n",
              "</div>\n",
              "\n",
              "    </div>\n",
              "  </div>\n"
            ],
            "application/vnd.google.colaboratory.intrinsic+json": {
              "type": "dataframe",
              "summary": "{\n  \"name\": \"folk_df\",\n  \"rows\": 226,\n  \"fields\": [\n    {\n      \"column\": \"title\",\n      \"properties\": {\n        \"dtype\": \"string\",\n        \"num_unique_values\": 220,\n        \"samples\": [\n          \"\\u0e08\\u0e31\\u0e01\\u0e08\\u0e31\\u0e48\\u0e19\\u0e44\\u0e21\\u0e48\\u0e21\\u0e35\\u0e44\\u0e2a\\u0e49\",\n          \"\\u0e25\\u0e34\\u0e49\\u0e19\\u0e17\\u0e2d\\u0e07\",\n          \"\\u0e1e\\u0e48\\u0e2d\\u0e43\\u0e2b\\u0e0d\\u0e48\\u0e2b\\u0e31\\u0e27\\u0e25\\u0e49\\u0e32\\u0e19\"\n        ],\n        \"semantic_type\": \"\",\n        \"description\": \"\"\n      }\n    },\n    {\n      \"column\": \"type\",\n      \"properties\": {\n        \"dtype\": \"category\",\n        \"num_unique_values\": 11,\n        \"samples\": [\n          \"\\u0e19\\u0e34\\u0e17\\u0e32\\u0e19\\u0e21\\u0e2b\\u0e31\\u0e28\\u0e08\\u0e23\\u0e23\\u0e22\\u0e4c\",\n          \"\\u0e19\\u0e34\\u0e17\\u0e32\\u0e19\\u0e1b\\u0e23\\u0e30\\u0e08\\u0e33\\u0e16\\u0e34\\u0e48\\u0e19\",\n          \"\\u0e19\\u0e34\\u0e17\\u0e32\\u0e19\\u0e27\\u0e35\\u0e23\\u0e1a\\u0e38\\u0e23\\u0e38\\u0e29\"\n        ],\n        \"semantic_type\": \"\",\n        \"description\": \"\"\n      }\n    },\n    {\n      \"column\": \"creator\",\n      \"properties\": {\n        \"dtype\": \"category\",\n        \"num_unique_values\": 83,\n        \"samples\": [\n          \"\\u0e2d\\u0e49\\u0e27\\u0e19 \\u0e18\\u0e35\\u0e08\\u0e31\\u0e19\\u0e17\\u0e23\\u0e4c\\u0e21\\u0e32\\u0e15\\u0e22\\u0e4c,\\u0e1a\\u0e38\\u0e0d\\u0e40\\u0e25\\u0e34\\u0e28 \\u0e44\\u0e0a\\u0e22\\u0e1e\\u0e07\\u0e29\\u0e4c\",\n          \"\\u0e2d\\u0e48\\u0e2d\\u0e19\\u0e15\\u0e32 \\u0e1b\\u0e23\\u0e30\\u0e01\\u0e32\\u0e40\\u0e27\\u0e2a\\u0e32\",\n          \"\\u0e1e\\u0e23\\u0e30\\u0e2d\\u0e34\\u0e19\\u0e14\\u0e32 \\u0e01\\u0e27\\u0e35\\u0e27\\u0e07\\u0e28\\u0e4c\"\n        ],\n        \"semantic_type\": \"\",\n        \"description\": \"\"\n      }\n    },\n    {\n      \"column\": \"description\",\n      \"properties\": {\n        \"dtype\": \"string\",\n        \"num_unique_values\": 218,\n        \"samples\": [\n          \"<p>\\u0e01\\u0e32\\u0e25\\u0e04\\u0e23\\u0e31\\u0e49\\u0e07\\u0e2b\\u0e19\\u0e36\\u0e48\\u0e07\\u0e19\\u0e32\\u0e19\\u0e21\\u0e32\\u0e41\\u0e25\\u0e49\\u0e27 \\u0e21\\u0e35\\u0e40\\u0e0b\\u0e35\\u0e22\\u0e07\\u0e40\\u0e21\\u0e35\\u0e48\\u0e22\\u0e07\\u0e40\\u0e1b\\u0e47\\u0e19\\u0e04\\u0e19\\u0e2d\\u0e27\\u0e14\\u0e14\\u0e35\\u0e21\\u0e32\\u0e01 \\u0e27\\u0e31\\u0e19\\u0e2b\\u0e19\\u0e36\\u0e48\\u0e07\\u0e40\\u0e0b\\u0e35\\u0e22\\u0e07\\u0e40\\u0e21\\u0e35\\u0e48\\u0e22\\u0e07\\u0e44\\u0e14\\u0e49\\u0e40\\u0e08\\u0e2d\\u0e2b\\u0e2d\\u0e22 \\u0e01\\u0e47\\u0e40\\u0e25\\u0e22\\u0e17\\u0e49\\u0e32\\u0e2b\\u0e2d\\u0e22\\u0e43\\u0e2b\\u0e49\\u0e27\\u0e34\\u0e48\\u0e07\\u0e41\\u0e02\\u0e48\\u0e07\\u0e01\\u0e31\\u0e19</p>\\n\\n<p>\\u0e40\\u0e0b\\u0e35\\u0e22\\u0e07\\u0e40\\u0e21\\u0e35\\u0e48\\u0e22\\u0e07\\u0e27\\u0e48\\u0e32 \\u0e40\\u0e23\\u0e32\\u0e21\\u0e32\\u0e41\\u0e02\\u0e48\\u0e07\\u0e27\\u0e34\\u0e48\\u0e07\\u0e01\\u0e31\\u0e19\\u0e14\\u0e35\\u0e44\\u0e2b\\u0e21</p>\\n\\n<p>\\u0e2b\\u0e2d\\u0e22\\u0e1a\\u0e2d\\u0e01\\u0e27\\u0e48\\u0e32 \\u0e40\\u0e23\\u0e32\\u0e44\\u0e1b\\u0e1b\\u0e23\\u0e36\\u0e01\\u0e29\\u0e32\\u0e40\\u0e1e\\u0e37\\u0e48\\u0e2d\\u0e19\\u0e01\\u0e48\\u0e2d\\u0e19\\u0e19\\u0e30</p>\\n\\n<p>\\u0e40\\u0e0b\\u0e35\\u0e22\\u0e07\\u0e40\\u0e21\\u0e35\\u0e48\\u0e22\\u0e07\\u0e15\\u0e2d\\u0e1a &nbsp;\\u0e08\\u0e30\\u0e44\\u0e1b\\u0e01\\u0e47\\u0e23\\u0e35\\u0e1a\\u0e44\\u0e1b\\u0e23\\u0e35\\u0e1a\\u0e21\\u0e32\\u0e1a\\u0e2d\\u0e01\\u0e19\\u0e30</p>\\n\\n<p>\\u0e1e\\u0e27\\u0e01\\u0e2b\\u0e2d\\u0e22\\u0e40\\u0e25\\u0e22\\u0e21\\u0e32\\u0e0a\\u0e38\\u0e21\\u0e19\\u0e38\\u0e21\\u0e01\\u0e31\\u0e19\\u0e40\\u0e1e\\u0e37\\u0e48\\u0e2d\\u0e1b\\u0e23\\u0e36\\u0e01\\u0e29\\u0e32\\u0e27\\u0e48\\u0e32\\u0e08\\u0e30\\u0e17\\u0e33\\u0e2d\\u0e22\\u0e48\\u0e32\\u0e07\\u0e44\\u0e23\\u0e14\\u0e35</p>\\n\\n<p>\\u0e43\\u0e19\\u0e17\\u0e35\\u0e48\\u0e2a\\u0e38\\u0e14\\u0e2b\\u0e2d\\u0e22\\u0e15\\u0e31\\u0e27\\u0e2b\\u0e19\\u0e36\\u0e48\\u0e07\\u0e01\\u0e47\\u0e1e\\u0e39\\u0e14\\u0e27\\u0e48\\u0e32 &nbsp;\\u0e40\\u0e23\\u0e32\\u0e01\\u0e47\\u0e21\\u0e32\\u0e15\\u0e48\\u0e2d\\u0e41\\u0e16\\u0e27\\u0e01\\u0e31\\u0e19\\u0e22\\u0e32\\u0e27\\u0e44\\u0e1b\\u0e16\\u0e36\\u0e07\\u0e40\\u0e2a\\u0e49\\u0e19\\u0e0a\\u0e31\\u0e22 \\u0e40\\u0e23\\u0e32\\u0e15\\u0e31\\u0e27\\u0e40\\u0e25\\u0e47\\u0e01\\u0e40\\u0e0b\\u0e35\\u0e22\\u0e07\\u0e40\\u0e21\\u0e35\\u0e48\\u0e22\\u0e07\\u0e21\\u0e2d\\u0e07\\u0e44\\u0e21\\u0e48\\u0e40\\u0e2b\\u0e47\\u0e19\\u0e40\\u0e23\\u0e32\\u0e2b\\u0e23\\u0e2d\\u0e01 &nbsp;\\u0e40\\u0e27\\u0e25\\u0e32\\u0e27\\u0e34\\u0e48\\u0e07\\u0e43\\u0e2b\\u0e49\\u0e40\\u0e0b\\u0e35\\u0e22\\u0e07\\u0e40\\u0e21\\u0e35\\u0e48\\u0e22\\u0e07\\u0e23\\u0e49\\u0e2d\\u0e07\\u0e40\\u0e23\\u0e35\\u0e22\\u0e01\\u0e40\\u0e23\\u0e32\\u0e27\\u0e48\\u0e32\\u0e2b\\u0e2d\\u0e22 \\u0e43\\u0e2b\\u0e49\\u0e2b\\u0e2d\\u0e22\\u0e15\\u0e31\\u0e27\\u0e43\\u0e2b\\u0e0d\\u0e48\\u0e17\\u0e35\\u0e48\\u0e2d\\u0e22\\u0e39\\u0e48\\u0e02\\u0e49\\u0e32\\u0e07\\u0e2b\\u0e19\\u0e49\\u0e32\\u0e23\\u0e49\\u0e2d\\u0e07\\u0e15\\u0e2d\\u0e1a\\u0e27\\u0e48\\u0e32 \\u0e01\\u0e39\\u0e4a\\u0e01 \\u0e40\\u0e17\\u0e48\\u0e32\\u0e19\\u0e31\\u0e49\\u0e19\\u0e40\\u0e23\\u0e32\\u0e01\\u0e47\\u0e0a\\u0e19\\u0e30\\u0e40\\u0e0b\\u0e35\\u0e22\\u0e07\\u0e40\\u0e21\\u0e35\\u0e48\\u0e22\\u0e07\\u0e41\\u0e25\\u0e49\\u0e27</p>\\n\\n<p>\\u0e41\\u0e25\\u0e49\\u0e27\\u0e01\\u0e32\\u0e23\\u0e41\\u0e02\\u0e48\\u0e07\\u0e02\\u0e31\\u0e19\\u0e01\\u0e47\\u0e40\\u0e23\\u0e34\\u0e48\\u0e21\\u0e02\\u0e36\\u0e49\\u0e19 \\u0e42\\u0e14\\u0e22\\u0e21\\u0e35\\u0e01\\u0e32\\u0e40\\u0e1b\\u0e47\\u0e19\\u0e1c\\u0e39\\u0e49\\u0e15\\u0e31\\u0e14\\u0e2a\\u0e34\\u0e19 \\u0e01\\u0e32\\u0e1b\\u0e25\\u0e48\\u0e2d\\u0e22\\u0e15\\u0e31\\u0e27\\u0e19\\u0e31\\u0e01\\u0e27\\u0e34\\u0e48\\u0e07 \\u0e40\\u0e0b\\u0e35\\u0e22\\u0e07\\u0e40\\u0e21\\u0e35\\u0e48\\u0e22\\u0e07\\u0e27\\u0e34\\u0e48\\u0e07\\u0e2a\\u0e38\\u0e14\\u0e41\\u0e23\\u0e07\\u0e41\\u0e25\\u0e49\\u0e27\\u0e40\\u0e0b\\u0e35\\u0e22\\u0e07\\u0e40\\u0e21\\u0e35\\u0e48\\u0e22\\u0e07\\u0e01\\u0e47\\u0e23\\u0e49\\u0e2d\\u0e07\\u0e27\\u0e48\\u0e32 \\u0e2b\\u0e2d\\u0e22</p>\\n\\n<p>\\u0e2b\\u0e2d\\u0e22\\u0e15\\u0e31\\u0e27\\u0e17\\u0e35\\u0e48\\u0e2d\\u0e22\\u0e39\\u0e48\\u0e02\\u0e49\\u0e32\\u0e07\\u0e2b\\u0e19\\u0e49\\u0e32\\u0e01\\u0e47\\u0e15\\u0e2d\\u0e1a\\u0e27\\u0e48\\u0e32 \\u0e01\\u0e39\\u0e4a\\u0e01...</p>\\n\\n<p>\\u0e40\\u0e0b\\u0e35\\u0e22\\u0e07\\u0e40\\u0e21\\u0e35\\u0e48\\u0e22\\u0e07\\u0e01\\u0e47\\u0e27\\u0e34\\u0e48\\u0e07\\u0e15\\u0e48\\u0e2d\\u0e44\\u0e1b\\u0e2d\\u0e35\\u0e01 \\u0e40\\u0e0b\\u0e35\\u0e22\\u0e07\\u0e40\\u0e21\\u0e35\\u0e48\\u0e22\\u0e07\\u0e01\\u0e47\\u0e23\\u0e49\\u0e2d\\u0e07\\u0e40\\u0e23\\u0e35\\u0e22\\u0e01\\u0e27\\u0e48\\u0e32 \\u0e2b\\u0e2d\\u0e22...\\u0e2b\\u0e2d\\u0e22\\u0e15\\u0e31\\u0e27\\u0e17\\u0e35\\u0e48\\u0e2d\\u0e22\\u0e39\\u0e48\\u0e02\\u0e49\\u0e32\\u0e07\\u0e2b\\u0e19\\u0e49\\u0e32\\u0e01\\u0e47\\u0e15\\u0e2d\\u0e1a\\u0e27\\u0e48\\u0e32\\u0e01\\u0e39\\u0e4a\\u0e01...\\u0e40\\u0e0b\\u0e35\\u0e22\\u0e07\\u0e40\\u0e21\\u0e35\\u0e48\\u0e22\\u0e07\\u0e01\\u0e47\\u0e27\\u0e34\\u0e48\\u0e07\\u0e15\\u0e48\\u0e2d\\u0e44\\u0e1b\\u0e2d\\u0e35\\u0e01 \\u0e40\\u0e0b\\u0e35\\u0e22\\u0e07\\u0e40\\u0e21\\u0e35\\u0e48\\u0e22\\u0e07\\u0e01\\u0e47\\u0e23\\u0e49\\u0e2d\\u0e07\\u0e40\\u0e23\\u0e35\\u0e22\\u0e19\\u0e27\\u0e48\\u0e32\\u0e2b\\u0e2d\\u0e22...\\u0e2b\\u0e2d\\u0e22\\u0e15\\u0e31\\u0e27\\u0e17\\u0e35\\u0e48\\u0e2d\\u0e22\\u0e39\\u0e48\\u0e02\\u0e49\\u0e32\\u0e07\\u0e2b\\u0e19\\u0e49\\u0e32\\u0e01\\u0e47\\u0e15\\u0e2d\\u0e1a\\u0e27\\u0e48\\u0e32 \\u0e01\\u0e39\\u0e4a\\u0e01...\\u0e40\\u0e0b\\u0e35\\u0e22\\u0e07\\u0e40\\u0e21\\u0e35\\u0e48\\u0e22\\u0e07\\u0e01\\u0e47\\u0e27\\u0e34\\u0e48\\u0e07\\u0e15\\u0e48\\u0e2d\\u0e44\\u0e1b\\u0e2d\\u0e35\\u0e01\\u0e2d\\u0e22\\u0e48\\u0e32\\u0e07\\u0e41\\u0e23\\u0e07 \\u0e08\\u0e19\\u0e01\\u0e23\\u0e30\\u0e17\\u0e31\\u0e48\\u0e07\\u0e2a\\u0e25\\u0e1a\\u0e2d\\u0e22\\u0e39\\u0e48\\u0e01\\u0e25\\u0e32\\u0e07\\u0e17\\u0e32\\u0e07 \\u0e2a\\u0e23\\u0e38\\u0e1b\\u0e27\\u0e48\\u0e32\\u0e2b\\u0e2d\\u0e22\\u0e40\\u0e1b\\u0e47\\u0e19\\u0e1c\\u0e39\\u0e49\\u0e0a\\u0e19\\u0e30<br />\\n&nbsp;</p>\\n\",\n          \"<p>\\u0e21\\u0e35\\u0e40\\u0e15\\u0e48\\u0e32\\u0e15\\u0e31\\u0e27\\u0e2b\\u0e19\\u0e36\\u0e48\\u0e07\\u0e40\\u0e17\\u0e35\\u0e48\\u0e22\\u0e27\\u0e2b\\u0e32\\u0e01\\u0e34\\u0e19\\u0e2d\\u0e22\\u0e39\\u0e48\\u0e15\\u0e32\\u0e21\\u0e0a\\u0e32\\u0e22\\u0e1b\\u0e48\\u0e32\\u0e43\\u0e01\\u0e25\\u0e49\\u0e17\\u0e38\\u0e48\\u0e07 \\u0e04\\u0e23\\u0e31\\u0e49\\u0e07\\u0e19\\u0e31\\u0e49\\u0e19\\u0e1e\\u0e23\\u0e30\\u0e1e\\u0e38\\u0e17\\u0e18\\u0e40\\u0e08\\u0e49\\u0e32\\u0e40\\u0e2a\\u0e14\\u0e47\\u0e08\\u0e2d\\u0e2d\\u0e01\\u0e42\\u0e1b\\u0e23\\u0e14\\u0e2a\\u0e31\\u0e15\\u0e27\\u0e4c\\u0e44\\u0e14\\u0e49\\u0e1e\\u0e1a\\u0e40\\u0e15\\u0e48\\u0e32\\u0e15\\u0e31\\u0e27\\u0e19\\u0e31\\u0e49\\u0e19\\u0e40\\u0e02\\u0e49\\u0e32\\u0e08\\u0e36\\u0e07\\u0e40\\u0e17\\u0e28\\u0e19\\u0e32\\u0e40\\u0e23\\u0e37\\u0e48\\u0e2d\\u0e07\\u0e1a\\u0e38\\u0e0d\\u0e1a\\u0e32\\u0e1b\\u0e43\\u0e2b\\u0e49\\u0e1f\\u0e31\\u0e07 \\u0e40\\u0e21\\u0e37\\u0e48\\u0e2d\\u0e1e\\u0e23\\u0e30\\u0e1e\\u0e38\\u0e17\\u0e18\\u0e40\\u0e08\\u0e49\\u0e32\\u0e40\\u0e17\\u0e28\\u0e19\\u0e32\\u0e40\\u0e2a\\u0e23\\u0e47\\u0e08\\u0e01\\u0e47\\u0e40\\u0e2a\\u0e14\\u0e47\\u0e08\\u0e44\\u0e1b\\u0e42\\u0e1b\\u0e23\\u0e14\\u0e1e\\u0e38\\u0e17\\u0e18\\u0e21\\u0e32\\u0e23\\u0e14\\u0e32\\u0e43\\u0e19\\u0e40\\u0e21\\u0e37\\u0e2d\\u0e07\\u0e2a\\u0e27\\u0e23\\u0e23\\u0e04\\u0e4c \\u0e40\\u0e15\\u0e48\\u0e32\\u0e02\\u0e2d\\u0e15\\u0e34\\u0e14\\u0e15\\u0e32\\u0e21\\u0e1e\\u0e23\\u0e30\\u0e1e\\u0e38\\u0e17\\u0e18\\u0e40\\u0e08\\u0e49\\u0e32\\u0e14\\u0e49\\u0e27\\u0e22\\u0e42\\u0e14\\u0e22\\u0e04\\u0e32\\u0e1a\\u0e0a\\u0e32\\u0e22\\u0e08\\u0e35\\u0e27\\u0e23\\u0e02\\u0e2d\\u0e07\\u0e1e\\u0e23\\u0e30\\u0e1e\\u0e38\\u0e17\\u0e18\\u0e40\\u0e08\\u0e49\\u0e32\\u0e02\\u0e36\\u0e49\\u0e19\\u0e44\\u0e1b \\u0e02\\u0e13\\u0e30\\u0e17\\u0e35\\u0e48\\u0e1e\\u0e23\\u0e30\\u0e1e\\u0e38\\u0e17\\u0e18\\u0e40\\u0e08\\u0e49\\u0e32\\u0e40\\u0e2b\\u0e32\\u0e30\\u0e44\\u0e1b\\u0e16\\u0e36\\u0e07\\u0e01\\u0e25\\u0e32\\u0e07\\u0e17\\u0e38\\u0e48\\u0e07\\u0e41\\u0e2b\\u0e48\\u0e07\\u0e2b\\u0e19\\u0e36\\u0e48\\u0e07 \\u0e27\\u0e31\\u0e27\\u0e15\\u0e31\\u0e27\\u0e2b\\u0e19\\u0e36\\u0e48\\u0e07\\u0e40\\u0e2b\\u0e47\\u0e19\\u0e40\\u0e15\\u0e48\\u0e32\\u0e04\\u0e32\\u0e1a\\u0e0a\\u0e32\\u0e22\\u0e08\\u0e35\\u0e27\\u0e23\\u0e1e\\u0e23\\u0e30\\u0e1e\\u0e38\\u0e17\\u0e18\\u0e40\\u0e08\\u0e49\\u0e32\\u0e40\\u0e0a\\u0e48\\u0e19\\u0e19\\u0e31\\u0e49\\u0e19\\u0e01\\u0e47\\u0e2b\\u0e31\\u0e27\\u0e40\\u0e23\\u0e32\\u0e30 \\u0e40\\u0e15\\u0e48\\u0e32\\u0e42\\u0e01\\u0e23\\u0e18\\u0e08\\u0e36\\u0e07\\u0e14\\u0e48\\u0e32\\u0e41\\u0e21\\u0e48\\u0e25\\u0e07\\u0e21\\u0e32\\u0e42\\u0e14\\u0e22\\u0e25\\u0e37\\u0e21\\u0e44\\u0e1b\\u0e27\\u0e48\\u0e32\\u0e15\\u0e19\\u0e01\\u0e33\\u0e25\\u0e31\\u0e07\\u0e04\\u0e32\\u0e1a\\u0e08\\u0e35\\u0e27\\u0e23\\u0e1e\\u0e23\\u0e30\\u0e1e\\u0e38\\u0e17\\u0e18\\u0e40\\u0e08\\u0e49\\u0e32\\u0e2d\\u0e22\\u0e39\\u0e48 \\u0e40\\u0e15\\u0e48\\u0e32\\u0e15\\u0e01\\u0e25\\u0e07\\u0e21\\u0e32\\u0e16\\u0e36\\u0e07\\u0e1b\\u0e32\\u0e01\\u0e27\\u0e31\\u0e27\\u0e1e\\u0e2d\\u0e14\\u0e35 \\u0e17\\u0e33\\u0e43\\u0e2b\\u0e49\\u0e27\\u0e31\\u0e27\\u0e1f\\u0e31\\u0e19\\u0e1a\\u0e19\\u0e2b\\u0e31\\u0e01\\u0e2b\\u0e21\\u0e14 \\u0e40\\u0e15\\u0e48\\u0e32\\u0e40\\u0e2d\\u0e07\\u0e01\\u0e47\\u0e01\\u0e23\\u0e30\\u0e14\\u0e2d\\u0e07\\u0e23\\u0e49\\u0e32\\u0e27\\u0e21\\u0e32\\u0e08\\u0e19\\u0e17\\u0e38\\u0e01\\u0e27\\u0e31\\u0e19\\u0e19\\u0e35\\u0e49</p>\\n\",\n          \"<p>\\u0e43\\u0e19\\u0e2a\\u0e21\\u0e31\\u0e22\\u0e01\\u0e48\\u0e2d\\u0e19 \\u0e07\\u0e39\\u0e40\\u0e2b\\u0e25\\u0e37\\u0e2d\\u0e21\\u0e21\\u0e35\\u0e23\\u0e48\\u0e32\\u0e07\\u0e01\\u0e32\\u0e22\\u0e43\\u0e2b\\u0e0d\\u0e48\\u0e42\\u0e15 \\u0e21\\u0e35\\u0e1e\\u0e34\\u0e29\\u0e21\\u0e32\\u0e01\\u0e01\\u0e27\\u0e48\\u0e32\\u0e07\\u0e39\\u0e17\\u0e38\\u0e01\\u0e0a\\u0e19\\u0e34\\u0e14 \\u0e40\\u0e21\\u0e37\\u0e48\\u0e2d\\u0e07\\u0e39\\u0e40\\u0e2b\\u0e25\\u0e37\\u0e2d\\u0e21\\u0e01\\u0e31\\u0e14\\u0e04\\u0e19\\u0e2b\\u0e23\\u0e37\\u0e2d\\u0e2a\\u0e31\\u0e15\\u0e27\\u0e4c\\u0e08\\u0e30\\u0e15\\u0e32\\u0e22\\u0e17\\u0e31\\u0e19\\u0e17\\u0e35 \\u0e27\\u0e31\\u0e19\\u0e2b\\u0e19\\u0e36\\u0e48\\u0e07\\u0e0a\\u0e32\\u0e22\\u0e0a\\u0e23\\u0e32\\u0e04\\u0e19\\u0e2b\\u0e19\\u0e36\\u0e48\\u0e07\\u0e44\\u0e1b\\u0e2b\\u0e32\\u0e40\\u0e02\\u0e35\\u0e22\\u0e14\\u0e43\\u0e19\\u0e19\\u0e32 \\u0e40\\u0e21\\u0e37\\u0e48\\u0e2d\\u0e2b\\u0e32\\u0e44\\u0e14\\u0e49\\u0e41\\u0e25\\u0e49\\u0e27\\u0e01\\u0e47\\u0e40\\u0e2d\\u0e32\\u0e40\\u0e02\\u0e35\\u0e22\\u0e14\\u0e21\\u0e31\\u0e14\\u0e40\\u0e01\\u0e47\\u0e1a\\u0e43\\u0e2a\\u0e48\\u0e01\\u0e23\\u0e30\\u0e40\\u0e1b\\u0e4b\\u0e32\\u0e40\\u0e2a\\u0e37\\u0e49\\u0e2d \\u0e02\\u0e13\\u0e30\\u0e17\\u0e35\\u0e48\\u0e40\\u0e14\\u0e34\\u0e19\\u0e01\\u0e25\\u0e31\\u0e1a\\u0e1a\\u0e49\\u0e32\\u0e19\\u0e19\\u0e31\\u0e49\\u0e19\\u0e0a\\u0e32\\u0e22\\u0e0a\\u0e23\\u0e32\\u0e40\\u0e2b\\u0e22\\u0e35\\u0e22\\u0e1a\\u0e07\\u0e39\\u0e40\\u0e2b\\u0e25\\u0e37\\u0e2d\\u0e21 \\u0e07\\u0e39\\u0e40\\u0e2b\\u0e25\\u0e37\\u0e2d\\u0e21\\u0e08\\u0e36\\u0e07\\u0e01\\u0e31\\u0e14\\u0e0a\\u0e32\\u0e22\\u0e0a\\u0e23\\u0e32\\u0e15\\u0e32\\u0e22\\u0e04\\u0e32\\u0e17\\u0e35\\u0e48 \\u0e41\\u0e15\\u0e48\\u0e40\\u0e02\\u0e35\\u0e22\\u0e14\\u0e17\\u0e35\\u0e48\\u0e2d\\u0e22\\u0e39\\u0e48\\u0e43\\u0e19\\u0e01\\u0e23\\u0e30\\u0e40\\u0e1b\\u0e4b\\u0e32\\u0e40\\u0e2a\\u0e37\\u0e49\\u0e2d\\u0e0a\\u0e32\\u0e22\\u0e0a\\u0e23\\u0e32\\u0e44\\u0e21\\u0e48\\u0e15\\u0e32\\u0e22\\u0e08\\u0e36\\u0e07\\u0e14\\u0e34\\u0e49\\u0e19\\u0e44\\u0e1b\\u0e21\\u0e32 \\u0e07\\u0e39\\u0e40\\u0e2b\\u0e25\\u0e37\\u0e2d\\u0e21\\u0e40\\u0e2b\\u0e47\\u0e19\\u0e40\\u0e2a\\u0e37\\u0e49\\u0e2d\\u0e44\\u0e2b\\u0e27\\u0e44\\u0e1b\\u0e21\\u0e32\\u0e01\\u0e47\\u0e19\\u0e36\\u0e01\\u0e27\\u0e48\\u0e32\\u0e0a\\u0e32\\u0e22\\u0e0a\\u0e23\\u0e32\\u0e44\\u0e21\\u0e48\\u0e15\\u0e32\\u0e22 \\u0e2a\\u0e33\\u0e04\\u0e31\\u0e0d\\u0e1c\\u0e34\\u0e14\\u0e04\\u0e34\\u0e14\\u0e27\\u0e48\\u0e32\\u0e1e\\u0e34\\u0e29\\u0e02\\u0e2d\\u0e07\\u0e15\\u0e19\\u0e44\\u0e21\\u0e48\\u0e21\\u0e35\\u0e04\\u0e27\\u0e32\\u0e21\\u0e2b\\u0e21\\u0e32\\u0e22\\u0e08\\u0e36\\u0e07\\u0e04\\u0e32\\u0e22\\u0e1e\\u0e34\\u0e29\\u0e2d\\u0e2d\\u0e01 \\u0e1e\\u0e27\\u0e01\\u0e07\\u0e39\\u0e40\\u0e2b\\u0e48\\u0e32 \\u0e07\\u0e39\\u0e08\\u0e07\\u0e2d\\u0e32\\u0e07 \\u0e2d\\u0e22\\u0e39\\u0e48\\u0e43\\u0e01\\u0e25\\u0e49\\u0e46\\u0e08\\u0e36\\u0e07\\u0e40\\u0e25\\u0e37\\u0e49\\u0e2d\\u0e22\\u0e44\\u0e1b\\u0e2a\\u0e39\\u0e14\\u0e40\\u0e2d\\u0e32\\u0e1e\\u0e34\\u0e29 \\u0e14\\u0e31\\u0e07\\u0e19\\u0e31\\u0e49\\u0e19\\u0e07\\u0e39\\u0e40\\u0e2b\\u0e48\\u0e32 \\u0e07\\u0e39\\u0e08\\u0e07\\u0e2d\\u0e32\\u0e07\\u0e08\\u0e36\\u0e07\\u0e21\\u0e35\\u0e1e\\u0e34\\u0e29\\u0e21\\u0e32\\u0e01\\u0e01\\u0e27\\u0e48\\u0e32\\u0e07\\u0e39\\u0e17\\u0e31\\u0e49\\u0e07\\u0e2b\\u0e25\\u0e32\\u0e22 \\u0e07\\u0e39\\u0e2d\\u0e37\\u0e48\\u0e19\\u0e46\\u0e21\\u0e35\\u0e1e\\u0e34\\u0e29\\u0e40\\u0e1e\\u0e35\\u0e22\\u0e07\\u0e40\\u0e25\\u0e47\\u0e01\\u0e19\\u0e49\\u0e2d\\u0e22\\u0e40\\u0e1e\\u0e23\\u0e32\\u0e30\\u0e40\\u0e1e\\u0e35\\u0e22\\u0e07\\u0e41\\u0e15\\u0e48\\u0e44\\u0e14\\u0e49\\u0e14\\u0e21\\u0e01\\u0e25\\u0e34\\u0e48\\u0e19\\u0e1e\\u0e34\\u0e29\\u0e40\\u0e17\\u0e48\\u0e32\\u0e19\\u0e31\\u0e49\\u0e19&nbsp;</p>\\n\"\n        ],\n        \"semantic_type\": \"\",\n        \"description\": \"\"\n      }\n    },\n    {\n      \"column\": \"subject\",\n      \"properties\": {\n        \"dtype\": \"category\",\n        \"num_unique_values\": 1,\n        \"samples\": [\n          \"\\u0e19\\u0e34\\u0e17\\u0e32\\u0e19\\u0e1e\\u0e37\\u0e49\\u0e19\\u0e1a\\u0e49\\u0e32\\u0e19\"\n        ],\n        \"semantic_type\": \"\",\n        \"description\": \"\"\n      }\n    },\n    {\n      \"column\": \"spatial\",\n      \"properties\": {\n        \"dtype\": \"category\",\n        \"num_unique_values\": 8,\n        \"samples\": [\n          \"\\u0e44\\u0e17\\u0e22,\"\n        ],\n        \"semantic_type\": \"\",\n        \"description\": \"\"\n      }\n    },\n    {\n      \"column\": \"temporal\",\n      \"properties\": {\n        \"dtype\": \"number\",\n        \"std\": null,\n        \"min\": null,\n        \"max\": null,\n        \"num_unique_values\": 0,\n        \"samples\": [],\n        \"semantic_type\": \"\",\n        \"description\": \"\"\n      }\n    },\n    {\n      \"column\": \"language\",\n      \"properties\": {\n        \"dtype\": \"category\",\n        \"num_unique_values\": 1,\n        \"samples\": [],\n        \"semantic_type\": \"\",\n        \"description\": \"\"\n      }\n    },\n    {\n      \"column\": \"rights\",\n      \"properties\": {\n        \"dtype\": \"category\",\n        \"num_unique_values\": 1,\n        \"samples\": [],\n        \"semantic_type\": \"\",\n        \"description\": \"\"\n      }\n    },\n    {\n      \"column\": \"license\",\n      \"properties\": {\n        \"dtype\": \"category\",\n        \"num_unique_values\": 1,\n        \"samples\": [],\n        \"semantic_type\": \"\",\n        \"description\": \"\"\n      }\n    },\n    {\n      \"column\": \"source.uri\",\n      \"properties\": {\n        \"dtype\": \"string\",\n        \"num_unique_values\": 226,\n        \"samples\": [],\n        \"semantic_type\": \"\",\n        \"description\": \"\"\n      }\n    }\n  ]\n}"
            }
          },
          "metadata": {},
          "execution_count": 81
        }
      ]
    },
    {
      "cell_type": "markdown",
      "source": [
        "---"
      ],
      "metadata": {
        "id": "HqwrtI3KoAM_"
      }
    },
    {
      "cell_type": "markdown",
      "source": [
        "##ของเดิม"
      ],
      "metadata": {
        "id": "1hGay_BkcFoe"
      }
    },
    {
      "cell_type": "code",
      "metadata": {
        "id": "KvRsTv4umSnR"
      },
      "source": [
        "this_data = data_covid[['sex','age','province_of_onset']]"
      ],
      "execution_count": null,
      "outputs": []
    },
    {
      "cell_type": "code",
      "metadata": {
        "id": "8n1Qyl0ibKrL",
        "colab": {
          "base_uri": "https://localhost:8080/",
          "height": 204
        },
        "outputId": "ede9eb69-fb71-4b6d-ef96-083e244d5585"
      },
      "source": [
        "this_data.head()"
      ],
      "execution_count": null,
      "outputs": [
        {
          "output_type": "execute_result",
          "data": {
            "text/html": [
              "<div>\n",
              "<style scoped>\n",
              "    .dataframe tbody tr th:only-of-type {\n",
              "        vertical-align: middle;\n",
              "    }\n",
              "\n",
              "    .dataframe tbody tr th {\n",
              "        vertical-align: top;\n",
              "    }\n",
              "\n",
              "    .dataframe thead th {\n",
              "        text-align: right;\n",
              "    }\n",
              "</style>\n",
              "<table border=\"1\" class=\"dataframe\">\n",
              "  <thead>\n",
              "    <tr style=\"text-align: right;\">\n",
              "      <th></th>\n",
              "      <th>sex</th>\n",
              "      <th>age</th>\n",
              "      <th>province_of_onset</th>\n",
              "    </tr>\n",
              "  </thead>\n",
              "  <tbody>\n",
              "    <tr>\n",
              "      <th>0</th>\n",
              "      <td>หญิง</td>\n",
              "      <td>61.0</td>\n",
              "      <td>กรุงเทพมหานคร</td>\n",
              "    </tr>\n",
              "    <tr>\n",
              "      <th>1</th>\n",
              "      <td>หญิง</td>\n",
              "      <td>74.0</td>\n",
              "      <td>กรุงเทพมหานคร</td>\n",
              "    </tr>\n",
              "    <tr>\n",
              "      <th>2</th>\n",
              "      <td>หญิง</td>\n",
              "      <td>73.0</td>\n",
              "      <td>นครปฐม</td>\n",
              "    </tr>\n",
              "    <tr>\n",
              "      <th>3</th>\n",
              "      <td>ชาย</td>\n",
              "      <td>68.0</td>\n",
              "      <td>กรุงเทพมหานคร</td>\n",
              "    </tr>\n",
              "    <tr>\n",
              "      <th>4</th>\n",
              "      <td>หญิง</td>\n",
              "      <td>66.0</td>\n",
              "      <td>กรุงเทพมหานคร</td>\n",
              "    </tr>\n",
              "  </tbody>\n",
              "</table>\n",
              "</div>"
            ],
            "text/plain": [
              "    sex   age province_of_onset\n",
              "0  หญิง  61.0     กรุงเทพมหานคร\n",
              "1  หญิง  74.0     กรุงเทพมหานคร\n",
              "2  หญิง  73.0            นครปฐม\n",
              "3   ชาย  68.0     กรุงเทพมหานคร\n",
              "4  หญิง  66.0     กรุงเทพมหานคร"
            ]
          },
          "metadata": {
            "tags": []
          },
          "execution_count": 42
        }
      ]
    },
    {
      "cell_type": "code",
      "metadata": {
        "id": "wnlhDEjpkgUr",
        "colab": {
          "base_uri": "https://localhost:8080/"
        },
        "outputId": "d6ad2e37-455e-4bfc-85e7-0421d57a9d1f"
      },
      "source": [
        "print(f'จำนวน record ก่อน drop missing ใน province {this_data.shape[0]}')\n",
        "print(f'จำนวน record หลัง drop missing ใน province {this_data.dropna(subset=[\"province_of_onset\"]).shape[0]}')"
      ],
      "execution_count": null,
      "outputs": [
        {
          "output_type": "stream",
          "text": [
            "จำนวน record ก่อน drop missing ใน province 12653\n",
            "จำนวน record หลัง drop missing ใน province 10662\n"
          ],
          "name": "stdout"
        }
      ]
    },
    {
      "cell_type": "code",
      "metadata": {
        "id": "rFrzt9d7mZx4",
        "colab": {
          "base_uri": "https://localhost:8080/",
          "height": 204
        },
        "outputId": "92676489-1696-4918-ed13-d9a99b37f83d"
      },
      "source": [
        "this_data_updated = this_data.fillna(value={'sex':'ไม่รู้', 'age':-1, 'province_of_onset':'ไม่รู้'})\n",
        "this_data_updated.head()"
      ],
      "execution_count": null,
      "outputs": [
        {
          "output_type": "execute_result",
          "data": {
            "text/html": [
              "<div>\n",
              "<style scoped>\n",
              "    .dataframe tbody tr th:only-of-type {\n",
              "        vertical-align: middle;\n",
              "    }\n",
              "\n",
              "    .dataframe tbody tr th {\n",
              "        vertical-align: top;\n",
              "    }\n",
              "\n",
              "    .dataframe thead th {\n",
              "        text-align: right;\n",
              "    }\n",
              "</style>\n",
              "<table border=\"1\" class=\"dataframe\">\n",
              "  <thead>\n",
              "    <tr style=\"text-align: right;\">\n",
              "      <th></th>\n",
              "      <th>sex</th>\n",
              "      <th>age</th>\n",
              "      <th>province_of_onset</th>\n",
              "    </tr>\n",
              "  </thead>\n",
              "  <tbody>\n",
              "    <tr>\n",
              "      <th>0</th>\n",
              "      <td>หญิง</td>\n",
              "      <td>61.0</td>\n",
              "      <td>กรุงเทพมหานคร</td>\n",
              "    </tr>\n",
              "    <tr>\n",
              "      <th>1</th>\n",
              "      <td>หญิง</td>\n",
              "      <td>74.0</td>\n",
              "      <td>กรุงเทพมหานคร</td>\n",
              "    </tr>\n",
              "    <tr>\n",
              "      <th>2</th>\n",
              "      <td>หญิง</td>\n",
              "      <td>73.0</td>\n",
              "      <td>นครปฐม</td>\n",
              "    </tr>\n",
              "    <tr>\n",
              "      <th>3</th>\n",
              "      <td>ชาย</td>\n",
              "      <td>68.0</td>\n",
              "      <td>กรุงเทพมหานคร</td>\n",
              "    </tr>\n",
              "    <tr>\n",
              "      <th>4</th>\n",
              "      <td>หญิง</td>\n",
              "      <td>66.0</td>\n",
              "      <td>กรุงเทพมหานคร</td>\n",
              "    </tr>\n",
              "  </tbody>\n",
              "</table>\n",
              "</div>"
            ],
            "text/plain": [
              "    sex   age province_of_onset\n",
              "0  หญิง  61.0     กรุงเทพมหานคร\n",
              "1  หญิง  74.0     กรุงเทพมหานคร\n",
              "2  หญิง  73.0            นครปฐม\n",
              "3   ชาย  68.0     กรุงเทพมหานคร\n",
              "4  หญิง  66.0     กรุงเทพมหานคร"
            ]
          },
          "metadata": {
            "tags": []
          },
          "execution_count": 45
        }
      ]
    },
    {
      "cell_type": "code",
      "metadata": {
        "id": "8C_BVEldmZvF",
        "colab": {
          "base_uri": "https://localhost:8080/",
          "height": 419
        },
        "outputId": "595cc799-6530-43ea-e255-c15c6245270d"
      },
      "source": [
        "this_data_updated[this_data_updated['sex']=='ไม่รู้']"
      ],
      "execution_count": null,
      "outputs": [
        {
          "output_type": "execute_result",
          "data": {
            "text/html": [
              "<div>\n",
              "<style scoped>\n",
              "    .dataframe tbody tr th:only-of-type {\n",
              "        vertical-align: middle;\n",
              "    }\n",
              "\n",
              "    .dataframe tbody tr th {\n",
              "        vertical-align: top;\n",
              "    }\n",
              "\n",
              "    .dataframe thead th {\n",
              "        text-align: right;\n",
              "    }\n",
              "</style>\n",
              "<table border=\"1\" class=\"dataframe\">\n",
              "  <thead>\n",
              "    <tr style=\"text-align: right;\">\n",
              "      <th></th>\n",
              "      <th>sex</th>\n",
              "      <th>age</th>\n",
              "      <th>province_of_onset</th>\n",
              "    </tr>\n",
              "  </thead>\n",
              "  <tbody>\n",
              "    <tr>\n",
              "      <th>4391</th>\n",
              "      <td>ไม่รู้</td>\n",
              "      <td>-1.0</td>\n",
              "      <td>สมุทรสาคร</td>\n",
              "    </tr>\n",
              "    <tr>\n",
              "      <th>4392</th>\n",
              "      <td>ไม่รู้</td>\n",
              "      <td>-1.0</td>\n",
              "      <td>สมุทรสาคร</td>\n",
              "    </tr>\n",
              "    <tr>\n",
              "      <th>4393</th>\n",
              "      <td>ไม่รู้</td>\n",
              "      <td>-1.0</td>\n",
              "      <td>สมุทรสาคร</td>\n",
              "    </tr>\n",
              "    <tr>\n",
              "      <th>4394</th>\n",
              "      <td>ไม่รู้</td>\n",
              "      <td>-1.0</td>\n",
              "      <td>สมุทรสาคร</td>\n",
              "    </tr>\n",
              "    <tr>\n",
              "      <th>4395</th>\n",
              "      <td>ไม่รู้</td>\n",
              "      <td>-1.0</td>\n",
              "      <td>สมุทรสาคร</td>\n",
              "    </tr>\n",
              "    <tr>\n",
              "      <th>...</th>\n",
              "      <td>...</td>\n",
              "      <td>...</td>\n",
              "      <td>...</td>\n",
              "    </tr>\n",
              "    <tr>\n",
              "      <th>12635</th>\n",
              "      <td>ไม่รู้</td>\n",
              "      <td>-1.0</td>\n",
              "      <td>สมุทรสาคร</td>\n",
              "    </tr>\n",
              "    <tr>\n",
              "      <th>12636</th>\n",
              "      <td>ไม่รู้</td>\n",
              "      <td>-1.0</td>\n",
              "      <td>สมุทรสาคร</td>\n",
              "    </tr>\n",
              "    <tr>\n",
              "      <th>12637</th>\n",
              "      <td>ไม่รู้</td>\n",
              "      <td>-1.0</td>\n",
              "      <td>สมุทรสาคร</td>\n",
              "    </tr>\n",
              "    <tr>\n",
              "      <th>12638</th>\n",
              "      <td>ไม่รู้</td>\n",
              "      <td>-1.0</td>\n",
              "      <td>สมุทรสาคร</td>\n",
              "    </tr>\n",
              "    <tr>\n",
              "      <th>12639</th>\n",
              "      <td>ไม่รู้</td>\n",
              "      <td>-1.0</td>\n",
              "      <td>สมุทรสาคร</td>\n",
              "    </tr>\n",
              "  </tbody>\n",
              "</table>\n",
              "<p>2502 rows × 3 columns</p>\n",
              "</div>"
            ],
            "text/plain": [
              "          sex  age province_of_onset\n",
              "4391   ไม่รู้ -1.0         สมุทรสาคร\n",
              "4392   ไม่รู้ -1.0         สมุทรสาคร\n",
              "4393   ไม่รู้ -1.0         สมุทรสาคร\n",
              "4394   ไม่รู้ -1.0         สมุทรสาคร\n",
              "4395   ไม่รู้ -1.0         สมุทรสาคร\n",
              "...       ...  ...               ...\n",
              "12635  ไม่รู้ -1.0         สมุทรสาคร\n",
              "12636  ไม่รู้ -1.0         สมุทรสาคร\n",
              "12637  ไม่รู้ -1.0         สมุทรสาคร\n",
              "12638  ไม่รู้ -1.0         สมุทรสาคร\n",
              "12639  ไม่รู้ -1.0         สมุทรสาคร\n",
              "\n",
              "[2502 rows x 3 columns]"
            ]
          },
          "metadata": {
            "tags": []
          },
          "execution_count": 46
        }
      ]
    },
    {
      "cell_type": "code",
      "metadata": {
        "id": "ccURHliVsN2_",
        "colab": {
          "base_uri": "https://localhost:8080/"
        },
        "outputId": "048a7d2d-d2ec-4f56-cc0d-6e775e3da7bf"
      },
      "source": [
        "this_data_updated['province_of_onset']=='ไม่รู้'"
      ],
      "execution_count": null,
      "outputs": [
        {
          "output_type": "execute_result",
          "data": {
            "text/plain": [
              "0        False\n",
              "1        False\n",
              "2        False\n",
              "3        False\n",
              "4        False\n",
              "         ...  \n",
              "12648    False\n",
              "12649    False\n",
              "12650    False\n",
              "12651    False\n",
              "12652    False\n",
              "Name: province_of_onset, Length: 12653, dtype: bool"
            ]
          },
          "metadata": {
            "tags": []
          },
          "execution_count": 48
        }
      ]
    },
    {
      "cell_type": "code",
      "metadata": {
        "id": "mBtBgXRQlSu6",
        "colab": {
          "base_uri": "https://localhost:8080/",
          "height": 626
        },
        "outputId": "474ad3d5-ca60-412c-8a77-4fde4d1f4972"
      },
      "source": [
        "data_covid[this_data_updated['province_of_onset']=='ไม่รู้']"
      ],
      "execution_count": null,
      "outputs": [
        {
          "output_type": "execute_result",
          "data": {
            "text/html": [
              "<div>\n",
              "<style scoped>\n",
              "    .dataframe tbody tr th:only-of-type {\n",
              "        vertical-align: middle;\n",
              "    }\n",
              "\n",
              "    .dataframe tbody tr th {\n",
              "        vertical-align: top;\n",
              "    }\n",
              "\n",
              "    .dataframe thead th {\n",
              "        text-align: right;\n",
              "    }\n",
              "</style>\n",
              "<table border=\"1\" class=\"dataframe\">\n",
              "  <thead>\n",
              "    <tr style=\"text-align: right;\">\n",
              "      <th></th>\n",
              "      <th>No.</th>\n",
              "      <th>announce_date</th>\n",
              "      <th>notification_date</th>\n",
              "      <th>sex</th>\n",
              "      <th>age</th>\n",
              "      <th>nationality</th>\n",
              "      <th>province_of_isolation</th>\n",
              "      <th>province_of_onset</th>\n",
              "      <th>district_of_onset</th>\n",
              "      <th>risk</th>\n",
              "    </tr>\n",
              "  </thead>\n",
              "  <tbody>\n",
              "    <tr>\n",
              "      <th>414</th>\n",
              "      <td>415</td>\n",
              "      <td>3/22/2020</td>\n",
              "      <td>3/22/2020</td>\n",
              "      <td>ชาย</td>\n",
              "      <td>29.0</td>\n",
              "      <td>Thailand</td>\n",
              "      <td>กรุงเทพมหานคร</td>\n",
              "      <td>NaN</td>\n",
              "      <td>NaN</td>\n",
              "      <td>สนามมวย</td>\n",
              "    </tr>\n",
              "    <tr>\n",
              "      <th>529</th>\n",
              "      <td>530</td>\n",
              "      <td>3/22/2020</td>\n",
              "      <td>3/20/2020</td>\n",
              "      <td>ชาย</td>\n",
              "      <td>37.0</td>\n",
              "      <td>Thailand</td>\n",
              "      <td>กรุงเทพมหานคร</td>\n",
              "      <td>NaN</td>\n",
              "      <td>NaN</td>\n",
              "      <td>สัมผัสใกล้ชิดกับผู้ป่วยยืนยันรายก่อนหน้านี้</td>\n",
              "    </tr>\n",
              "    <tr>\n",
              "      <th>555</th>\n",
              "      <td>556</td>\n",
              "      <td>3/22/2020</td>\n",
              "      <td>3/21/2020</td>\n",
              "      <td>หญิง</td>\n",
              "      <td>6.0</td>\n",
              "      <td>Thailand</td>\n",
              "      <td>กรุงเทพมหานคร</td>\n",
              "      <td>NaN</td>\n",
              "      <td>NaN</td>\n",
              "      <td>สนามมวย</td>\n",
              "    </tr>\n",
              "    <tr>\n",
              "      <th>576</th>\n",
              "      <td>577</td>\n",
              "      <td>3/22/2020</td>\n",
              "      <td>3/20/2020</td>\n",
              "      <td>ชาย</td>\n",
              "      <td>NaN</td>\n",
              "      <td>Thailand</td>\n",
              "      <td>กรุงเทพมหานคร</td>\n",
              "      <td>NaN</td>\n",
              "      <td>NaN</td>\n",
              "      <td>สนามมวย</td>\n",
              "    </tr>\n",
              "    <tr>\n",
              "      <th>588</th>\n",
              "      <td>589</td>\n",
              "      <td>3/22/2020</td>\n",
              "      <td>3/21/2020</td>\n",
              "      <td>ชาย</td>\n",
              "      <td>NaN</td>\n",
              "      <td>Thailand</td>\n",
              "      <td>กรุงเทพมหานคร</td>\n",
              "      <td>NaN</td>\n",
              "      <td>NaN</td>\n",
              "      <td>อยู่ระหว่างการสอบสวน</td>\n",
              "    </tr>\n",
              "    <tr>\n",
              "      <th>...</th>\n",
              "      <td>...</td>\n",
              "      <td>...</td>\n",
              "      <td>...</td>\n",
              "      <td>...</td>\n",
              "      <td>...</td>\n",
              "      <td>...</td>\n",
              "      <td>...</td>\n",
              "      <td>...</td>\n",
              "      <td>...</td>\n",
              "      <td>...</td>\n",
              "    </tr>\n",
              "    <tr>\n",
              "      <th>12405</th>\n",
              "      <td>12406</td>\n",
              "      <td>1/18/2021</td>\n",
              "      <td>1/17/2021</td>\n",
              "      <td>NaN</td>\n",
              "      <td>NaN</td>\n",
              "      <td>NaN</td>\n",
              "      <td>สมุทรสาคร</td>\n",
              "      <td>NaN</td>\n",
              "      <td>NaN</td>\n",
              "      <td>Cluster สมุทรสาคร</td>\n",
              "    </tr>\n",
              "    <tr>\n",
              "      <th>12406</th>\n",
              "      <td>12407</td>\n",
              "      <td>1/18/2021</td>\n",
              "      <td>1/17/2021</td>\n",
              "      <td>NaN</td>\n",
              "      <td>NaN</td>\n",
              "      <td>NaN</td>\n",
              "      <td>สมุทรสาคร</td>\n",
              "      <td>NaN</td>\n",
              "      <td>NaN</td>\n",
              "      <td>Cluster สมุทรสาคร</td>\n",
              "    </tr>\n",
              "    <tr>\n",
              "      <th>12407</th>\n",
              "      <td>12408</td>\n",
              "      <td>1/18/2021</td>\n",
              "      <td>1/17/2021</td>\n",
              "      <td>NaN</td>\n",
              "      <td>NaN</td>\n",
              "      <td>NaN</td>\n",
              "      <td>สมุทรสาคร</td>\n",
              "      <td>NaN</td>\n",
              "      <td>NaN</td>\n",
              "      <td>Cluster สมุทรสาคร</td>\n",
              "    </tr>\n",
              "    <tr>\n",
              "      <th>12408</th>\n",
              "      <td>12409</td>\n",
              "      <td>1/18/2021</td>\n",
              "      <td>1/17/2021</td>\n",
              "      <td>NaN</td>\n",
              "      <td>NaN</td>\n",
              "      <td>NaN</td>\n",
              "      <td>สมุทรสาคร</td>\n",
              "      <td>NaN</td>\n",
              "      <td>NaN</td>\n",
              "      <td>Cluster สมุทรสาคร</td>\n",
              "    </tr>\n",
              "    <tr>\n",
              "      <th>12409</th>\n",
              "      <td>12410</td>\n",
              "      <td>1/18/2021</td>\n",
              "      <td>1/17/2021</td>\n",
              "      <td>NaN</td>\n",
              "      <td>NaN</td>\n",
              "      <td>NaN</td>\n",
              "      <td>สมุทรสาคร</td>\n",
              "      <td>NaN</td>\n",
              "      <td>NaN</td>\n",
              "      <td>Cluster สมุทรสาคร</td>\n",
              "    </tr>\n",
              "  </tbody>\n",
              "</table>\n",
              "<p>1991 rows × 10 columns</p>\n",
              "</div>"
            ],
            "text/plain": [
              "         No.  ...                                         risk\n",
              "414      415  ...                                      สนามมวย\n",
              "529      530  ...  สัมผัสใกล้ชิดกับผู้ป่วยยืนยันรายก่อนหน้านี้\n",
              "555      556  ...                                      สนามมวย\n",
              "576      577  ...                                      สนามมวย\n",
              "588      589  ...                         อยู่ระหว่างการสอบสวน\n",
              "...      ...  ...                                          ...\n",
              "12405  12406  ...                            Cluster สมุทรสาคร\n",
              "12406  12407  ...                            Cluster สมุทรสาคร\n",
              "12407  12408  ...                            Cluster สมุทรสาคร\n",
              "12408  12409  ...                            Cluster สมุทรสาคร\n",
              "12409  12410  ...                            Cluster สมุทรสาคร\n",
              "\n",
              "[1991 rows x 10 columns]"
            ]
          },
          "metadata": {
            "tags": []
          },
          "execution_count": 47
        }
      ]
    },
    {
      "cell_type": "code",
      "metadata": {
        "id": "WZIO6inapd2J"
      },
      "source": [
        "this_data_updated_2 = this_data.fillna(value={'province_of_onset':'ไม่รู้'})"
      ],
      "execution_count": null,
      "outputs": []
    },
    {
      "cell_type": "code",
      "metadata": {
        "id": "_hzYgvv4tLTA",
        "colab": {
          "base_uri": "https://localhost:8080/",
          "height": 419
        },
        "outputId": "d4d3c766-f29d-46fa-a2e0-3d4a6bf8649b"
      },
      "source": [
        "this_data_updated_2[this_data_updated['sex']=='ไม่รู้']"
      ],
      "execution_count": null,
      "outputs": [
        {
          "output_type": "execute_result",
          "data": {
            "text/html": [
              "<div>\n",
              "<style scoped>\n",
              "    .dataframe tbody tr th:only-of-type {\n",
              "        vertical-align: middle;\n",
              "    }\n",
              "\n",
              "    .dataframe tbody tr th {\n",
              "        vertical-align: top;\n",
              "    }\n",
              "\n",
              "    .dataframe thead th {\n",
              "        text-align: right;\n",
              "    }\n",
              "</style>\n",
              "<table border=\"1\" class=\"dataframe\">\n",
              "  <thead>\n",
              "    <tr style=\"text-align: right;\">\n",
              "      <th></th>\n",
              "      <th>sex</th>\n",
              "      <th>age</th>\n",
              "      <th>province_of_onset</th>\n",
              "    </tr>\n",
              "  </thead>\n",
              "  <tbody>\n",
              "    <tr>\n",
              "      <th>4391</th>\n",
              "      <td>NaN</td>\n",
              "      <td>NaN</td>\n",
              "      <td>สมุทรสาคร</td>\n",
              "    </tr>\n",
              "    <tr>\n",
              "      <th>4392</th>\n",
              "      <td>NaN</td>\n",
              "      <td>NaN</td>\n",
              "      <td>สมุทรสาคร</td>\n",
              "    </tr>\n",
              "    <tr>\n",
              "      <th>4393</th>\n",
              "      <td>NaN</td>\n",
              "      <td>NaN</td>\n",
              "      <td>สมุทรสาคร</td>\n",
              "    </tr>\n",
              "    <tr>\n",
              "      <th>4394</th>\n",
              "      <td>NaN</td>\n",
              "      <td>NaN</td>\n",
              "      <td>สมุทรสาคร</td>\n",
              "    </tr>\n",
              "    <tr>\n",
              "      <th>4395</th>\n",
              "      <td>NaN</td>\n",
              "      <td>NaN</td>\n",
              "      <td>สมุทรสาคร</td>\n",
              "    </tr>\n",
              "    <tr>\n",
              "      <th>...</th>\n",
              "      <td>...</td>\n",
              "      <td>...</td>\n",
              "      <td>...</td>\n",
              "    </tr>\n",
              "    <tr>\n",
              "      <th>12635</th>\n",
              "      <td>NaN</td>\n",
              "      <td>NaN</td>\n",
              "      <td>สมุทรสาคร</td>\n",
              "    </tr>\n",
              "    <tr>\n",
              "      <th>12636</th>\n",
              "      <td>NaN</td>\n",
              "      <td>NaN</td>\n",
              "      <td>สมุทรสาคร</td>\n",
              "    </tr>\n",
              "    <tr>\n",
              "      <th>12637</th>\n",
              "      <td>NaN</td>\n",
              "      <td>NaN</td>\n",
              "      <td>สมุทรสาคร</td>\n",
              "    </tr>\n",
              "    <tr>\n",
              "      <th>12638</th>\n",
              "      <td>NaN</td>\n",
              "      <td>NaN</td>\n",
              "      <td>สมุทรสาคร</td>\n",
              "    </tr>\n",
              "    <tr>\n",
              "      <th>12639</th>\n",
              "      <td>NaN</td>\n",
              "      <td>NaN</td>\n",
              "      <td>สมุทรสาคร</td>\n",
              "    </tr>\n",
              "  </tbody>\n",
              "</table>\n",
              "<p>2502 rows × 3 columns</p>\n",
              "</div>"
            ],
            "text/plain": [
              "       sex  age province_of_onset\n",
              "4391   NaN  NaN         สมุทรสาคร\n",
              "4392   NaN  NaN         สมุทรสาคร\n",
              "4393   NaN  NaN         สมุทรสาคร\n",
              "4394   NaN  NaN         สมุทรสาคร\n",
              "4395   NaN  NaN         สมุทรสาคร\n",
              "...    ...  ...               ...\n",
              "12635  NaN  NaN         สมุทรสาคร\n",
              "12636  NaN  NaN         สมุทรสาคร\n",
              "12637  NaN  NaN         สมุทรสาคร\n",
              "12638  NaN  NaN         สมุทรสาคร\n",
              "12639  NaN  NaN         สมุทรสาคร\n",
              "\n",
              "[2502 rows x 3 columns]"
            ]
          },
          "metadata": {
            "tags": []
          },
          "execution_count": 50
        }
      ]
    },
    {
      "cell_type": "markdown",
      "metadata": {
        "id": "ZbzScMVdb6U7"
      },
      "source": [
        "# การวนลูป record ในตาราง  (```.iterrows```)"
      ]
    },
    {
      "cell_type": "code",
      "source": [
        "this_data = folk_df[['title','type','creator']].dropna()"
      ],
      "metadata": {
        "id": "_nvcUttscoyb"
      },
      "execution_count": 11,
      "outputs": []
    },
    {
      "cell_type": "code",
      "source": [
        "for each_row in this_data.iterrows():\n",
        "  print(each_row, end='\\n**********************************\\n')"
      ],
      "metadata": {
        "id": "CG6EpW-LcLMr"
      },
      "execution_count": null,
      "outputs": []
    },
    {
      "cell_type": "markdown",
      "source": [
        "#quiz 9\n",
        "วนลูปนับว่ามีนิทานที่มีคำว่าแม่ พ่อ"
      ],
      "metadata": {
        "id": "7s7kC7LKdbj4"
      }
    },
    {
      "cell_type": "code",
      "source": [],
      "metadata": {
        "id": "3fRi1tRciNAU"
      },
      "execution_count": null,
      "outputs": []
    },
    {
      "cell_type": "markdown",
      "source": [
        "##ของเดิม"
      ],
      "metadata": {
        "id": "RXTxJ5lYcJ0q"
      }
    },
    {
      "cell_type": "code",
      "metadata": {
        "id": "HuvNCoCRq1YQ"
      },
      "source": [
        "this_data = data_covid[['sex','age','province_of_onset']]"
      ],
      "execution_count": null,
      "outputs": []
    },
    {
      "cell_type": "code",
      "metadata": {
        "id": "WekNYPgMtwxX",
        "colab": {
          "base_uri": "https://localhost:8080/"
        },
        "outputId": "ceca8709-aadd-4b08-8b69-1adb8b80f32a"
      },
      "source": [
        "for each_row in this_data.iterrows():\n",
        "    # print(each_row)\n",
        "    # print(each_row[1])\n",
        "    if (each_row[1]['age'] == 20) and (each_row[1]['province_of_onset'] == 'ขอนแก่น'):\n",
        "        print(each_row)"
      ],
      "execution_count": null,
      "outputs": [
        {
          "output_type": "stream",
          "text": [
            "(9334, sex                      ชาย\n",
            "age                       20\n",
            "province_of_onset    ขอนแก่น\n",
            "Name: 9334, dtype: object)\n"
          ],
          "name": "stdout"
        }
      ]
    },
    {
      "cell_type": "markdown",
      "metadata": {
        "id": "Rt9Sm-nGr8um"
      },
      "source": [
        "## การวนลูป แบบมองตารางแพนด้าส์(pandas dataframe) เป็น numpy array  (```.iloc```)"
      ]
    },
    {
      "cell_type": "markdown",
      "source": [
        "ปริ้นชื่อนิทานทั้งหมดที่มีคำว่าพ่อหรือแม่ทั้งหมดออกมา\n",
        "\n"
      ],
      "metadata": {
        "id": "Znw9xfwtjg-f"
      }
    },
    {
      "cell_type": "markdown",
      "source": [
        "###ของเดิม"
      ],
      "metadata": {
        "id": "ch2shvZJkz3p"
      }
    },
    {
      "cell_type": "code",
      "metadata": {
        "id": "-gT66JgMuBN0",
        "colab": {
          "base_uri": "https://localhost:8080/"
        },
        "outputId": "764c0ed6-602b-46fa-89cf-a3c52c4dfe4b"
      },
      "source": [
        "for each_row in range(this_data.shape[0]):\n",
        "    if (this_data.iloc[each_row,1] == 20) and (this_data.iloc[each_row,2] == 'ขอนแก่น'):  #each_row คือ ตัวเลข\n",
        "        print(each_row)\n",
        "        print(this_data.iloc[each_row,:])"
      ],
      "execution_count": null,
      "outputs": [
        {
          "output_type": "stream",
          "text": [
            "9334\n",
            "sex                      ชาย\n",
            "age                       20\n",
            "province_of_onset    ขอนแก่น\n",
            "Name: 9334, dtype: object\n"
          ],
          "name": "stdout"
        }
      ]
    },
    {
      "cell_type": "markdown",
      "metadata": {
        "id": "VlgREHOC0eXu"
      },
      "source": [
        "### Quiz ตัดตารางออกมาเฉพาะปี 2021 ```announce_date``` ในปี 2021\n",
        "\n",
        "**Hint**\n",
        "*   วนลูปหา index ของปี 2021\n",
        "*   ตัดตารางมาเฉพาะ ปี 2021\n",
        "\n"
      ]
    },
    {
      "cell_type": "code",
      "metadata": {
        "id": "E3C7RQIz8wtu",
        "outputId": "f018a7dd-b07f-4dc8-d27a-764f87c18258",
        "colab": {
          "base_uri": "https://localhost:8080/",
          "height": 237
        }
      },
      "source": [
        "TF=list()\n",
        "for each_row in data_covid.iterrows():\n",
        "    if each_row[1]['announce_date'].split('/')[2] == '2021':\n",
        "        TF.append(True)\n",
        "    else:\n",
        "        TF.append(False)\n",
        "\n",
        "data_covid[TF].head()"
      ],
      "execution_count": null,
      "outputs": [
        {
          "output_type": "execute_result",
          "data": {
            "text/html": [
              "<div>\n",
              "<style scoped>\n",
              "    .dataframe tbody tr th:only-of-type {\n",
              "        vertical-align: middle;\n",
              "    }\n",
              "\n",
              "    .dataframe tbody tr th {\n",
              "        vertical-align: top;\n",
              "    }\n",
              "\n",
              "    .dataframe thead th {\n",
              "        text-align: right;\n",
              "    }\n",
              "</style>\n",
              "<table border=\"1\" class=\"dataframe\">\n",
              "  <thead>\n",
              "    <tr style=\"text-align: right;\">\n",
              "      <th></th>\n",
              "      <th>No.</th>\n",
              "      <th>announce_date</th>\n",
              "      <th>notification_date</th>\n",
              "      <th>sex</th>\n",
              "      <th>age</th>\n",
              "      <th>nationality</th>\n",
              "      <th>province_of_isolation</th>\n",
              "      <th>province_of_onset</th>\n",
              "      <th>district_of_onset</th>\n",
              "      <th>risk</th>\n",
              "    </tr>\n",
              "  </thead>\n",
              "  <tbody>\n",
              "    <tr>\n",
              "      <th>6884</th>\n",
              "      <td>6885</td>\n",
              "      <td>1/1/2021</td>\n",
              "      <td>12/31/2020</td>\n",
              "      <td>หญิง</td>\n",
              "      <td>40.0</td>\n",
              "      <td>Thailand</td>\n",
              "      <td>กรุงเทพมหานคร</td>\n",
              "      <td>ปทุมธานี</td>\n",
              "      <td>คลองหลวง</td>\n",
              "      <td>Cluster สมุทรสาคร</td>\n",
              "    </tr>\n",
              "    <tr>\n",
              "      <th>6885</th>\n",
              "      <td>6886</td>\n",
              "      <td>1/1/2021</td>\n",
              "      <td>12/31/2020</td>\n",
              "      <td>หญิง</td>\n",
              "      <td>21.0</td>\n",
              "      <td>Thailand</td>\n",
              "      <td>ปทุมธานี</td>\n",
              "      <td>ปทุมธานี</td>\n",
              "      <td>คลองหลวง</td>\n",
              "      <td>Cluster ระยอง</td>\n",
              "    </tr>\n",
              "    <tr>\n",
              "      <th>6886</th>\n",
              "      <td>6887</td>\n",
              "      <td>1/1/2021</td>\n",
              "      <td>12/31/2020</td>\n",
              "      <td>หญิง</td>\n",
              "      <td>20.0</td>\n",
              "      <td>Thailand</td>\n",
              "      <td>นครปฐม</td>\n",
              "      <td>นครปฐม</td>\n",
              "      <td>สามพราน</td>\n",
              "      <td>สถานบันเทิง</td>\n",
              "    </tr>\n",
              "    <tr>\n",
              "      <th>6887</th>\n",
              "      <td>6888</td>\n",
              "      <td>1/1/2021</td>\n",
              "      <td>12/31/2020</td>\n",
              "      <td>หญิง</td>\n",
              "      <td>47.0</td>\n",
              "      <td>Thailand</td>\n",
              "      <td>สมุทรสาคร</td>\n",
              "      <td>นครปฐม</td>\n",
              "      <td>สามพราน</td>\n",
              "      <td>Cluster สมุทรสาคร</td>\n",
              "    </tr>\n",
              "    <tr>\n",
              "      <th>6888</th>\n",
              "      <td>6889</td>\n",
              "      <td>1/1/2021</td>\n",
              "      <td>12/31/2020</td>\n",
              "      <td>หญิง</td>\n",
              "      <td>36.0</td>\n",
              "      <td>Cambodia</td>\n",
              "      <td>ปทุมธานี</td>\n",
              "      <td>กรุงเทพมหานคร</td>\n",
              "      <td>สายไหม</td>\n",
              "      <td>อาชีพเสี่ยง เช่น ทำงานในสถานที่แออัด หรือทำงาน...</td>\n",
              "    </tr>\n",
              "  </tbody>\n",
              "</table>\n",
              "</div>"
            ],
            "text/plain": [
              "       No.  ...                                               risk\n",
              "6884  6885  ...                                  Cluster สมุทรสาคร\n",
              "6885  6886  ...                                      Cluster ระยอง\n",
              "6886  6887  ...                                        สถานบันเทิง\n",
              "6887  6888  ...                                  Cluster สมุทรสาคร\n",
              "6888  6889  ...  อาชีพเสี่ยง เช่น ทำงานในสถานที่แออัด หรือทำงาน...\n",
              "\n",
              "[5 rows x 10 columns]"
            ]
          },
          "metadata": {
            "tags": []
          },
          "execution_count": 15
        }
      ]
    },
    {
      "cell_type": "markdown",
      "source": [
        "#data ใหม่"
      ],
      "metadata": {
        "id": "yl5T3RjFnDgy"
      }
    },
    {
      "cell_type": "code",
      "source": [
        "movie_df = pd.read_csv('/content/drive/MyDrive/Data_viz_2024_data/IMDb Movies India.csv', encoding='latin-1')\n",
        "print(movie_df.shape)\n",
        "movie_df.head()"
      ],
      "metadata": {
        "colab": {
          "base_uri": "https://localhost:8080/",
          "height": 365
        },
        "id": "5HgwuezCnQLq",
        "outputId": "9187ffe6-ee62-4bb2-fc5c-9bbff8d1fc3e"
      },
      "execution_count": 38,
      "outputs": [
        {
          "output_type": "stream",
          "name": "stdout",
          "text": [
            "(15509, 10)\n"
          ]
        },
        {
          "output_type": "execute_result",
          "data": {
            "text/plain": [
              "                                 Name    Year Duration            Genre  \\\n",
              "0                                         NaN      NaN            Drama   \n",
              "1  #Gadhvi (He thought he was Gandhi)  (2019)  109 min            Drama   \n",
              "2                         #Homecoming  (2021)   90 min   Drama, Musical   \n",
              "3                             #Yaaram  (2019)  110 min  Comedy, Romance   \n",
              "4                   ...And Once Again  (2010)  105 min            Drama   \n",
              "\n",
              "   Rating Votes            Director       Actor 1             Actor 2  \\\n",
              "0     NaN   NaN       J.S. Randhawa      Manmauji              Birbal   \n",
              "1     7.0     8       Gaurav Bakshi  Rasika Dugal      Vivek Ghamande   \n",
              "2     NaN   NaN  Soumyajit Majumdar  Sayani Gupta   Plabita Borthakur   \n",
              "3     4.4    35          Ovais Khan       Prateik          Ishita Raj   \n",
              "4     NaN   NaN        Amol Palekar  Rajat Kapoor  Rituparna Sengupta   \n",
              "\n",
              "           Actor 3  \n",
              "0  Rajendra Bhatia  \n",
              "1    Arvind Jangid  \n",
              "2       Roy Angana  \n",
              "3  Siddhant Kapoor  \n",
              "4      Antara Mali  "
            ],
            "text/html": [
              "\n",
              "  <div id=\"df-1c63cecc-1ef2-4dda-85f7-61d5906e1828\" class=\"colab-df-container\">\n",
              "    <div>\n",
              "<style scoped>\n",
              "    .dataframe tbody tr th:only-of-type {\n",
              "        vertical-align: middle;\n",
              "    }\n",
              "\n",
              "    .dataframe tbody tr th {\n",
              "        vertical-align: top;\n",
              "    }\n",
              "\n",
              "    .dataframe thead th {\n",
              "        text-align: right;\n",
              "    }\n",
              "</style>\n",
              "<table border=\"1\" class=\"dataframe\">\n",
              "  <thead>\n",
              "    <tr style=\"text-align: right;\">\n",
              "      <th></th>\n",
              "      <th>Name</th>\n",
              "      <th>Year</th>\n",
              "      <th>Duration</th>\n",
              "      <th>Genre</th>\n",
              "      <th>Rating</th>\n",
              "      <th>Votes</th>\n",
              "      <th>Director</th>\n",
              "      <th>Actor 1</th>\n",
              "      <th>Actor 2</th>\n",
              "      <th>Actor 3</th>\n",
              "    </tr>\n",
              "  </thead>\n",
              "  <tbody>\n",
              "    <tr>\n",
              "      <th>0</th>\n",
              "      <td></td>\n",
              "      <td>NaN</td>\n",
              "      <td>NaN</td>\n",
              "      <td>Drama</td>\n",
              "      <td>NaN</td>\n",
              "      <td>NaN</td>\n",
              "      <td>J.S. Randhawa</td>\n",
              "      <td>Manmauji</td>\n",
              "      <td>Birbal</td>\n",
              "      <td>Rajendra Bhatia</td>\n",
              "    </tr>\n",
              "    <tr>\n",
              "      <th>1</th>\n",
              "      <td>#Gadhvi (He thought he was Gandhi)</td>\n",
              "      <td>(2019)</td>\n",
              "      <td>109 min</td>\n",
              "      <td>Drama</td>\n",
              "      <td>7.0</td>\n",
              "      <td>8</td>\n",
              "      <td>Gaurav Bakshi</td>\n",
              "      <td>Rasika Dugal</td>\n",
              "      <td>Vivek Ghamande</td>\n",
              "      <td>Arvind Jangid</td>\n",
              "    </tr>\n",
              "    <tr>\n",
              "      <th>2</th>\n",
              "      <td>#Homecoming</td>\n",
              "      <td>(2021)</td>\n",
              "      <td>90 min</td>\n",
              "      <td>Drama, Musical</td>\n",
              "      <td>NaN</td>\n",
              "      <td>NaN</td>\n",
              "      <td>Soumyajit Majumdar</td>\n",
              "      <td>Sayani Gupta</td>\n",
              "      <td>Plabita Borthakur</td>\n",
              "      <td>Roy Angana</td>\n",
              "    </tr>\n",
              "    <tr>\n",
              "      <th>3</th>\n",
              "      <td>#Yaaram</td>\n",
              "      <td>(2019)</td>\n",
              "      <td>110 min</td>\n",
              "      <td>Comedy, Romance</td>\n",
              "      <td>4.4</td>\n",
              "      <td>35</td>\n",
              "      <td>Ovais Khan</td>\n",
              "      <td>Prateik</td>\n",
              "      <td>Ishita Raj</td>\n",
              "      <td>Siddhant Kapoor</td>\n",
              "    </tr>\n",
              "    <tr>\n",
              "      <th>4</th>\n",
              "      <td>...And Once Again</td>\n",
              "      <td>(2010)</td>\n",
              "      <td>105 min</td>\n",
              "      <td>Drama</td>\n",
              "      <td>NaN</td>\n",
              "      <td>NaN</td>\n",
              "      <td>Amol Palekar</td>\n",
              "      <td>Rajat Kapoor</td>\n",
              "      <td>Rituparna Sengupta</td>\n",
              "      <td>Antara Mali</td>\n",
              "    </tr>\n",
              "  </tbody>\n",
              "</table>\n",
              "</div>\n",
              "    <div class=\"colab-df-buttons\">\n",
              "\n",
              "  <div class=\"colab-df-container\">\n",
              "    <button class=\"colab-df-convert\" onclick=\"convertToInteractive('df-1c63cecc-1ef2-4dda-85f7-61d5906e1828')\"\n",
              "            title=\"Convert this dataframe to an interactive table.\"\n",
              "            style=\"display:none;\">\n",
              "\n",
              "  <svg xmlns=\"http://www.w3.org/2000/svg\" height=\"24px\" viewBox=\"0 -960 960 960\">\n",
              "    <path d=\"M120-120v-720h720v720H120Zm60-500h600v-160H180v160Zm220 220h160v-160H400v160Zm0 220h160v-160H400v160ZM180-400h160v-160H180v160Zm440 0h160v-160H620v160ZM180-180h160v-160H180v160Zm440 0h160v-160H620v160Z\"/>\n",
              "  </svg>\n",
              "    </button>\n",
              "\n",
              "  <style>\n",
              "    .colab-df-container {\n",
              "      display:flex;\n",
              "      gap: 12px;\n",
              "    }\n",
              "\n",
              "    .colab-df-convert {\n",
              "      background-color: #E8F0FE;\n",
              "      border: none;\n",
              "      border-radius: 50%;\n",
              "      cursor: pointer;\n",
              "      display: none;\n",
              "      fill: #1967D2;\n",
              "      height: 32px;\n",
              "      padding: 0 0 0 0;\n",
              "      width: 32px;\n",
              "    }\n",
              "\n",
              "    .colab-df-convert:hover {\n",
              "      background-color: #E2EBFA;\n",
              "      box-shadow: 0px 1px 2px rgba(60, 64, 67, 0.3), 0px 1px 3px 1px rgba(60, 64, 67, 0.15);\n",
              "      fill: #174EA6;\n",
              "    }\n",
              "\n",
              "    .colab-df-buttons div {\n",
              "      margin-bottom: 4px;\n",
              "    }\n",
              "\n",
              "    [theme=dark] .colab-df-convert {\n",
              "      background-color: #3B4455;\n",
              "      fill: #D2E3FC;\n",
              "    }\n",
              "\n",
              "    [theme=dark] .colab-df-convert:hover {\n",
              "      background-color: #434B5C;\n",
              "      box-shadow: 0px 1px 3px 1px rgba(0, 0, 0, 0.15);\n",
              "      filter: drop-shadow(0px 1px 2px rgba(0, 0, 0, 0.3));\n",
              "      fill: #FFFFFF;\n",
              "    }\n",
              "  </style>\n",
              "\n",
              "    <script>\n",
              "      const buttonEl =\n",
              "        document.querySelector('#df-1c63cecc-1ef2-4dda-85f7-61d5906e1828 button.colab-df-convert');\n",
              "      buttonEl.style.display =\n",
              "        google.colab.kernel.accessAllowed ? 'block' : 'none';\n",
              "\n",
              "      async function convertToInteractive(key) {\n",
              "        const element = document.querySelector('#df-1c63cecc-1ef2-4dda-85f7-61d5906e1828');\n",
              "        const dataTable =\n",
              "          await google.colab.kernel.invokeFunction('convertToInteractive',\n",
              "                                                    [key], {});\n",
              "        if (!dataTable) return;\n",
              "\n",
              "        const docLinkHtml = 'Like what you see? Visit the ' +\n",
              "          '<a target=\"_blank\" href=https://colab.research.google.com/notebooks/data_table.ipynb>data table notebook</a>'\n",
              "          + ' to learn more about interactive tables.';\n",
              "        element.innerHTML = '';\n",
              "        dataTable['output_type'] = 'display_data';\n",
              "        await google.colab.output.renderOutput(dataTable, element);\n",
              "        const docLink = document.createElement('div');\n",
              "        docLink.innerHTML = docLinkHtml;\n",
              "        element.appendChild(docLink);\n",
              "      }\n",
              "    </script>\n",
              "  </div>\n",
              "\n",
              "\n",
              "<div id=\"df-bb19380e-3625-4560-89b7-9cfbb682dc89\">\n",
              "  <button class=\"colab-df-quickchart\" onclick=\"quickchart('df-bb19380e-3625-4560-89b7-9cfbb682dc89')\"\n",
              "            title=\"Suggest charts\"\n",
              "            style=\"display:none;\">\n",
              "\n",
              "<svg xmlns=\"http://www.w3.org/2000/svg\" height=\"24px\"viewBox=\"0 0 24 24\"\n",
              "     width=\"24px\">\n",
              "    <g>\n",
              "        <path d=\"M19 3H5c-1.1 0-2 .9-2 2v14c0 1.1.9 2 2 2h14c1.1 0 2-.9 2-2V5c0-1.1-.9-2-2-2zM9 17H7v-7h2v7zm4 0h-2V7h2v10zm4 0h-2v-4h2v4z\"/>\n",
              "    </g>\n",
              "</svg>\n",
              "  </button>\n",
              "\n",
              "<style>\n",
              "  .colab-df-quickchart {\n",
              "      --bg-color: #E8F0FE;\n",
              "      --fill-color: #1967D2;\n",
              "      --hover-bg-color: #E2EBFA;\n",
              "      --hover-fill-color: #174EA6;\n",
              "      --disabled-fill-color: #AAA;\n",
              "      --disabled-bg-color: #DDD;\n",
              "  }\n",
              "\n",
              "  [theme=dark] .colab-df-quickchart {\n",
              "      --bg-color: #3B4455;\n",
              "      --fill-color: #D2E3FC;\n",
              "      --hover-bg-color: #434B5C;\n",
              "      --hover-fill-color: #FFFFFF;\n",
              "      --disabled-bg-color: #3B4455;\n",
              "      --disabled-fill-color: #666;\n",
              "  }\n",
              "\n",
              "  .colab-df-quickchart {\n",
              "    background-color: var(--bg-color);\n",
              "    border: none;\n",
              "    border-radius: 50%;\n",
              "    cursor: pointer;\n",
              "    display: none;\n",
              "    fill: var(--fill-color);\n",
              "    height: 32px;\n",
              "    padding: 0;\n",
              "    width: 32px;\n",
              "  }\n",
              "\n",
              "  .colab-df-quickchart:hover {\n",
              "    background-color: var(--hover-bg-color);\n",
              "    box-shadow: 0 1px 2px rgba(60, 64, 67, 0.3), 0 1px 3px 1px rgba(60, 64, 67, 0.15);\n",
              "    fill: var(--button-hover-fill-color);\n",
              "  }\n",
              "\n",
              "  .colab-df-quickchart-complete:disabled,\n",
              "  .colab-df-quickchart-complete:disabled:hover {\n",
              "    background-color: var(--disabled-bg-color);\n",
              "    fill: var(--disabled-fill-color);\n",
              "    box-shadow: none;\n",
              "  }\n",
              "\n",
              "  .colab-df-spinner {\n",
              "    border: 2px solid var(--fill-color);\n",
              "    border-color: transparent;\n",
              "    border-bottom-color: var(--fill-color);\n",
              "    animation:\n",
              "      spin 1s steps(1) infinite;\n",
              "  }\n",
              "\n",
              "  @keyframes spin {\n",
              "    0% {\n",
              "      border-color: transparent;\n",
              "      border-bottom-color: var(--fill-color);\n",
              "      border-left-color: var(--fill-color);\n",
              "    }\n",
              "    20% {\n",
              "      border-color: transparent;\n",
              "      border-left-color: var(--fill-color);\n",
              "      border-top-color: var(--fill-color);\n",
              "    }\n",
              "    30% {\n",
              "      border-color: transparent;\n",
              "      border-left-color: var(--fill-color);\n",
              "      border-top-color: var(--fill-color);\n",
              "      border-right-color: var(--fill-color);\n",
              "    }\n",
              "    40% {\n",
              "      border-color: transparent;\n",
              "      border-right-color: var(--fill-color);\n",
              "      border-top-color: var(--fill-color);\n",
              "    }\n",
              "    60% {\n",
              "      border-color: transparent;\n",
              "      border-right-color: var(--fill-color);\n",
              "    }\n",
              "    80% {\n",
              "      border-color: transparent;\n",
              "      border-right-color: var(--fill-color);\n",
              "      border-bottom-color: var(--fill-color);\n",
              "    }\n",
              "    90% {\n",
              "      border-color: transparent;\n",
              "      border-bottom-color: var(--fill-color);\n",
              "    }\n",
              "  }\n",
              "</style>\n",
              "\n",
              "  <script>\n",
              "    async function quickchart(key) {\n",
              "      const quickchartButtonEl =\n",
              "        document.querySelector('#' + key + ' button');\n",
              "      quickchartButtonEl.disabled = true;  // To prevent multiple clicks.\n",
              "      quickchartButtonEl.classList.add('colab-df-spinner');\n",
              "      try {\n",
              "        const charts = await google.colab.kernel.invokeFunction(\n",
              "            'suggestCharts', [key], {});\n",
              "      } catch (error) {\n",
              "        console.error('Error during call to suggestCharts:', error);\n",
              "      }\n",
              "      quickchartButtonEl.classList.remove('colab-df-spinner');\n",
              "      quickchartButtonEl.classList.add('colab-df-quickchart-complete');\n",
              "    }\n",
              "    (() => {\n",
              "      let quickchartButtonEl =\n",
              "        document.querySelector('#df-bb19380e-3625-4560-89b7-9cfbb682dc89 button');\n",
              "      quickchartButtonEl.style.display =\n",
              "        google.colab.kernel.accessAllowed ? 'block' : 'none';\n",
              "    })();\n",
              "  </script>\n",
              "</div>\n",
              "\n",
              "    </div>\n",
              "  </div>\n"
            ],
            "application/vnd.google.colaboratory.intrinsic+json": {
              "type": "dataframe",
              "variable_name": "movie_df",
              "summary": "{\n  \"name\": \"movie_df\",\n  \"rows\": 15509,\n  \"fields\": [\n    {\n      \"column\": \"Name\",\n      \"properties\": {\n        \"dtype\": \"string\",\n        \"num_unique_values\": 13838,\n        \"samples\": [\n          \"Tumsa Nahin Dekha\",\n          \"Thanedaar\",\n          \"Farzande Hind\"\n        ],\n        \"semantic_type\": \"\",\n        \"description\": \"\"\n      }\n    },\n    {\n      \"column\": \"Year\",\n      \"properties\": {\n        \"dtype\": \"category\",\n        \"num_unique_values\": 102,\n        \"samples\": [\n          \"(1974)\",\n          \"(1963)\",\n          \"(1971)\"\n        ],\n        \"semantic_type\": \"\",\n        \"description\": \"\"\n      }\n    },\n    {\n      \"column\": \"Duration\",\n      \"properties\": {\n        \"dtype\": \"category\",\n        \"num_unique_values\": 182,\n        \"samples\": [\n          \"168 min\",\n          \"99 min\",\n          \"179 min\"\n        ],\n        \"semantic_type\": \"\",\n        \"description\": \"\"\n      }\n    },\n    {\n      \"column\": \"Genre\",\n      \"properties\": {\n        \"dtype\": \"category\",\n        \"num_unique_values\": 485,\n        \"samples\": [\n          \"Family, Mystery\",\n          \"Comedy, Fantasy, Musical\",\n          \"Action, Adventure, Crime\"\n        ],\n        \"semantic_type\": \"\",\n        \"description\": \"\"\n      }\n    },\n    {\n      \"column\": \"Rating\",\n      \"properties\": {\n        \"dtype\": \"number\",\n        \"std\": 1.3817771548659665,\n        \"min\": 1.1,\n        \"max\": 10.0,\n        \"num_unique_values\": 84,\n        \"samples\": [\n          1.4,\n          7.0,\n          2.9\n        ],\n        \"semantic_type\": \"\",\n        \"description\": \"\"\n      }\n    },\n    {\n      \"column\": \"Votes\",\n      \"properties\": {\n        \"dtype\": \"category\",\n        \"num_unique_values\": 2034,\n        \"samples\": [\n          \"837\",\n          \"101\",\n          \"2,566\"\n        ],\n        \"semantic_type\": \"\",\n        \"description\": \"\"\n      }\n    },\n    {\n      \"column\": \"Director\",\n      \"properties\": {\n        \"dtype\": \"category\",\n        \"num_unique_values\": 5938,\n        \"samples\": [\n          \"Param Hans Chitra\",\n          \"Vickram\",\n          \"Zaigham Ali Syed\"\n        ],\n        \"semantic_type\": \"\",\n        \"description\": \"\"\n      }\n    },\n    {\n      \"column\": \"Actor 1\",\n      \"properties\": {\n        \"dtype\": \"category\",\n        \"num_unique_values\": 4718,\n        \"samples\": [\n          \"Abhishek Bachchan\",\n          \"Giri Babu\",\n          \"Ajay Bafna\"\n        ],\n        \"semantic_type\": \"\",\n        \"description\": \"\"\n      }\n    },\n    {\n      \"column\": \"Actor 2\",\n      \"properties\": {\n        \"dtype\": \"category\",\n        \"num_unique_values\": 4891,\n        \"samples\": [\n          \"Bipasha Basu\",\n          \"Mukul Dev\",\n          \"Arjun Kapoor\"\n        ],\n        \"semantic_type\": \"\",\n        \"description\": \"\"\n      }\n    },\n    {\n      \"column\": \"Actor 3\",\n      \"properties\": {\n        \"dtype\": \"category\",\n        \"num_unique_values\": 4820,\n        \"samples\": [\n          \"Damandeep Singh\",\n          \"Kamini Kaushal\",\n          \"Babu\"\n        ],\n        \"semantic_type\": \"\",\n        \"description\": \"\"\n      }\n    }\n  ]\n}"
            }
          },
          "metadata": {},
          "execution_count": 38
        }
      ]
    },
    {
      "cell_type": "code",
      "source": [
        "movie_df = movie_df.dropna()"
      ],
      "metadata": {
        "id": "LHgzn9tln7Zj"
      },
      "execution_count": 39,
      "outputs": []
    },
    {
      "cell_type": "code",
      "source": [
        "#ตัด () ออกจากค่าใน  col year และแปลงค่าเปนตัวเลข\n",
        "movie_df['Year'] = movie_df['Year'].str.replace('(','').str.replace(')','').astype(int)"
      ],
      "metadata": {
        "id": "Uomm2ebfoyJQ"
      },
      "execution_count": 40,
      "outputs": []
    },
    {
      "cell_type": "code",
      "source": [
        "movie_df['Duration'] = movie_df['Duration'].str.replace('min','').astype(int)"
      ],
      "metadata": {
        "id": "WJnZO0cMpVhD"
      },
      "execution_count": 41,
      "outputs": []
    },
    {
      "cell_type": "code",
      "source": [
        "# prompt: dropna ข้อมูลไปแล้วเหลือข้อมูลกี่ %\n",
        "\n",
        "remaining_percentage = (drop_alr[0] / movie_df.shape[0]) * 100\n",
        "print(f'dropna ข้อมูลไปแล้วเหลือข้อมูล {remaining_percentage:.2f} %')\n"
      ],
      "metadata": {
        "id": "P--0JbSBoTFL"
      },
      "execution_count": null,
      "outputs": []
    },
    {
      "cell_type": "markdown",
      "metadata": {
        "id": "gXOzi1O6BAFO"
      },
      "source": [
        "# Function ตัวช่วยใน pandas"
      ]
    },
    {
      "cell_type": "markdown",
      "metadata": {
        "id": "TvToU8hCCJL-"
      },
      "source": [
        "### ```.describe()``` คำนวณค่าทางสถิติของข้อมูลที่เป็นตัวเลข"
      ]
    },
    {
      "cell_type": "code",
      "source": [
        "movie_df.describe()"
      ],
      "metadata": {
        "colab": {
          "base_uri": "https://localhost:8080/",
          "height": 300
        },
        "id": "Eg3MZBvrp-0N",
        "outputId": "ae2bee63-cefe-48b5-8aa0-0e6456a04e45"
      },
      "execution_count": 42,
      "outputs": [
        {
          "output_type": "execute_result",
          "data": {
            "text/plain": [
              "              Year     Duration       Rating\n",
              "count  5659.000000  5659.000000  5659.000000\n",
              "mean   1996.247570   133.439124     5.898533\n",
              "std      19.741839    25.319939     1.381165\n",
              "min    1931.000000    21.000000     1.100000\n",
              "25%    1983.000000   119.000000     5.000000\n",
              "50%    2002.000000   135.000000     6.100000\n",
              "75%    2013.000000   150.000000     6.900000\n",
              "max    2021.000000   321.000000    10.000000"
            ],
            "text/html": [
              "\n",
              "  <div id=\"df-b91788cd-747c-4988-a048-ac1a2ac9536e\" class=\"colab-df-container\">\n",
              "    <div>\n",
              "<style scoped>\n",
              "    .dataframe tbody tr th:only-of-type {\n",
              "        vertical-align: middle;\n",
              "    }\n",
              "\n",
              "    .dataframe tbody tr th {\n",
              "        vertical-align: top;\n",
              "    }\n",
              "\n",
              "    .dataframe thead th {\n",
              "        text-align: right;\n",
              "    }\n",
              "</style>\n",
              "<table border=\"1\" class=\"dataframe\">\n",
              "  <thead>\n",
              "    <tr style=\"text-align: right;\">\n",
              "      <th></th>\n",
              "      <th>Year</th>\n",
              "      <th>Duration</th>\n",
              "      <th>Rating</th>\n",
              "    </tr>\n",
              "  </thead>\n",
              "  <tbody>\n",
              "    <tr>\n",
              "      <th>count</th>\n",
              "      <td>5659.000000</td>\n",
              "      <td>5659.000000</td>\n",
              "      <td>5659.000000</td>\n",
              "    </tr>\n",
              "    <tr>\n",
              "      <th>mean</th>\n",
              "      <td>1996.247570</td>\n",
              "      <td>133.439124</td>\n",
              "      <td>5.898533</td>\n",
              "    </tr>\n",
              "    <tr>\n",
              "      <th>std</th>\n",
              "      <td>19.741839</td>\n",
              "      <td>25.319939</td>\n",
              "      <td>1.381165</td>\n",
              "    </tr>\n",
              "    <tr>\n",
              "      <th>min</th>\n",
              "      <td>1931.000000</td>\n",
              "      <td>21.000000</td>\n",
              "      <td>1.100000</td>\n",
              "    </tr>\n",
              "    <tr>\n",
              "      <th>25%</th>\n",
              "      <td>1983.000000</td>\n",
              "      <td>119.000000</td>\n",
              "      <td>5.000000</td>\n",
              "    </tr>\n",
              "    <tr>\n",
              "      <th>50%</th>\n",
              "      <td>2002.000000</td>\n",
              "      <td>135.000000</td>\n",
              "      <td>6.100000</td>\n",
              "    </tr>\n",
              "    <tr>\n",
              "      <th>75%</th>\n",
              "      <td>2013.000000</td>\n",
              "      <td>150.000000</td>\n",
              "      <td>6.900000</td>\n",
              "    </tr>\n",
              "    <tr>\n",
              "      <th>max</th>\n",
              "      <td>2021.000000</td>\n",
              "      <td>321.000000</td>\n",
              "      <td>10.000000</td>\n",
              "    </tr>\n",
              "  </tbody>\n",
              "</table>\n",
              "</div>\n",
              "    <div class=\"colab-df-buttons\">\n",
              "\n",
              "  <div class=\"colab-df-container\">\n",
              "    <button class=\"colab-df-convert\" onclick=\"convertToInteractive('df-b91788cd-747c-4988-a048-ac1a2ac9536e')\"\n",
              "            title=\"Convert this dataframe to an interactive table.\"\n",
              "            style=\"display:none;\">\n",
              "\n",
              "  <svg xmlns=\"http://www.w3.org/2000/svg\" height=\"24px\" viewBox=\"0 -960 960 960\">\n",
              "    <path d=\"M120-120v-720h720v720H120Zm60-500h600v-160H180v160Zm220 220h160v-160H400v160Zm0 220h160v-160H400v160ZM180-400h160v-160H180v160Zm440 0h160v-160H620v160ZM180-180h160v-160H180v160Zm440 0h160v-160H620v160Z\"/>\n",
              "  </svg>\n",
              "    </button>\n",
              "\n",
              "  <style>\n",
              "    .colab-df-container {\n",
              "      display:flex;\n",
              "      gap: 12px;\n",
              "    }\n",
              "\n",
              "    .colab-df-convert {\n",
              "      background-color: #E8F0FE;\n",
              "      border: none;\n",
              "      border-radius: 50%;\n",
              "      cursor: pointer;\n",
              "      display: none;\n",
              "      fill: #1967D2;\n",
              "      height: 32px;\n",
              "      padding: 0 0 0 0;\n",
              "      width: 32px;\n",
              "    }\n",
              "\n",
              "    .colab-df-convert:hover {\n",
              "      background-color: #E2EBFA;\n",
              "      box-shadow: 0px 1px 2px rgba(60, 64, 67, 0.3), 0px 1px 3px 1px rgba(60, 64, 67, 0.15);\n",
              "      fill: #174EA6;\n",
              "    }\n",
              "\n",
              "    .colab-df-buttons div {\n",
              "      margin-bottom: 4px;\n",
              "    }\n",
              "\n",
              "    [theme=dark] .colab-df-convert {\n",
              "      background-color: #3B4455;\n",
              "      fill: #D2E3FC;\n",
              "    }\n",
              "\n",
              "    [theme=dark] .colab-df-convert:hover {\n",
              "      background-color: #434B5C;\n",
              "      box-shadow: 0px 1px 3px 1px rgba(0, 0, 0, 0.15);\n",
              "      filter: drop-shadow(0px 1px 2px rgba(0, 0, 0, 0.3));\n",
              "      fill: #FFFFFF;\n",
              "    }\n",
              "  </style>\n",
              "\n",
              "    <script>\n",
              "      const buttonEl =\n",
              "        document.querySelector('#df-b91788cd-747c-4988-a048-ac1a2ac9536e button.colab-df-convert');\n",
              "      buttonEl.style.display =\n",
              "        google.colab.kernel.accessAllowed ? 'block' : 'none';\n",
              "\n",
              "      async function convertToInteractive(key) {\n",
              "        const element = document.querySelector('#df-b91788cd-747c-4988-a048-ac1a2ac9536e');\n",
              "        const dataTable =\n",
              "          await google.colab.kernel.invokeFunction('convertToInteractive',\n",
              "                                                    [key], {});\n",
              "        if (!dataTable) return;\n",
              "\n",
              "        const docLinkHtml = 'Like what you see? Visit the ' +\n",
              "          '<a target=\"_blank\" href=https://colab.research.google.com/notebooks/data_table.ipynb>data table notebook</a>'\n",
              "          + ' to learn more about interactive tables.';\n",
              "        element.innerHTML = '';\n",
              "        dataTable['output_type'] = 'display_data';\n",
              "        await google.colab.output.renderOutput(dataTable, element);\n",
              "        const docLink = document.createElement('div');\n",
              "        docLink.innerHTML = docLinkHtml;\n",
              "        element.appendChild(docLink);\n",
              "      }\n",
              "    </script>\n",
              "  </div>\n",
              "\n",
              "\n",
              "<div id=\"df-5eedf743-dd83-44ce-a712-657ed51005b9\">\n",
              "  <button class=\"colab-df-quickchart\" onclick=\"quickchart('df-5eedf743-dd83-44ce-a712-657ed51005b9')\"\n",
              "            title=\"Suggest charts\"\n",
              "            style=\"display:none;\">\n",
              "\n",
              "<svg xmlns=\"http://www.w3.org/2000/svg\" height=\"24px\"viewBox=\"0 0 24 24\"\n",
              "     width=\"24px\">\n",
              "    <g>\n",
              "        <path d=\"M19 3H5c-1.1 0-2 .9-2 2v14c0 1.1.9 2 2 2h14c1.1 0 2-.9 2-2V5c0-1.1-.9-2-2-2zM9 17H7v-7h2v7zm4 0h-2V7h2v10zm4 0h-2v-4h2v4z\"/>\n",
              "    </g>\n",
              "</svg>\n",
              "  </button>\n",
              "\n",
              "<style>\n",
              "  .colab-df-quickchart {\n",
              "      --bg-color: #E8F0FE;\n",
              "      --fill-color: #1967D2;\n",
              "      --hover-bg-color: #E2EBFA;\n",
              "      --hover-fill-color: #174EA6;\n",
              "      --disabled-fill-color: #AAA;\n",
              "      --disabled-bg-color: #DDD;\n",
              "  }\n",
              "\n",
              "  [theme=dark] .colab-df-quickchart {\n",
              "      --bg-color: #3B4455;\n",
              "      --fill-color: #D2E3FC;\n",
              "      --hover-bg-color: #434B5C;\n",
              "      --hover-fill-color: #FFFFFF;\n",
              "      --disabled-bg-color: #3B4455;\n",
              "      --disabled-fill-color: #666;\n",
              "  }\n",
              "\n",
              "  .colab-df-quickchart {\n",
              "    background-color: var(--bg-color);\n",
              "    border: none;\n",
              "    border-radius: 50%;\n",
              "    cursor: pointer;\n",
              "    display: none;\n",
              "    fill: var(--fill-color);\n",
              "    height: 32px;\n",
              "    padding: 0;\n",
              "    width: 32px;\n",
              "  }\n",
              "\n",
              "  .colab-df-quickchart:hover {\n",
              "    background-color: var(--hover-bg-color);\n",
              "    box-shadow: 0 1px 2px rgba(60, 64, 67, 0.3), 0 1px 3px 1px rgba(60, 64, 67, 0.15);\n",
              "    fill: var(--button-hover-fill-color);\n",
              "  }\n",
              "\n",
              "  .colab-df-quickchart-complete:disabled,\n",
              "  .colab-df-quickchart-complete:disabled:hover {\n",
              "    background-color: var(--disabled-bg-color);\n",
              "    fill: var(--disabled-fill-color);\n",
              "    box-shadow: none;\n",
              "  }\n",
              "\n",
              "  .colab-df-spinner {\n",
              "    border: 2px solid var(--fill-color);\n",
              "    border-color: transparent;\n",
              "    border-bottom-color: var(--fill-color);\n",
              "    animation:\n",
              "      spin 1s steps(1) infinite;\n",
              "  }\n",
              "\n",
              "  @keyframes spin {\n",
              "    0% {\n",
              "      border-color: transparent;\n",
              "      border-bottom-color: var(--fill-color);\n",
              "      border-left-color: var(--fill-color);\n",
              "    }\n",
              "    20% {\n",
              "      border-color: transparent;\n",
              "      border-left-color: var(--fill-color);\n",
              "      border-top-color: var(--fill-color);\n",
              "    }\n",
              "    30% {\n",
              "      border-color: transparent;\n",
              "      border-left-color: var(--fill-color);\n",
              "      border-top-color: var(--fill-color);\n",
              "      border-right-color: var(--fill-color);\n",
              "    }\n",
              "    40% {\n",
              "      border-color: transparent;\n",
              "      border-right-color: var(--fill-color);\n",
              "      border-top-color: var(--fill-color);\n",
              "    }\n",
              "    60% {\n",
              "      border-color: transparent;\n",
              "      border-right-color: var(--fill-color);\n",
              "    }\n",
              "    80% {\n",
              "      border-color: transparent;\n",
              "      border-right-color: var(--fill-color);\n",
              "      border-bottom-color: var(--fill-color);\n",
              "    }\n",
              "    90% {\n",
              "      border-color: transparent;\n",
              "      border-bottom-color: var(--fill-color);\n",
              "    }\n",
              "  }\n",
              "</style>\n",
              "\n",
              "  <script>\n",
              "    async function quickchart(key) {\n",
              "      const quickchartButtonEl =\n",
              "        document.querySelector('#' + key + ' button');\n",
              "      quickchartButtonEl.disabled = true;  // To prevent multiple clicks.\n",
              "      quickchartButtonEl.classList.add('colab-df-spinner');\n",
              "      try {\n",
              "        const charts = await google.colab.kernel.invokeFunction(\n",
              "            'suggestCharts', [key], {});\n",
              "      } catch (error) {\n",
              "        console.error('Error during call to suggestCharts:', error);\n",
              "      }\n",
              "      quickchartButtonEl.classList.remove('colab-df-spinner');\n",
              "      quickchartButtonEl.classList.add('colab-df-quickchart-complete');\n",
              "    }\n",
              "    (() => {\n",
              "      let quickchartButtonEl =\n",
              "        document.querySelector('#df-5eedf743-dd83-44ce-a712-657ed51005b9 button');\n",
              "      quickchartButtonEl.style.display =\n",
              "        google.colab.kernel.accessAllowed ? 'block' : 'none';\n",
              "    })();\n",
              "  </script>\n",
              "</div>\n",
              "\n",
              "    </div>\n",
              "  </div>\n"
            ],
            "application/vnd.google.colaboratory.intrinsic+json": {
              "type": "dataframe",
              "summary": "{\n  \"name\": \"movie_df\",\n  \"rows\": 8,\n  \"fields\": [\n    {\n      \"column\": \"Year\",\n      \"properties\": {\n        \"dtype\": \"number\",\n        \"std\": 1557.7138762209756,\n        \"min\": 19.741839278910184,\n        \"max\": 5659.0,\n        \"num_unique_values\": 8,\n        \"samples\": [\n          1996.2475702420923,\n          2002.0,\n          5659.0\n        ],\n        \"semantic_type\": \"\",\n        \"description\": \"\"\n      }\n    },\n    {\n      \"column\": \"Duration\",\n      \"properties\": {\n        \"dtype\": \"number\",\n        \"std\": 1957.2476838235953,\n        \"min\": 21.0,\n        \"max\": 5659.0,\n        \"num_unique_values\": 8,\n        \"samples\": [\n          133.43912352005654,\n          135.0,\n          5659.0\n        ],\n        \"semantic_type\": \"\",\n        \"description\": \"\"\n      }\n    },\n    {\n      \"column\": \"Rating\",\n      \"properties\": {\n        \"dtype\": \"number\",\n        \"std\": 1998.9232812985224,\n        \"min\": 1.1,\n        \"max\": 5659.0,\n        \"num_unique_values\": 8,\n        \"samples\": [\n          5.898533309772045,\n          6.1,\n          5659.0\n        ],\n        \"semantic_type\": \"\",\n        \"description\": \"\"\n      }\n    }\n  ]\n}"
            }
          },
          "metadata": {},
          "execution_count": 42
        }
      ]
    },
    {
      "cell_type": "markdown",
      "source": [
        "สร้างตารางของผู้กำกับที่มีหนังมากที่สุด"
      ],
      "metadata": {
        "id": "DbtG2J0dqquM"
      }
    },
    {
      "cell_type": "code",
      "source": [
        "# prompt: สร้างตาราง\n",
        "\n",
        "movie_df['Director'].value_counts()\n",
        "director_count = movie_df['Director'].value_counts()\n",
        "director_count.to_frame()\n",
        "director_count.to_frame().reset_index()\n",
        "director_count_df = director_count.to_frame().reset_index().rename(columns={'index':'Director','Director':'Movie_count'})\n",
        "director_count_df\n"
      ],
      "metadata": {
        "colab": {
          "base_uri": "https://localhost:8080/",
          "height": 423
        },
        "id": "mDjVZQ7-rCYg",
        "outputId": "adfd7a90-311a-4011-a29f-7c3786e751e4"
      },
      "execution_count": 44,
      "outputs": [
        {
          "output_type": "execute_result",
          "data": {
            "text/plain": [
              "               Movie_count  count\n",
              "0             David Dhawan     41\n",
              "1             Mahesh Bhatt     39\n",
              "2          Ram Gopal Varma     33\n",
              "3     Hrishikesh Mukherjee     33\n",
              "4           Shakti Samanta     33\n",
              "...                    ...    ...\n",
              "2426           Sriram Raja      1\n",
              "2427           Randeep Jha      1\n",
              "2428        Vicky Bhardwaj      1\n",
              "2429          Salar Shaikh      1\n",
              "2430           Mozez Singh      1\n",
              "\n",
              "[2431 rows x 2 columns]"
            ],
            "text/html": [
              "\n",
              "  <div id=\"df-3f29f718-5d49-46c7-af7f-537ecb2c97c7\" class=\"colab-df-container\">\n",
              "    <div>\n",
              "<style scoped>\n",
              "    .dataframe tbody tr th:only-of-type {\n",
              "        vertical-align: middle;\n",
              "    }\n",
              "\n",
              "    .dataframe tbody tr th {\n",
              "        vertical-align: top;\n",
              "    }\n",
              "\n",
              "    .dataframe thead th {\n",
              "        text-align: right;\n",
              "    }\n",
              "</style>\n",
              "<table border=\"1\" class=\"dataframe\">\n",
              "  <thead>\n",
              "    <tr style=\"text-align: right;\">\n",
              "      <th></th>\n",
              "      <th>Movie_count</th>\n",
              "      <th>count</th>\n",
              "    </tr>\n",
              "  </thead>\n",
              "  <tbody>\n",
              "    <tr>\n",
              "      <th>0</th>\n",
              "      <td>David Dhawan</td>\n",
              "      <td>41</td>\n",
              "    </tr>\n",
              "    <tr>\n",
              "      <th>1</th>\n",
              "      <td>Mahesh Bhatt</td>\n",
              "      <td>39</td>\n",
              "    </tr>\n",
              "    <tr>\n",
              "      <th>2</th>\n",
              "      <td>Ram Gopal Varma</td>\n",
              "      <td>33</td>\n",
              "    </tr>\n",
              "    <tr>\n",
              "      <th>3</th>\n",
              "      <td>Hrishikesh Mukherjee</td>\n",
              "      <td>33</td>\n",
              "    </tr>\n",
              "    <tr>\n",
              "      <th>4</th>\n",
              "      <td>Shakti Samanta</td>\n",
              "      <td>33</td>\n",
              "    </tr>\n",
              "    <tr>\n",
              "      <th>...</th>\n",
              "      <td>...</td>\n",
              "      <td>...</td>\n",
              "    </tr>\n",
              "    <tr>\n",
              "      <th>2426</th>\n",
              "      <td>Sriram Raja</td>\n",
              "      <td>1</td>\n",
              "    </tr>\n",
              "    <tr>\n",
              "      <th>2427</th>\n",
              "      <td>Randeep Jha</td>\n",
              "      <td>1</td>\n",
              "    </tr>\n",
              "    <tr>\n",
              "      <th>2428</th>\n",
              "      <td>Vicky Bhardwaj</td>\n",
              "      <td>1</td>\n",
              "    </tr>\n",
              "    <tr>\n",
              "      <th>2429</th>\n",
              "      <td>Salar Shaikh</td>\n",
              "      <td>1</td>\n",
              "    </tr>\n",
              "    <tr>\n",
              "      <th>2430</th>\n",
              "      <td>Mozez Singh</td>\n",
              "      <td>1</td>\n",
              "    </tr>\n",
              "  </tbody>\n",
              "</table>\n",
              "<p>2431 rows × 2 columns</p>\n",
              "</div>\n",
              "    <div class=\"colab-df-buttons\">\n",
              "\n",
              "  <div class=\"colab-df-container\">\n",
              "    <button class=\"colab-df-convert\" onclick=\"convertToInteractive('df-3f29f718-5d49-46c7-af7f-537ecb2c97c7')\"\n",
              "            title=\"Convert this dataframe to an interactive table.\"\n",
              "            style=\"display:none;\">\n",
              "\n",
              "  <svg xmlns=\"http://www.w3.org/2000/svg\" height=\"24px\" viewBox=\"0 -960 960 960\">\n",
              "    <path d=\"M120-120v-720h720v720H120Zm60-500h600v-160H180v160Zm220 220h160v-160H400v160Zm0 220h160v-160H400v160ZM180-400h160v-160H180v160Zm440 0h160v-160H620v160ZM180-180h160v-160H180v160Zm440 0h160v-160H620v160Z\"/>\n",
              "  </svg>\n",
              "    </button>\n",
              "\n",
              "  <style>\n",
              "    .colab-df-container {\n",
              "      display:flex;\n",
              "      gap: 12px;\n",
              "    }\n",
              "\n",
              "    .colab-df-convert {\n",
              "      background-color: #E8F0FE;\n",
              "      border: none;\n",
              "      border-radius: 50%;\n",
              "      cursor: pointer;\n",
              "      display: none;\n",
              "      fill: #1967D2;\n",
              "      height: 32px;\n",
              "      padding: 0 0 0 0;\n",
              "      width: 32px;\n",
              "    }\n",
              "\n",
              "    .colab-df-convert:hover {\n",
              "      background-color: #E2EBFA;\n",
              "      box-shadow: 0px 1px 2px rgba(60, 64, 67, 0.3), 0px 1px 3px 1px rgba(60, 64, 67, 0.15);\n",
              "      fill: #174EA6;\n",
              "    }\n",
              "\n",
              "    .colab-df-buttons div {\n",
              "      margin-bottom: 4px;\n",
              "    }\n",
              "\n",
              "    [theme=dark] .colab-df-convert {\n",
              "      background-color: #3B4455;\n",
              "      fill: #D2E3FC;\n",
              "    }\n",
              "\n",
              "    [theme=dark] .colab-df-convert:hover {\n",
              "      background-color: #434B5C;\n",
              "      box-shadow: 0px 1px 3px 1px rgba(0, 0, 0, 0.15);\n",
              "      filter: drop-shadow(0px 1px 2px rgba(0, 0, 0, 0.3));\n",
              "      fill: #FFFFFF;\n",
              "    }\n",
              "  </style>\n",
              "\n",
              "    <script>\n",
              "      const buttonEl =\n",
              "        document.querySelector('#df-3f29f718-5d49-46c7-af7f-537ecb2c97c7 button.colab-df-convert');\n",
              "      buttonEl.style.display =\n",
              "        google.colab.kernel.accessAllowed ? 'block' : 'none';\n",
              "\n",
              "      async function convertToInteractive(key) {\n",
              "        const element = document.querySelector('#df-3f29f718-5d49-46c7-af7f-537ecb2c97c7');\n",
              "        const dataTable =\n",
              "          await google.colab.kernel.invokeFunction('convertToInteractive',\n",
              "                                                    [key], {});\n",
              "        if (!dataTable) return;\n",
              "\n",
              "        const docLinkHtml = 'Like what you see? Visit the ' +\n",
              "          '<a target=\"_blank\" href=https://colab.research.google.com/notebooks/data_table.ipynb>data table notebook</a>'\n",
              "          + ' to learn more about interactive tables.';\n",
              "        element.innerHTML = '';\n",
              "        dataTable['output_type'] = 'display_data';\n",
              "        await google.colab.output.renderOutput(dataTable, element);\n",
              "        const docLink = document.createElement('div');\n",
              "        docLink.innerHTML = docLinkHtml;\n",
              "        element.appendChild(docLink);\n",
              "      }\n",
              "    </script>\n",
              "  </div>\n",
              "\n",
              "\n",
              "<div id=\"df-71606957-9a00-4699-bde4-fbb6af1f6bd1\">\n",
              "  <button class=\"colab-df-quickchart\" onclick=\"quickchart('df-71606957-9a00-4699-bde4-fbb6af1f6bd1')\"\n",
              "            title=\"Suggest charts\"\n",
              "            style=\"display:none;\">\n",
              "\n",
              "<svg xmlns=\"http://www.w3.org/2000/svg\" height=\"24px\"viewBox=\"0 0 24 24\"\n",
              "     width=\"24px\">\n",
              "    <g>\n",
              "        <path d=\"M19 3H5c-1.1 0-2 .9-2 2v14c0 1.1.9 2 2 2h14c1.1 0 2-.9 2-2V5c0-1.1-.9-2-2-2zM9 17H7v-7h2v7zm4 0h-2V7h2v10zm4 0h-2v-4h2v4z\"/>\n",
              "    </g>\n",
              "</svg>\n",
              "  </button>\n",
              "\n",
              "<style>\n",
              "  .colab-df-quickchart {\n",
              "      --bg-color: #E8F0FE;\n",
              "      --fill-color: #1967D2;\n",
              "      --hover-bg-color: #E2EBFA;\n",
              "      --hover-fill-color: #174EA6;\n",
              "      --disabled-fill-color: #AAA;\n",
              "      --disabled-bg-color: #DDD;\n",
              "  }\n",
              "\n",
              "  [theme=dark] .colab-df-quickchart {\n",
              "      --bg-color: #3B4455;\n",
              "      --fill-color: #D2E3FC;\n",
              "      --hover-bg-color: #434B5C;\n",
              "      --hover-fill-color: #FFFFFF;\n",
              "      --disabled-bg-color: #3B4455;\n",
              "      --disabled-fill-color: #666;\n",
              "  }\n",
              "\n",
              "  .colab-df-quickchart {\n",
              "    background-color: var(--bg-color);\n",
              "    border: none;\n",
              "    border-radius: 50%;\n",
              "    cursor: pointer;\n",
              "    display: none;\n",
              "    fill: var(--fill-color);\n",
              "    height: 32px;\n",
              "    padding: 0;\n",
              "    width: 32px;\n",
              "  }\n",
              "\n",
              "  .colab-df-quickchart:hover {\n",
              "    background-color: var(--hover-bg-color);\n",
              "    box-shadow: 0 1px 2px rgba(60, 64, 67, 0.3), 0 1px 3px 1px rgba(60, 64, 67, 0.15);\n",
              "    fill: var(--button-hover-fill-color);\n",
              "  }\n",
              "\n",
              "  .colab-df-quickchart-complete:disabled,\n",
              "  .colab-df-quickchart-complete:disabled:hover {\n",
              "    background-color: var(--disabled-bg-color);\n",
              "    fill: var(--disabled-fill-color);\n",
              "    box-shadow: none;\n",
              "  }\n",
              "\n",
              "  .colab-df-spinner {\n",
              "    border: 2px solid var(--fill-color);\n",
              "    border-color: transparent;\n",
              "    border-bottom-color: var(--fill-color);\n",
              "    animation:\n",
              "      spin 1s steps(1) infinite;\n",
              "  }\n",
              "\n",
              "  @keyframes spin {\n",
              "    0% {\n",
              "      border-color: transparent;\n",
              "      border-bottom-color: var(--fill-color);\n",
              "      border-left-color: var(--fill-color);\n",
              "    }\n",
              "    20% {\n",
              "      border-color: transparent;\n",
              "      border-left-color: var(--fill-color);\n",
              "      border-top-color: var(--fill-color);\n",
              "    }\n",
              "    30% {\n",
              "      border-color: transparent;\n",
              "      border-left-color: var(--fill-color);\n",
              "      border-top-color: var(--fill-color);\n",
              "      border-right-color: var(--fill-color);\n",
              "    }\n",
              "    40% {\n",
              "      border-color: transparent;\n",
              "      border-right-color: var(--fill-color);\n",
              "      border-top-color: var(--fill-color);\n",
              "    }\n",
              "    60% {\n",
              "      border-color: transparent;\n",
              "      border-right-color: var(--fill-color);\n",
              "    }\n",
              "    80% {\n",
              "      border-color: transparent;\n",
              "      border-right-color: var(--fill-color);\n",
              "      border-bottom-color: var(--fill-color);\n",
              "    }\n",
              "    90% {\n",
              "      border-color: transparent;\n",
              "      border-bottom-color: var(--fill-color);\n",
              "    }\n",
              "  }\n",
              "</style>\n",
              "\n",
              "  <script>\n",
              "    async function quickchart(key) {\n",
              "      const quickchartButtonEl =\n",
              "        document.querySelector('#' + key + ' button');\n",
              "      quickchartButtonEl.disabled = true;  // To prevent multiple clicks.\n",
              "      quickchartButtonEl.classList.add('colab-df-spinner');\n",
              "      try {\n",
              "        const charts = await google.colab.kernel.invokeFunction(\n",
              "            'suggestCharts', [key], {});\n",
              "      } catch (error) {\n",
              "        console.error('Error during call to suggestCharts:', error);\n",
              "      }\n",
              "      quickchartButtonEl.classList.remove('colab-df-spinner');\n",
              "      quickchartButtonEl.classList.add('colab-df-quickchart-complete');\n",
              "    }\n",
              "    (() => {\n",
              "      let quickchartButtonEl =\n",
              "        document.querySelector('#df-71606957-9a00-4699-bde4-fbb6af1f6bd1 button');\n",
              "      quickchartButtonEl.style.display =\n",
              "        google.colab.kernel.accessAllowed ? 'block' : 'none';\n",
              "    })();\n",
              "  </script>\n",
              "</div>\n",
              "\n",
              "  <div id=\"id_3f61d8cd-d5cb-43a4-bc84-640406e4ffd3\">\n",
              "    <style>\n",
              "      .colab-df-generate {\n",
              "        background-color: #E8F0FE;\n",
              "        border: none;\n",
              "        border-radius: 50%;\n",
              "        cursor: pointer;\n",
              "        display: none;\n",
              "        fill: #1967D2;\n",
              "        height: 32px;\n",
              "        padding: 0 0 0 0;\n",
              "        width: 32px;\n",
              "      }\n",
              "\n",
              "      .colab-df-generate:hover {\n",
              "        background-color: #E2EBFA;\n",
              "        box-shadow: 0px 1px 2px rgba(60, 64, 67, 0.3), 0px 1px 3px 1px rgba(60, 64, 67, 0.15);\n",
              "        fill: #174EA6;\n",
              "      }\n",
              "\n",
              "      [theme=dark] .colab-df-generate {\n",
              "        background-color: #3B4455;\n",
              "        fill: #D2E3FC;\n",
              "      }\n",
              "\n",
              "      [theme=dark] .colab-df-generate:hover {\n",
              "        background-color: #434B5C;\n",
              "        box-shadow: 0px 1px 3px 1px rgba(0, 0, 0, 0.15);\n",
              "        filter: drop-shadow(0px 1px 2px rgba(0, 0, 0, 0.3));\n",
              "        fill: #FFFFFF;\n",
              "      }\n",
              "    </style>\n",
              "    <button class=\"colab-df-generate\" onclick=\"generateWithVariable('director_count_df')\"\n",
              "            title=\"Generate code using this dataframe.\"\n",
              "            style=\"display:none;\">\n",
              "\n",
              "  <svg xmlns=\"http://www.w3.org/2000/svg\" height=\"24px\"viewBox=\"0 0 24 24\"\n",
              "       width=\"24px\">\n",
              "    <path d=\"M7,19H8.4L18.45,9,17,7.55,7,17.6ZM5,21V16.75L18.45,3.32a2,2,0,0,1,2.83,0l1.4,1.43a1.91,1.91,0,0,1,.58,1.4,1.91,1.91,0,0,1-.58,1.4L9.25,21ZM18.45,9,17,7.55Zm-12,3A5.31,5.31,0,0,0,4.9,8.1,5.31,5.31,0,0,0,1,6.5,5.31,5.31,0,0,0,4.9,4.9,5.31,5.31,0,0,0,6.5,1,5.31,5.31,0,0,0,8.1,4.9,5.31,5.31,0,0,0,12,6.5,5.46,5.46,0,0,0,6.5,12Z\"/>\n",
              "  </svg>\n",
              "    </button>\n",
              "    <script>\n",
              "      (() => {\n",
              "      const buttonEl =\n",
              "        document.querySelector('#id_3f61d8cd-d5cb-43a4-bc84-640406e4ffd3 button.colab-df-generate');\n",
              "      buttonEl.style.display =\n",
              "        google.colab.kernel.accessAllowed ? 'block' : 'none';\n",
              "\n",
              "      buttonEl.onclick = () => {\n",
              "        google.colab.notebook.generateWithVariable('director_count_df');\n",
              "      }\n",
              "      })();\n",
              "    </script>\n",
              "  </div>\n",
              "\n",
              "    </div>\n",
              "  </div>\n"
            ],
            "application/vnd.google.colaboratory.intrinsic+json": {
              "type": "dataframe",
              "variable_name": "director_count_df",
              "summary": "{\n  \"name\": \"director_count_df\",\n  \"rows\": 2431,\n  \"fields\": [\n    {\n      \"column\": \"Movie_count\",\n      \"properties\": {\n        \"dtype\": \"string\",\n        \"num_unique_values\": 2431,\n        \"samples\": [\n          \"D.D. Kashyap\",\n          \"N.T. Rama Rao\",\n          \"Rupesh Paul\"\n        ],\n        \"semantic_type\": \"\",\n        \"description\": \"\"\n      }\n    },\n    {\n      \"column\": \"count\",\n      \"properties\": {\n        \"dtype\": \"number\",\n        \"std\": 3,\n        \"min\": 1,\n        \"max\": 41,\n        \"num_unique_values\": 28,\n        \"samples\": [\n          19,\n          3,\n          20\n        ],\n        \"semantic_type\": \"\",\n        \"description\": \"\"\n      }\n    }\n  ]\n}"
            }
          },
          "metadata": {},
          "execution_count": 44
        }
      ]
    },
    {
      "cell_type": "code",
      "source": [
        "# prompt: สร้างตารางหนังของDavid Dhawan\n",
        "\n",
        "movie_df[movie_df['Director']=='David Dhawan']\n"
      ],
      "metadata": {
        "id": "Cda7RxGCqvAc"
      },
      "execution_count": null,
      "outputs": []
    },
    {
      "cell_type": "code",
      "source": [
        "# prompt: สร้างตารางของ director ที่มี name เยอะที่สุด เอาแค่ข้อมูลของคนที่เยอะที่สุด\n",
        "\n",
        "director_count_df.iloc[director_count_df['Director'].str.len().idxmax():director_count_df['Director'].str.len().idxmax()+1,:]\n"
      ],
      "metadata": {
        "id": "K3MAEIDgrXNl"
      },
      "execution_count": null,
      "outputs": []
    },
    {
      "cell_type": "markdown",
      "source": [
        "####ของเดิม"
      ],
      "metadata": {
        "id": "NIyBvF-jp5m9"
      }
    },
    {
      "cell_type": "code",
      "metadata": {
        "id": "XM8qJ0o7A7ip",
        "outputId": "4468b28c-7d4e-49a2-afc7-013e148b0d22",
        "colab": {
          "base_uri": "https://localhost:8080/",
          "height": 294
        }
      },
      "source": [
        "data_covid.describe()"
      ],
      "execution_count": null,
      "outputs": [
        {
          "output_type": "execute_result",
          "data": {
            "text/html": [
              "<div>\n",
              "<style scoped>\n",
              "    .dataframe tbody tr th:only-of-type {\n",
              "        vertical-align: middle;\n",
              "    }\n",
              "\n",
              "    .dataframe tbody tr th {\n",
              "        vertical-align: top;\n",
              "    }\n",
              "\n",
              "    .dataframe thead th {\n",
              "        text-align: right;\n",
              "    }\n",
              "</style>\n",
              "<table border=\"1\" class=\"dataframe\">\n",
              "  <thead>\n",
              "    <tr style=\"text-align: right;\">\n",
              "      <th></th>\n",
              "      <th>No.</th>\n",
              "      <th>age</th>\n",
              "    </tr>\n",
              "  </thead>\n",
              "  <tbody>\n",
              "    <tr>\n",
              "      <th>count</th>\n",
              "      <td>12653.000000</td>\n",
              "      <td>8881.000000</td>\n",
              "    </tr>\n",
              "    <tr>\n",
              "      <th>mean</th>\n",
              "      <td>6327.000000</td>\n",
              "      <td>38.054748</td>\n",
              "    </tr>\n",
              "    <tr>\n",
              "      <th>std</th>\n",
              "      <td>3652.750813</td>\n",
              "      <td>15.125178</td>\n",
              "    </tr>\n",
              "    <tr>\n",
              "      <th>min</th>\n",
              "      <td>1.000000</td>\n",
              "      <td>0.100000</td>\n",
              "    </tr>\n",
              "    <tr>\n",
              "      <th>25%</th>\n",
              "      <td>3164.000000</td>\n",
              "      <td>27.000000</td>\n",
              "    </tr>\n",
              "    <tr>\n",
              "      <th>50%</th>\n",
              "      <td>6327.000000</td>\n",
              "      <td>36.000000</td>\n",
              "    </tr>\n",
              "    <tr>\n",
              "      <th>75%</th>\n",
              "      <td>9490.000000</td>\n",
              "      <td>48.000000</td>\n",
              "    </tr>\n",
              "    <tr>\n",
              "      <th>max</th>\n",
              "      <td>12653.000000</td>\n",
              "      <td>97.000000</td>\n",
              "    </tr>\n",
              "  </tbody>\n",
              "</table>\n",
              "</div>"
            ],
            "text/plain": [
              "                No.          age\n",
              "count  12653.000000  8881.000000\n",
              "mean    6327.000000    38.054748\n",
              "std     3652.750813    15.125178\n",
              "min        1.000000     0.100000\n",
              "25%     3164.000000    27.000000\n",
              "50%     6327.000000    36.000000\n",
              "75%     9490.000000    48.000000\n",
              "max    12653.000000    97.000000"
            ]
          },
          "metadata": {
            "tags": []
          },
          "execution_count": 19
        }
      ]
    },
    {
      "cell_type": "markdown",
      "metadata": {
        "id": "zXToQo4-CaPF"
      },
      "source": [
        "### ```.mean()``` คำนวณค่าเฉลี่ยของข้อมูลโดยไม่สนใจ missing"
      ]
    },
    {
      "cell_type": "code",
      "metadata": {
        "id": "TBwXJCRLBomc",
        "outputId": "5ff7e490-192f-45b8-ae3a-696b1bf5f235",
        "colab": {
          "base_uri": "https://localhost:8080/"
        }
      },
      "source": [
        "data_covid[data_covid['sex']=='ชาย']['age'].mean()"
      ],
      "execution_count": null,
      "outputs": [
        {
          "output_type": "execute_result",
          "data": {
            "text/plain": [
              "39.46076940331987"
            ]
          },
          "metadata": {
            "tags": []
          },
          "execution_count": 20
        }
      ]
    },
    {
      "cell_type": "markdown",
      "source": [
        "#HW6\n",
        "บรรยายเกี่ยวกับผู้กำกับชั้นนำของอินเดีย 3 คนว่าทำไมเราถึงคิดว่าเป็นผู้กำกับชั้นนำ และชั้นนำยังไง (พรีเซ็นคนละ 3 นาที)"
      ],
      "metadata": {
        "id": "CceRL4dlsvm7"
      }
    },
    {
      "cell_type": "markdown",
      "metadata": {
        "id": "NuwVtwnjCpb5"
      },
      "source": [
        "### ```.isnull()```"
      ]
    },
    {
      "cell_type": "markdown",
      "source": [
        "data_covid.isnull()"
      ],
      "metadata": {
        "id": "GNHkaDLMCo5t"
      }
    },
    {
      "cell_type": "markdown",
      "metadata": {
        "id": "mkAeKL1D5HLi"
      },
      "source": [
        "# next\n",
        "*   .describe\n",
        "*   .mean\n",
        "*   HW วนลูป missing .isnull\n",
        "*   ต่อตารางแกน X แกน y\n",
        "*   .groupby\n",
        "*   save table"
      ]
    },
    {
      "cell_type": "code",
      "metadata": {
        "id": "hqgXy4NYxy1W"
      },
      "source": [],
      "execution_count": null,
      "outputs": []
    }
  ]
}